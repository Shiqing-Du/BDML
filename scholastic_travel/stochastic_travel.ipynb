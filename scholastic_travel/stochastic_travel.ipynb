{
  "nbformat": 4,
  "nbformat_minor": 5,
  "metadata": {
    "kernelspec": {
      "display_name": "Python 3",
      "language": "python",
      "name": "python3"
    },
    "language_info": {
      "codemirror_mode": {
        "name": "ipython",
        "version": 3
      },
      "file_extension": ".py",
      "mimetype": "text/x-python",
      "name": "python",
      "nbconvert_exporter": "python",
      "pygments_lexer": "ipython3",
      "version": "3.7.3"
    },
    "colab": {
      "name": "stochastic_travel.ipynb",
      "provenance": [],
      "include_colab_link": true
    }
  },
  "cells": [
    {
      "cell_type": "markdown",
      "metadata": {
        "id": "view-in-github",
        "colab_type": "text"
      },
      "source": [
        "<a href=\"https://colab.research.google.com/github/tleitch/BDML/blob/main/scholastic_travel/stochastic_travel.ipynb\" target=\"_parent\"><img src=\"https://colab.research.google.com/assets/colab-badge.svg\" alt=\"Open In Colab\"/></a>"
      ]
    },
    {
      "cell_type": "code",
      "metadata": {
        "id": "Mguf8tbdxBW-",
        "outputId": "337a624e-6e11-4b58-9bd2-868f799fe0e9"
      },
      "source": [
        "!pip install fancyimpute"
      ],
      "id": "Mguf8tbdxBW-",
      "execution_count": null,
      "outputs": [
        {
          "output_type": "stream",
          "text": [
            "Requirement already satisfied: fancyimpute in /home/harshvardhan/anaconda3/lib/python3.7/site-packages (0.5.5)\n",
            "Requirement already satisfied: numpy>=1.10 in /home/harshvardhan/anaconda3/lib/python3.7/site-packages (from fancyimpute) (1.20.2)\n",
            "Requirement already satisfied: tensorflow in /home/harshvardhan/anaconda3/lib/python3.7/site-packages (from fancyimpute) (2.4.1)\n",
            "Requirement already satisfied: scikit-learn>=0.21.2 in /home/harshvardhan/anaconda3/lib/python3.7/site-packages (from fancyimpute) (0.23.2)\n",
            "Requirement already satisfied: keras>=2.0.0 in /home/harshvardhan/anaconda3/lib/python3.7/site-packages (from fancyimpute) (2.4.3)\n",
            "Requirement already satisfied: cvxpy>=1.0.6 in /home/harshvardhan/anaconda3/lib/python3.7/site-packages (from fancyimpute) (1.1.11)\n",
            "Requirement already satisfied: scipy in /home/harshvardhan/anaconda3/lib/python3.7/site-packages (from fancyimpute) (1.3.0)\n",
            "Requirement already satisfied: knnimpute in /home/harshvardhan/anaconda3/lib/python3.7/site-packages (from fancyimpute) (0.1.0)\n",
            "Requirement already satisfied: wrapt~=1.12.1 in /home/harshvardhan/anaconda3/lib/python3.7/site-packages (from tensorflow->fancyimpute) (1.12.1)\n",
            "Requirement already satisfied: flatbuffers~=1.12.0 in /home/harshvardhan/anaconda3/lib/python3.7/site-packages (from tensorflow->fancyimpute) (1.12)\n",
            "Requirement already satisfied: termcolor~=1.1.0 in /home/harshvardhan/anaconda3/lib/python3.7/site-packages (from tensorflow->fancyimpute) (1.1.0)\n",
            "Requirement already satisfied: tensorboard~=2.4 in /home/harshvardhan/anaconda3/lib/python3.7/site-packages (from tensorflow->fancyimpute) (2.4.1)\n",
            "Requirement already satisfied: absl-py~=0.10 in /home/harshvardhan/anaconda3/lib/python3.7/site-packages (from tensorflow->fancyimpute) (0.12.0)\n",
            "Requirement already satisfied: astunparse~=1.6.3 in /home/harshvardhan/anaconda3/lib/python3.7/site-packages (from tensorflow->fancyimpute) (1.6.3)\n",
            "Collecting h5py~=2.10.0 (from tensorflow->fancyimpute)\n",
            "\u001b[?25l  Downloading https://files.pythonhosted.org/packages/3f/c0/abde58b837e066bca19a3f7332d9d0493521d7dd6b48248451a9e3fe2214/h5py-2.10.0-cp37-cp37m-manylinux1_x86_64.whl (2.9MB)\n",
            "\u001b[K     |████████████████████████████████| 2.9MB 2.7MB/s eta 0:00:01\n",
            "\u001b[?25hRequirement already satisfied: google-pasta~=0.2 in /home/harshvardhan/anaconda3/lib/python3.7/site-packages (from tensorflow->fancyimpute) (0.2.0)\n",
            "Requirement already satisfied: typing-extensions~=3.7.4 in /home/harshvardhan/anaconda3/lib/python3.7/site-packages (from tensorflow->fancyimpute) (3.7.4.3)\n",
            "Requirement already satisfied: wheel~=0.35 in /home/harshvardhan/anaconda3/lib/python3.7/site-packages (from tensorflow->fancyimpute) (0.36.2)\n",
            "Collecting six~=1.15.0 (from tensorflow->fancyimpute)\n",
            "  Using cached https://files.pythonhosted.org/packages/ee/ff/48bde5c0f013094d729fe4b0316ba2a24774b3ff1c52d924a8a4cb04078a/six-1.15.0-py2.py3-none-any.whl\n",
            "Requirement already satisfied: opt-einsum~=3.3.0 in /home/harshvardhan/anaconda3/lib/python3.7/site-packages (from tensorflow->fancyimpute) (3.3.0)\n",
            "Requirement already satisfied: gast==0.3.3 in /home/harshvardhan/anaconda3/lib/python3.7/site-packages (from tensorflow->fancyimpute) (0.3.3)\n",
            "Requirement already satisfied: tensorflow-estimator<2.5.0,>=2.4.0 in /home/harshvardhan/anaconda3/lib/python3.7/site-packages (from tensorflow->fancyimpute) (2.4.0)\n",
            "Requirement already satisfied: grpcio~=1.32.0 in /home/harshvardhan/anaconda3/lib/python3.7/site-packages (from tensorflow->fancyimpute) (1.32.0)\n",
            "Requirement already satisfied: keras-preprocessing~=1.1.2 in /home/harshvardhan/anaconda3/lib/python3.7/site-packages (from tensorflow->fancyimpute) (1.1.2)\n",
            "Requirement already satisfied: protobuf>=3.9.2 in /home/harshvardhan/anaconda3/lib/python3.7/site-packages (from tensorflow->fancyimpute) (3.15.7)\n",
            "Requirement already satisfied: threadpoolctl>=2.0.0 in /home/harshvardhan/anaconda3/lib/python3.7/site-packages (from scikit-learn>=0.21.2->fancyimpute) (2.1.0)\n",
            "Requirement already satisfied: joblib>=0.11 in /home/harshvardhan/anaconda3/lib/python3.7/site-packages (from scikit-learn>=0.21.2->fancyimpute) (0.13.2)\n",
            "Requirement already satisfied: pyyaml in /home/harshvardhan/anaconda3/lib/python3.7/site-packages (from keras>=2.0.0->fancyimpute) (5.1.1)\n",
            "Requirement already satisfied: scs>=1.1.6 in /home/harshvardhan/anaconda3/lib/python3.7/site-packages (from cvxpy>=1.0.6->fancyimpute) (2.1.2)\n",
            "Requirement already satisfied: osqp>=0.4.1 in /home/harshvardhan/anaconda3/lib/python3.7/site-packages (from cvxpy>=1.0.6->fancyimpute) (0.6.1)\n",
            "Requirement already satisfied: ecos>=2 in /home/harshvardhan/anaconda3/lib/python3.7/site-packages (from cvxpy>=1.0.6->fancyimpute) (2.0.7.post1)\n",
            "Requirement already satisfied: google-auth-oauthlib<0.5,>=0.4.1 in /home/harshvardhan/anaconda3/lib/python3.7/site-packages (from tensorboard~=2.4->tensorflow->fancyimpute) (0.4.4)\n",
            "Requirement already satisfied: requests<3,>=2.21.0 in /home/harshvardhan/anaconda3/lib/python3.7/site-packages (from tensorboard~=2.4->tensorflow->fancyimpute) (2.22.0)\n",
            "Requirement already satisfied: setuptools>=41.0.0 in /home/harshvardhan/anaconda3/lib/python3.7/site-packages (from tensorboard~=2.4->tensorflow->fancyimpute) (41.0.1)\n",
            "Requirement already satisfied: tensorboard-plugin-wit>=1.6.0 in /home/harshvardhan/anaconda3/lib/python3.7/site-packages (from tensorboard~=2.4->tensorflow->fancyimpute) (1.8.0)\n",
            "Requirement already satisfied: markdown>=2.6.8 in /home/harshvardhan/anaconda3/lib/python3.7/site-packages (from tensorboard~=2.4->tensorflow->fancyimpute) (3.3.4)\n",
            "Requirement already satisfied: werkzeug>=0.11.15 in /home/harshvardhan/anaconda3/lib/python3.7/site-packages (from tensorboard~=2.4->tensorflow->fancyimpute) (0.15.4)\n",
            "Requirement already satisfied: google-auth<2,>=1.6.3 in /home/harshvardhan/anaconda3/lib/python3.7/site-packages (from tensorboard~=2.4->tensorflow->fancyimpute) (1.28.0)\n",
            "Requirement already satisfied: future in /home/harshvardhan/anaconda3/lib/python3.7/site-packages (from osqp>=0.4.1->cvxpy>=1.0.6->fancyimpute) (0.17.1)\n",
            "Requirement already satisfied: requests-oauthlib>=0.7.0 in /home/harshvardhan/anaconda3/lib/python3.7/site-packages (from google-auth-oauthlib<0.5,>=0.4.1->tensorboard~=2.4->tensorflow->fancyimpute) (1.3.0)\n",
            "Requirement already satisfied: chardet<3.1.0,>=3.0.2 in /home/harshvardhan/anaconda3/lib/python3.7/site-packages (from requests<3,>=2.21.0->tensorboard~=2.4->tensorflow->fancyimpute) (3.0.4)\n",
            "Requirement already satisfied: idna<2.9,>=2.5 in /home/harshvardhan/anaconda3/lib/python3.7/site-packages (from requests<3,>=2.21.0->tensorboard~=2.4->tensorflow->fancyimpute) (2.8)\n",
            "Requirement already satisfied: certifi>=2017.4.17 in /home/harshvardhan/anaconda3/lib/python3.7/site-packages (from requests<3,>=2.21.0->tensorboard~=2.4->tensorflow->fancyimpute) (2020.4.5.1)\n",
            "Requirement already satisfied: urllib3!=1.25.0,!=1.25.1,<1.26,>=1.21.1 in /home/harshvardhan/anaconda3/lib/python3.7/site-packages (from requests<3,>=2.21.0->tensorboard~=2.4->tensorflow->fancyimpute) (1.24.2)\n",
            "Requirement already satisfied: importlib-metadata; python_version < \"3.8\" in /home/harshvardhan/anaconda3/lib/python3.7/site-packages (from markdown>=2.6.8->tensorboard~=2.4->tensorflow->fancyimpute) (0.17)\n",
            "Requirement already satisfied: pyasn1-modules>=0.2.1 in /home/harshvardhan/anaconda3/lib/python3.7/site-packages (from google-auth<2,>=1.6.3->tensorboard~=2.4->tensorflow->fancyimpute) (0.2.8)\n",
            "Requirement already satisfied: cachetools<5.0,>=2.0.0 in /home/harshvardhan/anaconda3/lib/python3.7/site-packages (from google-auth<2,>=1.6.3->tensorboard~=2.4->tensorflow->fancyimpute) (4.2.1)\n",
            "Requirement already satisfied: rsa<5,>=3.1.4; python_version >= \"3.6\" in /home/harshvardhan/anaconda3/lib/python3.7/site-packages (from google-auth<2,>=1.6.3->tensorboard~=2.4->tensorflow->fancyimpute) (4.7.2)\n",
            "Requirement already satisfied: oauthlib>=3.0.0 in /home/harshvardhan/anaconda3/lib/python3.7/site-packages (from requests-oauthlib>=0.7.0->google-auth-oauthlib<0.5,>=0.4.1->tensorboard~=2.4->tensorflow->fancyimpute) (3.1.0)\n",
            "Requirement already satisfied: zipp>=0.5 in /home/harshvardhan/anaconda3/lib/python3.7/site-packages (from importlib-metadata; python_version < \"3.8\"->markdown>=2.6.8->tensorboard~=2.4->tensorflow->fancyimpute) (0.5.1)\n",
            "Requirement already satisfied: pyasn1<0.5.0,>=0.4.6 in /home/harshvardhan/anaconda3/lib/python3.7/site-packages (from pyasn1-modules>=0.2.1->google-auth<2,>=1.6.3->tensorboard~=2.4->tensorflow->fancyimpute) (0.4.8)\n",
            "\u001b[31mERROR: astroid 2.2.5 requires typed-ast>=1.3.0; implementation_name == \"cpython\", which is not installed.\u001b[0m\n",
            "\u001b[31mERROR: tensorflow 2.4.1 has requirement numpy~=1.19.2, but you'll have numpy 1.20.2 which is incompatible.\u001b[0m\n",
            "Installing collected packages: six, h5py\n",
            "  Found existing installation: six 1.12.0\n",
            "    Uninstalling six-1.12.0:\n",
            "      Successfully uninstalled six-1.12.0\n",
            "  Found existing installation: h5py 2.9.0\n",
            "    Uninstalling h5py-2.9.0:\n",
            "      Successfully uninstalled h5py-2.9.0\n",
            "Successfully installed h5py-2.10.0 six-1.15.0\n"
          ],
          "name": "stdout"
        }
      ]
    },
    {
      "cell_type": "code",
      "metadata": {
        "id": "FJiHmV_ExBXG"
      },
      "source": [
        "import pandas as pd\n",
        "import xlrd\n",
        "pd.options.mode.chained_assignment = None\n",
        "#from fancyimpute import MICE\n",
        "from fancyimpute import IterativeImputer as MICE\n",
        "import copy\n",
        "from sklearn.preprocessing import MinMaxScaler\n",
        "import statsmodels.api as sm"
      ],
      "id": "FJiHmV_ExBXG",
      "execution_count": null,
      "outputs": []
    },
    {
      "cell_type": "code",
      "metadata": {
        "id": "Ep0sw-W0xBXH"
      },
      "source": [
        "## sometimes in data ,people represent NA values differently. Pandas provide a way to input all possible NA values in form of list so that they are stored in memory as NA##\n",
        "exhibit_1 = pd.read_csv(\"exhibit_1.csv\", na_values=[\"#N/A\", \"#N/A N/A\", \"#NA\", \"-1.#IND\", \"-1.#QNAN\", \"-NaN\", \"-nan\", \"1.#IND\", \"1.#QNAN\", \"N/A\", \"NA\", \"NULL\", \"NaN\", \"nan\"])\n",
        "exhibit_2 = pd.read_csv(\"exhibit_2.csv\",na_values = [\"#N/A\", \"#N/A N/A\", \"#NA\", \"-1.#IND\", \"-1.#QNAN\", \"-NaN\", \"-nan\", \"1.#IND\", \"1.#QNAN\", \"N/A\", \"NA\", \"NULL\", \"NaN\", \"nan\"])\n",
        "\n",
        "exhibit_1 = exhibit_1[1:2389]\n",
        "exhibit_2 = exhibit_2[1:2389]"
      ],
      "id": "Ep0sw-W0xBXH",
      "execution_count": null,
      "outputs": []
    },
    {
      "cell_type": "code",
      "metadata": {
        "id": "S1V-eTmXxBXH",
        "outputId": "32d09d81-302d-4862-a472-2dda2b0ee813"
      },
      "source": [
        "exhibit_1.head()"
      ],
      "id": "S1V-eTmXxBXH",
      "execution_count": null,
      "outputs": [
        {
          "output_type": "execute_result",
          "data": {
            "text/html": [
              "<div>\n",
              "<style scoped>\n",
              "    .dataframe tbody tr th:only-of-type {\n",
              "        vertical-align: middle;\n",
              "    }\n",
              "\n",
              "    .dataframe tbody tr th {\n",
              "        vertical-align: top;\n",
              "    }\n",
              "\n",
              "    .dataframe thead th {\n",
              "        text-align: right;\n",
              "    }\n",
              "</style>\n",
              "<table border=\"1\" class=\"dataframe\">\n",
              "  <thead>\n",
              "    <tr style=\"text-align: right;\">\n",
              "      <th></th>\n",
              "      <th>ID</th>\n",
              "      <th>Program.Code</th>\n",
              "      <th>From.Grade</th>\n",
              "      <th>To.Grade</th>\n",
              "      <th>Group.State</th>\n",
              "      <th>Is.Non.Annual.</th>\n",
              "      <th>Days</th>\n",
              "      <th>Travel.Type</th>\n",
              "      <th>Departure.Date</th>\n",
              "      <th>Return.Date</th>\n",
              "      <th>...</th>\n",
              "      <th>GroupGradeTypeLow</th>\n",
              "      <th>GroupGradeTypeHigh</th>\n",
              "      <th>GroupGradeType</th>\n",
              "      <th>MajorProgramCode</th>\n",
              "      <th>SingleGradeTripFlag</th>\n",
              "      <th>FPP.to.School.enrollment</th>\n",
              "      <th>FPP.to.PAX</th>\n",
              "      <th>Num.of.Non_FPP.PAX</th>\n",
              "      <th>SchoolSizeIndicator</th>\n",
              "      <th>Retained.in.2012.</th>\n",
              "    </tr>\n",
              "  </thead>\n",
              "  <tbody>\n",
              "    <tr>\n",
              "      <th>1</th>\n",
              "      <td>2</td>\n",
              "      <td>HC</td>\n",
              "      <td>8.0</td>\n",
              "      <td>8.0</td>\n",
              "      <td>AZ</td>\n",
              "      <td>0.0</td>\n",
              "      <td>7.0</td>\n",
              "      <td>A</td>\n",
              "      <td>14/01/2011</td>\n",
              "      <td>21/01/2011</td>\n",
              "      <td>...</td>\n",
              "      <td>Middle</td>\n",
              "      <td>Middle</td>\n",
              "      <td>Middle-&gt;Middle</td>\n",
              "      <td>H</td>\n",
              "      <td>1.0</td>\n",
              "      <td>0.025882</td>\n",
              "      <td>0.880000</td>\n",
              "      <td>3.0</td>\n",
              "      <td>L</td>\n",
              "      <td>1.0</td>\n",
              "    </tr>\n",
              "    <tr>\n",
              "      <th>2</th>\n",
              "      <td>3</td>\n",
              "      <td>HD</td>\n",
              "      <td>8.0</td>\n",
              "      <td>8.0</td>\n",
              "      <td>FL</td>\n",
              "      <td>0.0</td>\n",
              "      <td>3.0</td>\n",
              "      <td>A</td>\n",
              "      <td>15/01/2011</td>\n",
              "      <td>17/01/2011</td>\n",
              "      <td>...</td>\n",
              "      <td>Middle</td>\n",
              "      <td>Middle</td>\n",
              "      <td>Middle-&gt;Middle</td>\n",
              "      <td>H</td>\n",
              "      <td>1.0</td>\n",
              "      <td>0.025131</td>\n",
              "      <td>0.888889</td>\n",
              "      <td>3.0</td>\n",
              "      <td>L</td>\n",
              "      <td>1.0</td>\n",
              "    </tr>\n",
              "    <tr>\n",
              "      <th>3</th>\n",
              "      <td>4</td>\n",
              "      <td>HN</td>\n",
              "      <td>9.0</td>\n",
              "      <td>12.0</td>\n",
              "      <td>VA</td>\n",
              "      <td>1.0</td>\n",
              "      <td>3.0</td>\n",
              "      <td>B</td>\n",
              "      <td>15/01/2011</td>\n",
              "      <td>17/01/2011</td>\n",
              "      <td>...</td>\n",
              "      <td>Undefined</td>\n",
              "      <td>Undefined</td>\n",
              "      <td>Undefined-&gt;Undefined</td>\n",
              "      <td>H</td>\n",
              "      <td>0.0</td>\n",
              "      <td>NaN</td>\n",
              "      <td>1.000000</td>\n",
              "      <td>0.0</td>\n",
              "      <td>NaN</td>\n",
              "      <td>0.0</td>\n",
              "    </tr>\n",
              "    <tr>\n",
              "      <th>4</th>\n",
              "      <td>5</td>\n",
              "      <td>HD</td>\n",
              "      <td>6.0</td>\n",
              "      <td>8.0</td>\n",
              "      <td>FL</td>\n",
              "      <td>0.0</td>\n",
              "      <td>6.0</td>\n",
              "      <td>T</td>\n",
              "      <td>16/01/2011</td>\n",
              "      <td>21/01/2011</td>\n",
              "      <td>...</td>\n",
              "      <td>Middle</td>\n",
              "      <td>Middle</td>\n",
              "      <td>Middle-&gt;Middle</td>\n",
              "      <td>H</td>\n",
              "      <td>0.0</td>\n",
              "      <td>0.112500</td>\n",
              "      <td>0.910112</td>\n",
              "      <td>8.0</td>\n",
              "      <td>M-L</td>\n",
              "      <td>0.0</td>\n",
              "    </tr>\n",
              "    <tr>\n",
              "      <th>5</th>\n",
              "      <td>6</td>\n",
              "      <td>HC</td>\n",
              "      <td>10.0</td>\n",
              "      <td>12.0</td>\n",
              "      <td>LA</td>\n",
              "      <td>0.0</td>\n",
              "      <td>4.0</td>\n",
              "      <td>A</td>\n",
              "      <td>17/01/2011</td>\n",
              "      <td>20/01/2011</td>\n",
              "      <td>...</td>\n",
              "      <td>High</td>\n",
              "      <td>High</td>\n",
              "      <td>High-&gt;High</td>\n",
              "      <td>H</td>\n",
              "      <td>0.0</td>\n",
              "      <td>0.010650</td>\n",
              "      <td>0.909091</td>\n",
              "      <td>1.0</td>\n",
              "      <td>L</td>\n",
              "      <td>1.0</td>\n",
              "    </tr>\n",
              "  </tbody>\n",
              "</table>\n",
              "<p>5 rows × 56 columns</p>\n",
              "</div>"
            ],
            "text/plain": [
              "  ID Program.Code  From.Grade  To.Grade Group.State  Is.Non.Annual.  Days  \\\n",
              "1  2           HC         8.0       8.0          AZ             0.0   7.0   \n",
              "2  3           HD         8.0       8.0          FL             0.0   3.0   \n",
              "3  4           HN         9.0      12.0          VA             1.0   3.0   \n",
              "4  5           HD         6.0       8.0          FL             0.0   6.0   \n",
              "5  6           HC        10.0      12.0          LA             0.0   4.0   \n",
              "\n",
              "  Travel.Type Departure.Date Return.Date  ... GroupGradeTypeLow  \\\n",
              "1           A     14/01/2011  21/01/2011  ...            Middle   \n",
              "2           A     15/01/2011  17/01/2011  ...            Middle   \n",
              "3           B     15/01/2011  17/01/2011  ...         Undefined   \n",
              "4           T     16/01/2011  21/01/2011  ...            Middle   \n",
              "5           A     17/01/2011  20/01/2011  ...              High   \n",
              "\n",
              "  GroupGradeTypeHigh        GroupGradeType  MajorProgramCode  \\\n",
              "1             Middle        Middle->Middle                 H   \n",
              "2             Middle        Middle->Middle                 H   \n",
              "3          Undefined  Undefined->Undefined                 H   \n",
              "4             Middle        Middle->Middle                 H   \n",
              "5               High            High->High                 H   \n",
              "\n",
              "   SingleGradeTripFlag  FPP.to.School.enrollment FPP.to.PAX  \\\n",
              "1                  1.0                  0.025882   0.880000   \n",
              "2                  1.0                  0.025131   0.888889   \n",
              "3                  0.0                       NaN   1.000000   \n",
              "4                  0.0                  0.112500   0.910112   \n",
              "5                  0.0                  0.010650   0.909091   \n",
              "\n",
              "  Num.of.Non_FPP.PAX  SchoolSizeIndicator  Retained.in.2012.  \n",
              "1                3.0                    L                1.0  \n",
              "2                3.0                    L                1.0  \n",
              "3                0.0                  NaN                0.0  \n",
              "4                8.0                  M-L                0.0  \n",
              "5                1.0                    L                1.0  \n",
              "\n",
              "[5 rows x 56 columns]"
            ]
          },
          "metadata": {
            "tags": []
          },
          "execution_count": 49
        }
      ]
    },
    {
      "cell_type": "code",
      "metadata": {
        "id": "pdbbqHZMxBXI",
        "outputId": "c618a3d9-d474-48ba-dd40-154c82e94f02"
      },
      "source": [
        "exhibit_1.dtypes"
      ],
      "id": "pdbbqHZMxBXI",
      "execution_count": null,
      "outputs": [
        {
          "output_type": "execute_result",
          "data": {
            "text/plain": [
              "ID                                 object\n",
              "Program.Code                       object\n",
              "From.Grade                        float64\n",
              "To.Grade                          float64\n",
              "Group.State                        object\n",
              "Is.Non.Annual.                    float64\n",
              "Days                              float64\n",
              "Travel.Type                        object\n",
              "Departure.Date                     object\n",
              "Return.Date                        object\n",
              "Deposit.Date                       object\n",
              "Special.Pay                        object\n",
              "Tuition                           float64\n",
              "FRP.Active                        float64\n",
              "FRP.Cancelled                     float64\n",
              "FRP.Take.up.percent.              float64\n",
              "Early.RPL                          object\n",
              "Latest.RPL                         object\n",
              "Cancelled.Pax                     float64\n",
              "Total.Discount.Pax                float64\n",
              "Initial.System.Date                object\n",
              "Poverty.Code                       object\n",
              "Region                             object\n",
              "CRM.Segment                       float64\n",
              "School.Type                        object\n",
              "Parent.Meeting.Flag               float64\n",
              "MDR.Low.Grade                      object\n",
              "MDR.High.Grade                    float64\n",
              "Total.School.Enrollment           float64\n",
              "Income.Level                       object\n",
              "EZ.Pay.Take.Up.Rate               float64\n",
              "School.Sponsor                    float64\n",
              "SPR.Product.Type                   object\n",
              "SPR.New.Existing                   object\n",
              "FPP                               float64\n",
              "Total.Pax                         float64\n",
              "SPR.Group.Revenue                 float64\n",
              "NumberOfMeetingswithParents       float64\n",
              "FirstMeeting                       object\n",
              "LastMeeting                        object\n",
              "DifferenceTraveltoFirstMeeting    float64\n",
              "DifferenceTraveltoLastMeeting     float64\n",
              "SchoolGradeTypeLow                 object\n",
              "SchoolGradeTypeHigh                object\n",
              "SchoolGradeType                    object\n",
              "DepartureMonth                     object\n",
              "GroupGradeTypeLow                  object\n",
              "GroupGradeTypeHigh                 object\n",
              "GroupGradeType                     object\n",
              "MajorProgramCode                   object\n",
              "SingleGradeTripFlag               float64\n",
              "FPP.to.School.enrollment          float64\n",
              "FPP.to.PAX                        float64\n",
              "Num.of.Non_FPP.PAX                float64\n",
              "SchoolSizeIndicator                object\n",
              "Retained.in.2012.                 float64\n",
              "dtype: object"
            ]
          },
          "metadata": {
            "tags": []
          },
          "execution_count": 50
        }
      ]
    },
    {
      "cell_type": "code",
      "metadata": {
        "id": "DdKjhnfuxBXI",
        "outputId": "986e8845-65a0-49e0-e99a-bcb613e306ae"
      },
      "source": [
        "exhibit_2.head()"
      ],
      "id": "DdKjhnfuxBXI",
      "execution_count": null,
      "outputs": [
        {
          "output_type": "execute_result",
          "data": {
            "text/html": [
              "<div>\n",
              "<style scoped>\n",
              "    .dataframe tbody tr th:only-of-type {\n",
              "        vertical-align: middle;\n",
              "    }\n",
              "\n",
              "    .dataframe tbody tr th {\n",
              "        vertical-align: top;\n",
              "    }\n",
              "\n",
              "    .dataframe thead th {\n",
              "        text-align: right;\n",
              "    }\n",
              "</style>\n",
              "<table border=\"1\" class=\"dataframe\">\n",
              "  <thead>\n",
              "    <tr style=\"text-align: right;\">\n",
              "      <th></th>\n",
              "      <th>ID</th>\n",
              "      <th>NPS 2011</th>\n",
              "      <th>NPS 2010</th>\n",
              "      <th>NPS 2009</th>\n",
              "      <th>NPS 2008</th>\n",
              "      <th>&gt;= 3 FPP Date</th>\n",
              "      <th>&gt;= 10 FPP Date</th>\n",
              "      <th>&gt;= 20 FPP Date</th>\n",
              "      <th>&gt;= 35 FPP Date</th>\n",
              "    </tr>\n",
              "  </thead>\n",
              "  <tbody>\n",
              "    <tr>\n",
              "      <th>1</th>\n",
              "      <td>2</td>\n",
              "      <td>9.0</td>\n",
              "      <td>10.0</td>\n",
              "      <td>10.0</td>\n",
              "      <td>NaN</td>\n",
              "      <td>15/12/2009</td>\n",
              "      <td>20/01/2010</td>\n",
              "      <td>31/05/2010</td>\n",
              "      <td>NaN</td>\n",
              "    </tr>\n",
              "    <tr>\n",
              "      <th>2</th>\n",
              "      <td>3</td>\n",
              "      <td>NaN</td>\n",
              "      <td>10.0</td>\n",
              "      <td>10.0</td>\n",
              "      <td>NaN</td>\n",
              "      <td>09/06/2010</td>\n",
              "      <td>09/06/2010</td>\n",
              "      <td>26/10/2010</td>\n",
              "      <td>NaN</td>\n",
              "    </tr>\n",
              "    <tr>\n",
              "      <th>3</th>\n",
              "      <td>4</td>\n",
              "      <td>10.0</td>\n",
              "      <td>NaN</td>\n",
              "      <td>10.0</td>\n",
              "      <td>NaN</td>\n",
              "      <td>06/01/2011</td>\n",
              "      <td>06/01/2011</td>\n",
              "      <td>NaN</td>\n",
              "      <td>NaN</td>\n",
              "    </tr>\n",
              "    <tr>\n",
              "      <th>4</th>\n",
              "      <td>5</td>\n",
              "      <td>10.0</td>\n",
              "      <td>NaN</td>\n",
              "      <td>10.0</td>\n",
              "      <td>NaN</td>\n",
              "      <td>13/05/2010</td>\n",
              "      <td>24/05/2010</td>\n",
              "      <td>27/05/2010</td>\n",
              "      <td>01/06/2010</td>\n",
              "    </tr>\n",
              "    <tr>\n",
              "      <th>5</th>\n",
              "      <td>6</td>\n",
              "      <td>10.0</td>\n",
              "      <td>NaN</td>\n",
              "      <td>NaN</td>\n",
              "      <td>NaN</td>\n",
              "      <td>19/08/2010</td>\n",
              "      <td>15/12/2010</td>\n",
              "      <td>NaN</td>\n",
              "      <td>NaN</td>\n",
              "    </tr>\n",
              "  </tbody>\n",
              "</table>\n",
              "</div>"
            ],
            "text/plain": [
              "  ID  NPS 2011  NPS 2010  NPS 2009  NPS 2008 >= 3 FPP Date >= 10 FPP Date  \\\n",
              "1  2       9.0      10.0      10.0       NaN    15/12/2009     20/01/2010   \n",
              "2  3       NaN      10.0      10.0       NaN    09/06/2010     09/06/2010   \n",
              "3  4      10.0       NaN      10.0       NaN    06/01/2011     06/01/2011   \n",
              "4  5      10.0       NaN      10.0       NaN    13/05/2010     24/05/2010   \n",
              "5  6      10.0       NaN       NaN       NaN    19/08/2010     15/12/2010   \n",
              "\n",
              "  >= 20 FPP Date >= 35 FPP Date  \n",
              "1     31/05/2010            NaN  \n",
              "2     26/10/2010            NaN  \n",
              "3            NaN            NaN  \n",
              "4     27/05/2010     01/06/2010  \n",
              "5            NaN            NaN  "
            ]
          },
          "metadata": {
            "tags": []
          },
          "execution_count": 51
        }
      ]
    },
    {
      "cell_type": "code",
      "metadata": {
        "id": "nppZFrGaxBXI",
        "outputId": "3a8fc29d-ae4f-4719-f713-1c79bb949c51"
      },
      "source": [
        "exhibit_2.dtypes"
      ],
      "id": "nppZFrGaxBXI",
      "execution_count": null,
      "outputs": [
        {
          "output_type": "execute_result",
          "data": {
            "text/plain": [
              "ID                 object\n",
              "NPS 2011          float64\n",
              "NPS 2010          float64\n",
              "NPS 2009          float64\n",
              "NPS 2008          float64\n",
              ">= 3 FPP Date      object\n",
              ">= 10 FPP Date     object\n",
              ">= 20 FPP Date     object\n",
              ">= 35 FPP Date     object\n",
              "dtype: object"
            ]
          },
          "metadata": {
            "tags": []
          },
          "execution_count": 52
        }
      ]
    },
    {
      "cell_type": "code",
      "metadata": {
        "id": "wvOGogtwxBXI",
        "outputId": "363ff099-8420-4707-e43c-47319e24f51d"
      },
      "source": [
        "exhibit_1.shape"
      ],
      "id": "wvOGogtwxBXI",
      "execution_count": null,
      "outputs": [
        {
          "output_type": "execute_result",
          "data": {
            "text/plain": [
              "(2388, 56)"
            ]
          },
          "metadata": {
            "tags": []
          },
          "execution_count": 53
        }
      ]
    },
    {
      "cell_type": "code",
      "metadata": {
        "id": "t0Yuu1sfxBXJ"
      },
      "source": [
        "df_merged = pd.merge(exhibit_1, exhibit_2, on=\"ID\")"
      ],
      "id": "t0Yuu1sfxBXJ",
      "execution_count": null,
      "outputs": []
    },
    {
      "cell_type": "code",
      "metadata": {
        "id": "KMcbQYL7xBXJ"
      },
      "source": [
        "df_merged[\"cancellation\"] = df_merged[\"FRP.Cancelled\"]/df_merged[\"FRP.Active\"]"
      ],
      "id": "KMcbQYL7xBXJ",
      "execution_count": null,
      "outputs": []
    },
    {
      "cell_type": "code",
      "metadata": {
        "id": "0ErHER9exBXJ"
      },
      "source": [
        "date_cols = [\"Departure.Date\",\"Return.Date\",\"Deposit.Date\",\"Early.RPL\",\"Latest.RPL\",\"Initial.System.Date\",\"FirstMeeting\",\"LastMeeting\"]\n",
        "\n"
      ],
      "id": "0ErHER9exBXJ",
      "execution_count": null,
      "outputs": []
    },
    {
      "cell_type": "code",
      "metadata": {
        "id": "N3PDEFmcxBXK"
      },
      "source": [
        "for column in date_cols:\n",
        "    df_merged[column]=pd.to_datetime(df_merged[column])"
      ],
      "id": "N3PDEFmcxBXK",
      "execution_count": null,
      "outputs": []
    },
    {
      "cell_type": "code",
      "metadata": {
        "id": "NEZr1SsfxBXK",
        "outputId": "665c219d-b2c9-4b19-bd53-479cc3911ef8"
      },
      "source": [
        "df_merged[\"Return.Date\"]"
      ],
      "id": "NEZr1SsfxBXK",
      "execution_count": null,
      "outputs": [
        {
          "output_type": "execute_result",
          "data": {
            "text/plain": [
              "0      2011-01-21\n",
              "1      2011-01-17\n",
              "2      2011-01-17\n",
              "3      2011-01-21\n",
              "4      2011-01-20\n",
              "          ...    \n",
              "2383   2011-02-07\n",
              "2384   2011-03-07\n",
              "2385   2011-05-07\n",
              "2386   2011-06-30\n",
              "2387   2011-05-07\n",
              "Name: Return.Date, Length: 2388, dtype: datetime64[ns]"
            ]
          },
          "metadata": {
            "tags": []
          },
          "execution_count": 58
        }
      ]
    },
    {
      "cell_type": "code",
      "metadata": {
        "id": "etpBtWvIxBXK"
      },
      "source": [
        "\n",
        "unchanged_cols = [\"Is.Non.Annual.\",\"Days\",\"Tuition\",\"School.Type\",\"Parent.Meeting.Flag\",\"MDR.High.Grade\",\"Income.Level\",\"School.Sponsor\",\"SPR.New.Existing\",\"NumberOfMeetingswithParents\",\"DifferenceTraveltoLastMeeting\",\"SchoolGradeTypeHigh\",\"FPP.to.School.enrollment\",\"FPP.to.PAX\",\"SchoolSizeIndicator\",\"Retained.in.2012.\"]\n",
        "df_final1 = df_merged[unchanged_cols]"
      ],
      "id": "etpBtWvIxBXK",
      "execution_count": null,
      "outputs": []
    },
    {
      "cell_type": "code",
      "metadata": {
        "id": "NjnOaTHUxBXL"
      },
      "source": [
        "df_final1[\"frp.active\"]  =df_merged[\"FRP.Active\"]/df_merged[\"FPP\"]\n",
        "\n",
        "df_final1[\"cancellation\"] = df_merged[\"FRP.Cancelled\"]/df_merged[\"FRP.Active\"]\n",
        "df_final1[\"cancelled.PAX\"] = df_merged[\"Cancelled.Pax\"]/df_merged[\"FPP\"]"
      ],
      "id": "NjnOaTHUxBXL",
      "execution_count": null,
      "outputs": []
    },
    {
      "cell_type": "code",
      "metadata": {
        "id": "yWtEy3VExBXL"
      },
      "source": [
        "MAX_VALUE = 100000000"
      ],
      "id": "yWtEy3VExBXL",
      "execution_count": null,
      "outputs": []
    },
    {
      "cell_type": "code",
      "metadata": {
        "id": "ZWS1GrmJxBXL"
      },
      "source": [
        "df_final1['fpp'] = pd.cut(x=df_merged['FPP'], bins=[-MAX_VALUE,10,20,35,MAX_VALUE],labels=['small','critical','safe','large'])\n",
        "df_final1[\"trend\"]=((df_merged.iloc[:, 56:59].mean(axis=1,skipna=True) > df_merged.iloc[:,56:58].mean(axis=1,skipna=True)).astype(int)).astype(\"category\")"
      ],
      "id": "ZWS1GrmJxBXL",
      "execution_count": null,
      "outputs": []
    },
    {
      "cell_type": "code",
      "metadata": {
        "id": "Or0tPwU8xBXL"
      },
      "source": [
        "object_columns = df_final1.select_dtypes(include='object').columns\n",
        "category_columns=df_final1.select_dtypes(include='category').columns\n",
        "float_columns=df_final1.select_dtypes(include='float64').columns"
      ],
      "id": "Or0tPwU8xBXL",
      "execution_count": null,
      "outputs": []
    },
    {
      "cell_type": "code",
      "metadata": {
        "id": "ODYd_kwrxBXL",
        "outputId": "4e7e79ca-8201-4ab7-ffb2-ebe876351a22"
      },
      "source": [
        "df_final1.dtypes"
      ],
      "id": "ODYd_kwrxBXL",
      "execution_count": null,
      "outputs": [
        {
          "output_type": "execute_result",
          "data": {
            "text/plain": [
              "Is.Non.Annual.                    float64\n",
              "Days                              float64\n",
              "Tuition                           float64\n",
              "School.Type                        object\n",
              "Parent.Meeting.Flag               float64\n",
              "MDR.High.Grade                    float64\n",
              "Income.Level                       object\n",
              "School.Sponsor                    float64\n",
              "SPR.New.Existing                   object\n",
              "NumberOfMeetingswithParents       float64\n",
              "DifferenceTraveltoLastMeeting     float64\n",
              "SchoolGradeTypeHigh                object\n",
              "FPP.to.School.enrollment          float64\n",
              "FPP.to.PAX                        float64\n",
              "SchoolSizeIndicator                object\n",
              "Retained.in.2012.                 float64\n",
              "frp.active                        float64\n",
              "cancellation                      float64\n",
              "cancelled.PAX                     float64\n",
              "fpp                              category\n",
              "trend                            category\n",
              "dtype: object"
            ]
          },
          "metadata": {
            "tags": []
          },
          "execution_count": 64
        }
      ]
    },
    {
      "cell_type": "code",
      "metadata": {
        "id": "JJibvmRqxBXM"
      },
      "source": [
        "for column in object_columns:\n",
        "    df_final1[column] = df_final1[column].astype(\"category\")\n"
      ],
      "id": "JJibvmRqxBXM",
      "execution_count": null,
      "outputs": []
    },
    {
      "cell_type": "markdown",
      "metadata": {
        "id": "6U_wpY54xBXM"
      },
      "source": [
        "## Converting the data to one-hot encoding so that modelling can be done. ##"
      ],
      "id": "6U_wpY54xBXM"
    },
    {
      "cell_type": "code",
      "metadata": {
        "id": "B08BsNmnxBXM"
      },
      "source": [
        "df_final1 = pd.get_dummies(df_final1)"
      ],
      "id": "B08BsNmnxBXM",
      "execution_count": null,
      "outputs": []
    },
    {
      "cell_type": "code",
      "metadata": {
        "id": "_E-qQrd7xBXM",
        "outputId": "e709f98a-6b63-47bc-de15-ddce48170144"
      },
      "source": [
        "df_final1.dtypes"
      ],
      "id": "_E-qQrd7xBXM",
      "execution_count": null,
      "outputs": [
        {
          "output_type": "execute_result",
          "data": {
            "text/plain": [
              "Is.Non.Annual.                       float64\n",
              "Days                                 float64\n",
              "Tuition                              float64\n",
              "Parent.Meeting.Flag                  float64\n",
              "MDR.High.Grade                       float64\n",
              "School.Sponsor                       float64\n",
              "NumberOfMeetingswithParents          float64\n",
              "DifferenceTraveltoLastMeeting        float64\n",
              "FPP.to.School.enrollment             float64\n",
              "FPP.to.PAX                           float64\n",
              "Retained.in.2012.                    float64\n",
              "frp.active                           float64\n",
              "cancellation                         float64\n",
              "cancelled.PAX                        float64\n",
              "School.Type_CHD                        uint8\n",
              "School.Type_Catholic                   uint8\n",
              "School.Type_PUBLIC                     uint8\n",
              "School.Type_Private non-Christian      uint8\n",
              "Income.Level_A                         uint8\n",
              "Income.Level_B                         uint8\n",
              "Income.Level_C                         uint8\n",
              "Income.Level_D                         uint8\n",
              "Income.Level_E                         uint8\n",
              "Income.Level_F                         uint8\n",
              "Income.Level_G                         uint8\n",
              "Income.Level_H                         uint8\n",
              "Income.Level_I                         uint8\n",
              "Income.Level_J                         uint8\n",
              "Income.Level_K                         uint8\n",
              "Income.Level_L                         uint8\n",
              "Income.Level_M                         uint8\n",
              "Income.Level_N                         uint8\n",
              "Income.Level_O                         uint8\n",
              "Income.Level_P                         uint8\n",
              "Income.Level_P1                        uint8\n",
              "Income.Level_P3                        uint8\n",
              "Income.Level_P4                        uint8\n",
              "Income.Level_P5                        uint8\n",
              "Income.Level_Q                         uint8\n",
              "Income.Level_Z                         uint8\n",
              "SPR.New.Existing_EXISTING              uint8\n",
              "SPR.New.Existing_NEW                   uint8\n",
              "SchoolGradeTypeHigh_Elementary         uint8\n",
              "SchoolGradeTypeHigh_High               uint8\n",
              "SchoolGradeTypeHigh_Middle             uint8\n",
              "SchoolGradeTypeHigh_Undefined          uint8\n",
              "SchoolSizeIndicator_L                  uint8\n",
              "SchoolSizeIndicator_M-L                uint8\n",
              "SchoolSizeIndicator_S                  uint8\n",
              "SchoolSizeIndicator_S-M                uint8\n",
              "fpp_small                              uint8\n",
              "fpp_critical                           uint8\n",
              "fpp_safe                               uint8\n",
              "fpp_large                              uint8\n",
              "trend_0                                uint8\n",
              "trend_1                                uint8\n",
              "dtype: object"
            ]
          },
          "metadata": {
            "tags": []
          },
          "execution_count": 67
        }
      ]
    },
    {
      "cell_type": "code",
      "metadata": {
        "id": "T2WEgV3XxBXN",
        "outputId": "8a9d9122-0dbb-4edf-8450-be3e1d01a267"
      },
      "source": [
        "df_final1[float_columns].describe()"
      ],
      "id": "T2WEgV3XxBXN",
      "execution_count": null,
      "outputs": [
        {
          "output_type": "execute_result",
          "data": {
            "text/html": [
              "<div>\n",
              "<style scoped>\n",
              "    .dataframe tbody tr th:only-of-type {\n",
              "        vertical-align: middle;\n",
              "    }\n",
              "\n",
              "    .dataframe tbody tr th {\n",
              "        vertical-align: top;\n",
              "    }\n",
              "\n",
              "    .dataframe thead th {\n",
              "        text-align: right;\n",
              "    }\n",
              "</style>\n",
              "<table border=\"1\" class=\"dataframe\">\n",
              "  <thead>\n",
              "    <tr style=\"text-align: right;\">\n",
              "      <th></th>\n",
              "      <th>Is.Non.Annual.</th>\n",
              "      <th>Days</th>\n",
              "      <th>Tuition</th>\n",
              "      <th>Parent.Meeting.Flag</th>\n",
              "      <th>MDR.High.Grade</th>\n",
              "      <th>School.Sponsor</th>\n",
              "      <th>NumberOfMeetingswithParents</th>\n",
              "      <th>DifferenceTraveltoLastMeeting</th>\n",
              "      <th>FPP.to.School.enrollment</th>\n",
              "      <th>FPP.to.PAX</th>\n",
              "      <th>Retained.in.2012.</th>\n",
              "      <th>frp.active</th>\n",
              "      <th>cancellation</th>\n",
              "      <th>cancelled.PAX</th>\n",
              "    </tr>\n",
              "  </thead>\n",
              "  <tbody>\n",
              "    <tr>\n",
              "      <th>count</th>\n",
              "      <td>2388.000000</td>\n",
              "      <td>2388.000000</td>\n",
              "      <td>2388.000000</td>\n",
              "      <td>2388.000000</td>\n",
              "      <td>2320.000000</td>\n",
              "      <td>2388.000000</td>\n",
              "      <td>2388.000000</td>\n",
              "      <td>2051.000000</td>\n",
              "      <td>2297.000000</td>\n",
              "      <td>2388.000000</td>\n",
              "      <td>2388.000000</td>\n",
              "      <td>2388.000000</td>\n",
              "      <td>2274.000000</td>\n",
              "      <td>2388.000000</td>\n",
              "    </tr>\n",
              "    <tr>\n",
              "      <th>mean</th>\n",
              "      <td>0.154104</td>\n",
              "      <td>4.576633</td>\n",
              "      <td>1615.716499</td>\n",
              "      <td>0.858878</td>\n",
              "      <td>8.393534</td>\n",
              "      <td>0.105528</td>\n",
              "      <td>1.102178</td>\n",
              "      <td>229.014139</td>\n",
              "      <td>0.066185</td>\n",
              "      <td>0.900652</td>\n",
              "      <td>0.607203</td>\n",
              "      <td>0.570772</td>\n",
              "      <td>inf</td>\n",
              "      <td>0.254092</td>\n",
              "    </tr>\n",
              "    <tr>\n",
              "      <th>std</th>\n",
              "      <td>0.361124</td>\n",
              "      <td>1.430556</td>\n",
              "      <td>644.770138</td>\n",
              "      <td>0.348221</td>\n",
              "      <td>1.745283</td>\n",
              "      <td>0.307296</td>\n",
              "      <td>0.611669</td>\n",
              "      <td>53.624196</td>\n",
              "      <td>0.081130</td>\n",
              "      <td>0.049123</td>\n",
              "      <td>0.488475</td>\n",
              "      <td>0.230689</td>\n",
              "      <td>NaN</td>\n",
              "      <td>0.353403</td>\n",
              "    </tr>\n",
              "    <tr>\n",
              "      <th>min</th>\n",
              "      <td>0.000000</td>\n",
              "      <td>1.000000</td>\n",
              "      <td>79.000000</td>\n",
              "      <td>0.000000</td>\n",
              "      <td>1.000000</td>\n",
              "      <td>0.000000</td>\n",
              "      <td>0.000000</td>\n",
              "      <td>-204.000000</td>\n",
              "      <td>0.000922</td>\n",
              "      <td>0.600000</td>\n",
              "      <td>0.000000</td>\n",
              "      <td>0.000000</td>\n",
              "      <td>0.000000</td>\n",
              "      <td>0.000000</td>\n",
              "    </tr>\n",
              "    <tr>\n",
              "      <th>25%</th>\n",
              "      <td>0.000000</td>\n",
              "      <td>4.000000</td>\n",
              "      <td>1177.750000</td>\n",
              "      <td>1.000000</td>\n",
              "      <td>8.000000</td>\n",
              "      <td>0.000000</td>\n",
              "      <td>1.000000</td>\n",
              "      <td>197.000000</td>\n",
              "      <td>0.020772</td>\n",
              "      <td>0.882353</td>\n",
              "      <td>0.000000</td>\n",
              "      <td>0.454545</td>\n",
              "      <td>0.071429</td>\n",
              "      <td>0.066447</td>\n",
              "    </tr>\n",
              "    <tr>\n",
              "      <th>50%</th>\n",
              "      <td>0.000000</td>\n",
              "      <td>5.000000</td>\n",
              "      <td>1700.500000</td>\n",
              "      <td>1.000000</td>\n",
              "      <td>8.000000</td>\n",
              "      <td>0.000000</td>\n",
              "      <td>1.000000</td>\n",
              "      <td>233.000000</td>\n",
              "      <td>0.045249</td>\n",
              "      <td>0.909091</td>\n",
              "      <td>1.000000</td>\n",
              "      <td>0.600000</td>\n",
              "      <td>0.179563</td>\n",
              "      <td>0.142857</td>\n",
              "    </tr>\n",
              "    <tr>\n",
              "      <th>75%</th>\n",
              "      <td>0.000000</td>\n",
              "      <td>5.000000</td>\n",
              "      <td>2048.000000</td>\n",
              "      <td>1.000000</td>\n",
              "      <td>8.000000</td>\n",
              "      <td>0.000000</td>\n",
              "      <td>1.000000</td>\n",
              "      <td>261.000000</td>\n",
              "      <td>0.087523</td>\n",
              "      <td>0.933333</td>\n",
              "      <td>1.000000</td>\n",
              "      <td>0.727273</td>\n",
              "      <td>0.363636</td>\n",
              "      <td>0.302502</td>\n",
              "    </tr>\n",
              "    <tr>\n",
              "      <th>max</th>\n",
              "      <td>1.000000</td>\n",
              "      <td>12.000000</td>\n",
              "      <td>4200.000000</td>\n",
              "      <td>1.000000</td>\n",
              "      <td>12.000000</td>\n",
              "      <td>1.000000</td>\n",
              "      <td>2.000000</td>\n",
              "      <td>749.000000</td>\n",
              "      <td>2.052632</td>\n",
              "      <td>1.000000</td>\n",
              "      <td>1.000000</td>\n",
              "      <td>1.000000</td>\n",
              "      <td>inf</td>\n",
              "      <td>4.750000</td>\n",
              "    </tr>\n",
              "  </tbody>\n",
              "</table>\n",
              "</div>"
            ],
            "text/plain": [
              "       Is.Non.Annual.         Days      Tuition  Parent.Meeting.Flag  \\\n",
              "count     2388.000000  2388.000000  2388.000000          2388.000000   \n",
              "mean         0.154104     4.576633  1615.716499             0.858878   \n",
              "std          0.361124     1.430556   644.770138             0.348221   \n",
              "min          0.000000     1.000000    79.000000             0.000000   \n",
              "25%          0.000000     4.000000  1177.750000             1.000000   \n",
              "50%          0.000000     5.000000  1700.500000             1.000000   \n",
              "75%          0.000000     5.000000  2048.000000             1.000000   \n",
              "max          1.000000    12.000000  4200.000000             1.000000   \n",
              "\n",
              "       MDR.High.Grade  School.Sponsor  NumberOfMeetingswithParents  \\\n",
              "count     2320.000000     2388.000000                  2388.000000   \n",
              "mean         8.393534        0.105528                     1.102178   \n",
              "std          1.745283        0.307296                     0.611669   \n",
              "min          1.000000        0.000000                     0.000000   \n",
              "25%          8.000000        0.000000                     1.000000   \n",
              "50%          8.000000        0.000000                     1.000000   \n",
              "75%          8.000000        0.000000                     1.000000   \n",
              "max         12.000000        1.000000                     2.000000   \n",
              "\n",
              "       DifferenceTraveltoLastMeeting  FPP.to.School.enrollment   FPP.to.PAX  \\\n",
              "count                    2051.000000               2297.000000  2388.000000   \n",
              "mean                      229.014139                  0.066185     0.900652   \n",
              "std                        53.624196                  0.081130     0.049123   \n",
              "min                      -204.000000                  0.000922     0.600000   \n",
              "25%                       197.000000                  0.020772     0.882353   \n",
              "50%                       233.000000                  0.045249     0.909091   \n",
              "75%                       261.000000                  0.087523     0.933333   \n",
              "max                       749.000000                  2.052632     1.000000   \n",
              "\n",
              "       Retained.in.2012.   frp.active  cancellation  cancelled.PAX  \n",
              "count        2388.000000  2388.000000   2274.000000    2388.000000  \n",
              "mean            0.607203     0.570772           inf       0.254092  \n",
              "std             0.488475     0.230689           NaN       0.353403  \n",
              "min             0.000000     0.000000      0.000000       0.000000  \n",
              "25%             0.000000     0.454545      0.071429       0.066447  \n",
              "50%             1.000000     0.600000      0.179563       0.142857  \n",
              "75%             1.000000     0.727273      0.363636       0.302502  \n",
              "max             1.000000     1.000000           inf       4.750000  "
            ]
          },
          "metadata": {
            "tags": []
          },
          "execution_count": 68
        }
      ]
    },
    {
      "cell_type": "code",
      "metadata": {
        "id": "C3UhWFzFxBXN"
      },
      "source": [
        "# In the above dataframe, we saw cancellation has infinity values which is not needed, so we drop the colum\n",
        "df_final1.drop(columns=\"cancellation\",inplace=True)"
      ],
      "id": "C3UhWFzFxBXN",
      "execution_count": null,
      "outputs": []
    },
    {
      "cell_type": "code",
      "metadata": {
        "id": "m1osP8otxBXN",
        "outputId": "7235cf78-5ab9-4c4e-dd3e-291baf933f28"
      },
      "source": [
        "## Chechking missing values in every column ##\n",
        "print (df_final1.isnull().sum())"
      ],
      "id": "m1osP8otxBXN",
      "execution_count": null,
      "outputs": [
        {
          "output_type": "stream",
          "text": [
            "Is.Non.Annual.                         0\n",
            "Days                                   0\n",
            "Tuition                                0\n",
            "Parent.Meeting.Flag                    0\n",
            "MDR.High.Grade                        68\n",
            "School.Sponsor                         0\n",
            "NumberOfMeetingswithParents            0\n",
            "DifferenceTraveltoLastMeeting        337\n",
            "FPP.to.School.enrollment              91\n",
            "FPP.to.PAX                             0\n",
            "Retained.in.2012.                      0\n",
            "frp.active                             0\n",
            "cancelled.PAX                          0\n",
            "School.Type_CHD                        0\n",
            "School.Type_Catholic                   0\n",
            "School.Type_PUBLIC                     0\n",
            "School.Type_Private non-Christian      0\n",
            "Income.Level_A                         0\n",
            "Income.Level_B                         0\n",
            "Income.Level_C                         0\n",
            "Income.Level_D                         0\n",
            "Income.Level_E                         0\n",
            "Income.Level_F                         0\n",
            "Income.Level_G                         0\n",
            "Income.Level_H                         0\n",
            "Income.Level_I                         0\n",
            "Income.Level_J                         0\n",
            "Income.Level_K                         0\n",
            "Income.Level_L                         0\n",
            "Income.Level_M                         0\n",
            "Income.Level_N                         0\n",
            "Income.Level_O                         0\n",
            "Income.Level_P                         0\n",
            "Income.Level_P1                        0\n",
            "Income.Level_P3                        0\n",
            "Income.Level_P4                        0\n",
            "Income.Level_P5                        0\n",
            "Income.Level_Q                         0\n",
            "Income.Level_Z                         0\n",
            "SPR.New.Existing_EXISTING              0\n",
            "SPR.New.Existing_NEW                   0\n",
            "SchoolGradeTypeHigh_Elementary         0\n",
            "SchoolGradeTypeHigh_High               0\n",
            "SchoolGradeTypeHigh_Middle             0\n",
            "SchoolGradeTypeHigh_Undefined          0\n",
            "SchoolSizeIndicator_L                  0\n",
            "SchoolSizeIndicator_M-L                0\n",
            "SchoolSizeIndicator_S                  0\n",
            "SchoolSizeIndicator_S-M                0\n",
            "fpp_small                              0\n",
            "fpp_critical                           0\n",
            "fpp_safe                               0\n",
            "fpp_large                              0\n",
            "trend_0                                0\n",
            "trend_1                                0\n",
            "dtype: int64\n"
          ],
          "name": "stdout"
        }
      ]
    },
    {
      "cell_type": "markdown",
      "metadata": {
        "id": "ct-DMSrkxBXN"
      },
      "source": [
        "## Imputation of missing values ##"
      ],
      "id": "ct-DMSrkxBXN"
    },
    {
      "cell_type": "code",
      "metadata": {
        "id": "T5i5WHJ6xBXO"
      },
      "source": [
        "imputer=MICE().fit_transform(df_final1)\n",
        "df_final_imputed = pd.DataFrame(imputer, columns=df_final1.columns)"
      ],
      "id": "T5i5WHJ6xBXO",
      "execution_count": null,
      "outputs": []
    },
    {
      "cell_type": "markdown",
      "metadata": {
        "id": "gvZqQTHNxBXO"
      },
      "source": [
        "## Checking missing value again, now we see missing values as zero ##"
      ],
      "id": "gvZqQTHNxBXO"
    },
    {
      "cell_type": "code",
      "metadata": {
        "id": "l85wVPgnxBXO",
        "outputId": "2fcec11f-7360-4f01-a906-60b6335ff2a5"
      },
      "source": [
        "print (df_final_imputed.isnull().sum())"
      ],
      "id": "l85wVPgnxBXO",
      "execution_count": null,
      "outputs": [
        {
          "output_type": "stream",
          "text": [
            "Is.Non.Annual.                       0\n",
            "Days                                 0\n",
            "Tuition                              0\n",
            "Parent.Meeting.Flag                  0\n",
            "MDR.High.Grade                       0\n",
            "School.Sponsor                       0\n",
            "NumberOfMeetingswithParents          0\n",
            "DifferenceTraveltoLastMeeting        0\n",
            "FPP.to.School.enrollment             0\n",
            "FPP.to.PAX                           0\n",
            "Retained.in.2012.                    0\n",
            "frp.active                           0\n",
            "cancelled.PAX                        0\n",
            "School.Type_CHD                      0\n",
            "School.Type_Catholic                 0\n",
            "School.Type_PUBLIC                   0\n",
            "School.Type_Private non-Christian    0\n",
            "Income.Level_A                       0\n",
            "Income.Level_B                       0\n",
            "Income.Level_C                       0\n",
            "Income.Level_D                       0\n",
            "Income.Level_E                       0\n",
            "Income.Level_F                       0\n",
            "Income.Level_G                       0\n",
            "Income.Level_H                       0\n",
            "Income.Level_I                       0\n",
            "Income.Level_J                       0\n",
            "Income.Level_K                       0\n",
            "Income.Level_L                       0\n",
            "Income.Level_M                       0\n",
            "Income.Level_N                       0\n",
            "Income.Level_O                       0\n",
            "Income.Level_P                       0\n",
            "Income.Level_P1                      0\n",
            "Income.Level_P3                      0\n",
            "Income.Level_P4                      0\n",
            "Income.Level_P5                      0\n",
            "Income.Level_Q                       0\n",
            "Income.Level_Z                       0\n",
            "SPR.New.Existing_EXISTING            0\n",
            "SPR.New.Existing_NEW                 0\n",
            "SchoolGradeTypeHigh_Elementary       0\n",
            "SchoolGradeTypeHigh_High             0\n",
            "SchoolGradeTypeHigh_Middle           0\n",
            "SchoolGradeTypeHigh_Undefined        0\n",
            "SchoolSizeIndicator_L                0\n",
            "SchoolSizeIndicator_M-L              0\n",
            "SchoolSizeIndicator_S                0\n",
            "SchoolSizeIndicator_S-M              0\n",
            "fpp_small                            0\n",
            "fpp_critical                         0\n",
            "fpp_safe                             0\n",
            "fpp_large                            0\n",
            "trend_0                              0\n",
            "trend_1                              0\n",
            "dtype: int64\n"
          ],
          "name": "stdout"
        }
      ]
    },
    {
      "cell_type": "code",
      "metadata": {
        "id": "1LPAz8K-xBXO"
      },
      "source": [
        "df_final_imputed_copy=copy.deepcopy(df_final_imputed)"
      ],
      "id": "1LPAz8K-xBXO",
      "execution_count": null,
      "outputs": []
    },
    {
      "cell_type": "markdown",
      "metadata": {
        "id": "S6vHJ2NfxBXO"
      },
      "source": [
        "## Scaling the data ##"
      ],
      "id": "S6vHJ2NfxBXO"
    },
    {
      "cell_type": "code",
      "metadata": {
        "id": "v1LTCMXXxBXP"
      },
      "source": [
        "scaler = MinMaxScaler()\n",
        "float_columns=df_final_imputed_copy.select_dtypes(include='float64').columns\n",
        "df_final_imputed_copy[float_columns] = scaler.fit_transform(df_final_imputed_copy[float_columns])"
      ],
      "id": "v1LTCMXXxBXP",
      "execution_count": null,
      "outputs": []
    },
    {
      "cell_type": "markdown",
      "metadata": {
        "id": "P9VlNqU0xBXP"
      },
      "source": [
        "## Forward regression ##"
      ],
      "id": "P9VlNqU0xBXP"
    },
    {
      "cell_type": "code",
      "metadata": {
        "id": "FDaN0w4CxBXP"
      },
      "source": [
        "def forward_regression(X, y,\n",
        "                       initial_list=[], \n",
        "                       threshold_in=0.01, \n",
        "                       threshold_out = 0.05, \n",
        "                       verbose=True):\n",
        "    initial_list = []\n",
        "    included = list(initial_list)\n",
        "    while True:\n",
        "        changed=False\n",
        "        # forward step\n",
        "        excluded = list(set(X.columns)-set(included))\n",
        "        new_pval = pd.Series(index=excluded)\n",
        "        for new_column in excluded:\n",
        "            model = sm.OLS(y, sm.add_constant(pd.DataFrame(X[included+[new_column]]))).fit()\n",
        "            new_pval[new_column] = model.pvalues[new_column]\n",
        "        best_pval = new_pval.min()\n",
        "        if best_pval < threshold_in:\n",
        "            best_feature = new_pval.argmin()\n",
        "            included.append(best_feature)\n",
        "            changed=True\n",
        "            if verbose:\n",
        "                print('Add   with p-value '.format(best_feature, best_pval))\n",
        "\n",
        "        if not changed:\n",
        "            break\n",
        "\n",
        "    return included"
      ],
      "id": "FDaN0w4CxBXP",
      "execution_count": null,
      "outputs": []
    },
    {
      "cell_type": "code",
      "metadata": {
        "id": "pM6Cg8LRxBXP"
      },
      "source": [
        "df_final_imputed_copy[\"Retained\"] = df_final_imputed_copy[\"Retained.in.2012.\"]\n",
        "df_final_imputed_copy.drop(columns=\"Retained.in.2012.\",inplace=True)"
      ],
      "id": "pM6Cg8LRxBXP",
      "execution_count": null,
      "outputs": []
    },
    {
      "cell_type": "code",
      "metadata": {
        "id": "XGtBml0MxBXQ"
      },
      "source": [
        "X_train= df_final_imputed_copy.drop(columns=\"Retained\")\n",
        "Y_train= df_final_imputed_copy[\"Retained\"]"
      ],
      "id": "XGtBml0MxBXQ",
      "execution_count": null,
      "outputs": []
    },
    {
      "cell_type": "code",
      "metadata": {
        "id": "bhmSAhYkxBXQ",
        "outputId": "0f15944c-6985-4e33-9a05-1b0a3334c8a1"
      },
      "source": [
        "pd.value_counts(df_final_imputed_copy[\"Retained\"])"
      ],
      "id": "bhmSAhYkxBXQ",
      "execution_count": null,
      "outputs": [
        {
          "output_type": "execute_result",
          "data": {
            "text/plain": [
              "1.0    1450\n",
              "0.0     938\n",
              "Name: Retained, dtype: int64"
            ]
          },
          "metadata": {
            "tags": []
          },
          "execution_count": 79
        }
      ]
    },
    {
      "cell_type": "code",
      "metadata": {
        "id": "LIXLzgRYxBXR",
        "outputId": "11bd6605-7d3b-463c-9e0c-ae1a1c60702f"
      },
      "source": [
        "pd.value_counts(df_merged[\"SchoolGradeTypeHigh\"])                                       "
      ],
      "id": "LIXLzgRYxBXR",
      "execution_count": null,
      "outputs": [
        {
          "output_type": "execute_result",
          "data": {
            "text/plain": [
              "Middle        1778\n",
              "High           265\n",
              "Elementary     195\n",
              "Undefined      150\n",
              "Name: SchoolGradeTypeHigh, dtype: int64"
            ]
          },
          "metadata": {
            "tags": []
          },
          "execution_count": 80
        }
      ]
    },
    {
      "cell_type": "code",
      "metadata": {
        "id": "GpSrjmDDxBXR",
        "outputId": "d7e2fe1c-7b1e-40b7-e508-6c35657e1297"
      },
      "source": [
        "forward_regression(X_train,Y_train)"
      ],
      "id": "GpSrjmDDxBXR",
      "execution_count": null,
      "outputs": [
        {
          "output_type": "stream",
          "text": [
            "/home/harshvardhan/anaconda3/lib/python3.7/site-packages/ipykernel_launcher.py:12: DeprecationWarning: The default dtype for empty Series will be 'object' instead of 'float64' in a future version. Specify a dtype explicitly to silence this warning.\n",
            "  if sys.path[0] == '':\n",
            "/home/harshvardhan/anaconda3/lib/python3.7/site-packages/ipykernel_launcher.py:12: DeprecationWarning: The default dtype for empty Series will be 'object' instead of 'float64' in a future version. Specify a dtype explicitly to silence this warning.\n",
            "  if sys.path[0] == '':\n"
          ],
          "name": "stderr"
        },
        {
          "output_type": "stream",
          "text": [
            "Add   with p-value \n"
          ],
          "name": "stdout"
        },
        {
          "output_type": "error",
          "ename": "KeyError",
          "evalue": "'[52] not in index'",
          "traceback": [
            "\u001b[0;31m---------------------------------------------------------------------------\u001b[0m",
            "\u001b[0;31mKeyError\u001b[0m                                  Traceback (most recent call last)",
            "\u001b[0;32m<ipython-input-81-2f902a4e2caf>\u001b[0m in \u001b[0;36m<module>\u001b[0;34m\u001b[0m\n\u001b[0;32m----> 1\u001b[0;31m \u001b[0mforward_regression\u001b[0m\u001b[0;34m(\u001b[0m\u001b[0mX_train\u001b[0m\u001b[0;34m,\u001b[0m\u001b[0mY_train\u001b[0m\u001b[0;34m)\u001b[0m\u001b[0;34m\u001b[0m\u001b[0;34m\u001b[0m\u001b[0m\n\u001b[0m",
            "\u001b[0;32m<ipython-input-76-1a5eae32c567>\u001b[0m in \u001b[0;36mforward_regression\u001b[0;34m(X, y, initial_list, threshold_in, threshold_out, verbose)\u001b[0m\n\u001b[1;32m     12\u001b[0m         \u001b[0mnew_pval\u001b[0m \u001b[0;34m=\u001b[0m \u001b[0mpd\u001b[0m\u001b[0;34m.\u001b[0m\u001b[0mSeries\u001b[0m\u001b[0;34m(\u001b[0m\u001b[0mindex\u001b[0m\u001b[0;34m=\u001b[0m\u001b[0mexcluded\u001b[0m\u001b[0;34m)\u001b[0m\u001b[0;34m\u001b[0m\u001b[0;34m\u001b[0m\u001b[0m\n\u001b[1;32m     13\u001b[0m         \u001b[0;32mfor\u001b[0m \u001b[0mnew_column\u001b[0m \u001b[0;32min\u001b[0m \u001b[0mexcluded\u001b[0m\u001b[0;34m:\u001b[0m\u001b[0;34m\u001b[0m\u001b[0;34m\u001b[0m\u001b[0m\n\u001b[0;32m---> 14\u001b[0;31m             \u001b[0mmodel\u001b[0m \u001b[0;34m=\u001b[0m \u001b[0msm\u001b[0m\u001b[0;34m.\u001b[0m\u001b[0mOLS\u001b[0m\u001b[0;34m(\u001b[0m\u001b[0my\u001b[0m\u001b[0;34m,\u001b[0m \u001b[0msm\u001b[0m\u001b[0;34m.\u001b[0m\u001b[0madd_constant\u001b[0m\u001b[0;34m(\u001b[0m\u001b[0mpd\u001b[0m\u001b[0;34m.\u001b[0m\u001b[0mDataFrame\u001b[0m\u001b[0;34m(\u001b[0m\u001b[0mX\u001b[0m\u001b[0;34m[\u001b[0m\u001b[0mincluded\u001b[0m\u001b[0;34m+\u001b[0m\u001b[0;34m[\u001b[0m\u001b[0mnew_column\u001b[0m\u001b[0;34m]\u001b[0m\u001b[0;34m]\u001b[0m\u001b[0;34m)\u001b[0m\u001b[0;34m)\u001b[0m\u001b[0;34m)\u001b[0m\u001b[0;34m.\u001b[0m\u001b[0mfit\u001b[0m\u001b[0;34m(\u001b[0m\u001b[0;34m)\u001b[0m\u001b[0;34m\u001b[0m\u001b[0;34m\u001b[0m\u001b[0m\n\u001b[0m\u001b[1;32m     15\u001b[0m             \u001b[0mnew_pval\u001b[0m\u001b[0;34m[\u001b[0m\u001b[0mnew_column\u001b[0m\u001b[0;34m]\u001b[0m \u001b[0;34m=\u001b[0m \u001b[0mmodel\u001b[0m\u001b[0;34m.\u001b[0m\u001b[0mpvalues\u001b[0m\u001b[0;34m[\u001b[0m\u001b[0mnew_column\u001b[0m\u001b[0;34m]\u001b[0m\u001b[0;34m\u001b[0m\u001b[0;34m\u001b[0m\u001b[0m\n\u001b[1;32m     16\u001b[0m         \u001b[0mbest_pval\u001b[0m \u001b[0;34m=\u001b[0m \u001b[0mnew_pval\u001b[0m\u001b[0;34m.\u001b[0m\u001b[0mmin\u001b[0m\u001b[0;34m(\u001b[0m\u001b[0;34m)\u001b[0m\u001b[0;34m\u001b[0m\u001b[0;34m\u001b[0m\u001b[0m\n",
            "\u001b[0;32m~/anaconda3/lib/python3.7/site-packages/pandas/core/frame.py\u001b[0m in \u001b[0;36m__getitem__\u001b[0;34m(self, key)\u001b[0m\n\u001b[1;32m   2906\u001b[0m             \u001b[0;32mif\u001b[0m \u001b[0mis_iterator\u001b[0m\u001b[0;34m(\u001b[0m\u001b[0mkey\u001b[0m\u001b[0;34m)\u001b[0m\u001b[0;34m:\u001b[0m\u001b[0;34m\u001b[0m\u001b[0;34m\u001b[0m\u001b[0m\n\u001b[1;32m   2907\u001b[0m                 \u001b[0mkey\u001b[0m \u001b[0;34m=\u001b[0m \u001b[0mlist\u001b[0m\u001b[0;34m(\u001b[0m\u001b[0mkey\u001b[0m\u001b[0;34m)\u001b[0m\u001b[0;34m\u001b[0m\u001b[0;34m\u001b[0m\u001b[0m\n\u001b[0;32m-> 2908\u001b[0;31m             \u001b[0mindexer\u001b[0m \u001b[0;34m=\u001b[0m \u001b[0mself\u001b[0m\u001b[0;34m.\u001b[0m\u001b[0mloc\u001b[0m\u001b[0;34m.\u001b[0m\u001b[0m_get_listlike_indexer\u001b[0m\u001b[0;34m(\u001b[0m\u001b[0mkey\u001b[0m\u001b[0;34m,\u001b[0m \u001b[0maxis\u001b[0m\u001b[0;34m=\u001b[0m\u001b[0;36m1\u001b[0m\u001b[0;34m,\u001b[0m \u001b[0mraise_missing\u001b[0m\u001b[0;34m=\u001b[0m\u001b[0;32mTrue\u001b[0m\u001b[0;34m)\u001b[0m\u001b[0;34m[\u001b[0m\u001b[0;36m1\u001b[0m\u001b[0;34m]\u001b[0m\u001b[0;34m\u001b[0m\u001b[0;34m\u001b[0m\u001b[0m\n\u001b[0m\u001b[1;32m   2909\u001b[0m \u001b[0;34m\u001b[0m\u001b[0m\n\u001b[1;32m   2910\u001b[0m         \u001b[0;31m# take() does not accept boolean indexers\u001b[0m\u001b[0;34m\u001b[0m\u001b[0;34m\u001b[0m\u001b[0;34m\u001b[0m\u001b[0m\n",
            "\u001b[0;32m~/anaconda3/lib/python3.7/site-packages/pandas/core/indexing.py\u001b[0m in \u001b[0;36m_get_listlike_indexer\u001b[0;34m(self, key, axis, raise_missing)\u001b[0m\n\u001b[1;32m   1252\u001b[0m             \u001b[0mkeyarr\u001b[0m\u001b[0;34m,\u001b[0m \u001b[0mindexer\u001b[0m\u001b[0;34m,\u001b[0m \u001b[0mnew_indexer\u001b[0m \u001b[0;34m=\u001b[0m \u001b[0max\u001b[0m\u001b[0;34m.\u001b[0m\u001b[0m_reindex_non_unique\u001b[0m\u001b[0;34m(\u001b[0m\u001b[0mkeyarr\u001b[0m\u001b[0;34m)\u001b[0m\u001b[0;34m\u001b[0m\u001b[0;34m\u001b[0m\u001b[0m\n\u001b[1;32m   1253\u001b[0m \u001b[0;34m\u001b[0m\u001b[0m\n\u001b[0;32m-> 1254\u001b[0;31m         \u001b[0mself\u001b[0m\u001b[0;34m.\u001b[0m\u001b[0m_validate_read_indexer\u001b[0m\u001b[0;34m(\u001b[0m\u001b[0mkeyarr\u001b[0m\u001b[0;34m,\u001b[0m \u001b[0mindexer\u001b[0m\u001b[0;34m,\u001b[0m \u001b[0maxis\u001b[0m\u001b[0;34m,\u001b[0m \u001b[0mraise_missing\u001b[0m\u001b[0;34m=\u001b[0m\u001b[0mraise_missing\u001b[0m\u001b[0;34m)\u001b[0m\u001b[0;34m\u001b[0m\u001b[0;34m\u001b[0m\u001b[0m\n\u001b[0m\u001b[1;32m   1255\u001b[0m         \u001b[0;32mreturn\u001b[0m \u001b[0mkeyarr\u001b[0m\u001b[0;34m,\u001b[0m \u001b[0mindexer\u001b[0m\u001b[0;34m\u001b[0m\u001b[0;34m\u001b[0m\u001b[0m\n\u001b[1;32m   1256\u001b[0m \u001b[0;34m\u001b[0m\u001b[0m\n",
            "\u001b[0;32m~/anaconda3/lib/python3.7/site-packages/pandas/core/indexing.py\u001b[0m in \u001b[0;36m_validate_read_indexer\u001b[0;34m(self, key, indexer, axis, raise_missing)\u001b[0m\n\u001b[1;32m   1302\u001b[0m             \u001b[0;32mif\u001b[0m \u001b[0mraise_missing\u001b[0m\u001b[0;34m:\u001b[0m\u001b[0;34m\u001b[0m\u001b[0;34m\u001b[0m\u001b[0m\n\u001b[1;32m   1303\u001b[0m                 \u001b[0mnot_found\u001b[0m \u001b[0;34m=\u001b[0m \u001b[0mlist\u001b[0m\u001b[0;34m(\u001b[0m\u001b[0mset\u001b[0m\u001b[0;34m(\u001b[0m\u001b[0mkey\u001b[0m\u001b[0;34m)\u001b[0m \u001b[0;34m-\u001b[0m \u001b[0mset\u001b[0m\u001b[0;34m(\u001b[0m\u001b[0max\u001b[0m\u001b[0;34m)\u001b[0m\u001b[0;34m)\u001b[0m\u001b[0;34m\u001b[0m\u001b[0;34m\u001b[0m\u001b[0m\n\u001b[0;32m-> 1304\u001b[0;31m                 \u001b[0;32mraise\u001b[0m \u001b[0mKeyError\u001b[0m\u001b[0;34m(\u001b[0m\u001b[0;34mf\"{not_found} not in index\"\u001b[0m\u001b[0;34m)\u001b[0m\u001b[0;34m\u001b[0m\u001b[0;34m\u001b[0m\u001b[0m\n\u001b[0m\u001b[1;32m   1305\u001b[0m \u001b[0;34m\u001b[0m\u001b[0m\n\u001b[1;32m   1306\u001b[0m             \u001b[0;31m# we skip the warning on Categorical\u001b[0m\u001b[0;34m\u001b[0m\u001b[0;34m\u001b[0m\u001b[0;34m\u001b[0m\u001b[0m\n",
            "\u001b[0;31mKeyError\u001b[0m: '[52] not in index'"
          ]
        }
      ]
    },
    {
      "cell_type": "markdown",
      "metadata": {
        "id": "jfepYOItxBXR"
      },
      "source": [
        "## Generalized linear model ##"
      ],
      "id": "jfepYOItxBXR"
    },
    {
      "cell_type": "code",
      "metadata": {
        "id": "rkNwo1d7xBXR",
        "outputId": "caeeb3d3-9a79-4b13-caa4-fa3a847077b5"
      },
      "source": [
        "import statsmodels.api as sm\n",
        "\n",
        "exog = sm.add_constant(X_train)\n",
        "endog=Y_train\n",
        "gamma_model = sm.GLM(endog,exog,family=sm.families.Gamma())\n",
        "\n",
        "gamma_results = gamma_model.fit()\n",
        "\n",
        "print(gamma_results.summary())"
      ],
      "id": "rkNwo1d7xBXR",
      "execution_count": null,
      "outputs": [
        {
          "output_type": "stream",
          "text": [
            "/home/harshvardhan/anaconda3/lib/python3.7/site-packages/statsmodels/genmod/generalized_linear_model.py:296: DomainWarning: The inverse_power link function does not respect the domain of the Gamma family.\n",
            "  DomainWarning)\n"
          ],
          "name": "stderr"
        },
        {
          "output_type": "stream",
          "text": [
            "                 Generalized Linear Model Regression Results                  \n",
            "==============================================================================\n",
            "Dep. Variable:               Retained   No. Observations:                 2388\n",
            "Model:                            GLM   Df Residuals:                     2338\n",
            "Model Family:                   Gamma   Df Model:                           49\n",
            "Link Function:          inverse_power   Scale:                          1.4250\n",
            "Method:                          IRLS   Log-Likelihood:                    inf\n",
            "Date:                Thu, 08 Apr 2021   Deviance:                       66556.\n",
            "Time:                        05:06:00   Pearson chi2:                 3.33e+03\n",
            "No. Iterations:                    65                                         \n",
            "Covariance Type:            nonrobust                                         \n",
            "=====================================================================================================\n",
            "                                        coef    std err          z      P>|z|      [0.025      0.975]\n",
            "-----------------------------------------------------------------------------------------------------\n",
            "const                                 0.3302      0.227      1.457      0.145      -0.114       0.775\n",
            "Is.Non.Annual.                        4.4815      0.390     11.500      0.000       3.718       5.245\n",
            "Days                                 -0.0299      0.462     -0.065      0.948      -0.936       0.876\n",
            "Tuition                               0.3582      0.412      0.869      0.385      -0.450       1.166\n",
            "Parent.Meeting.Flag                  -0.0131      0.156     -0.083      0.933      -0.320       0.294\n",
            "MDR.High.Grade                        0.7703      0.339      2.275      0.023       0.107       1.434\n",
            "School.Sponsor                       -0.0619      0.128     -0.483      0.629      -0.313       0.189\n",
            "NumberOfMeetingswithParents           0.0028      0.185      0.015      0.988      -0.359       0.365\n",
            "DifferenceTraveltoLastMeeting         0.7862      0.745      1.055      0.291      -0.674       2.246\n",
            "FPP.to.School.enrollment              0.1689      1.175      0.144      0.886      -2.134       2.472\n",
            "FPP.to.PAX                            0.2133      0.443      0.481      0.630      -0.656       1.082\n",
            "frp.active                           -0.2386      0.184     -1.294      0.196      -0.600       0.123\n",
            "cancelled.PAX                         0.9325      0.967      0.964      0.335      -0.963       2.828\n",
            "School.Type_CHD                       0.0635      0.116      0.548      0.584      -0.164       0.290\n",
            "School.Type_Catholic                  0.0905      0.126      0.719      0.472      -0.156       0.337\n",
            "School.Type_PUBLIC                    0.2174      0.088      2.482      0.013       0.046       0.389\n",
            "School.Type_Private non-Christian    -0.0411      0.127     -0.323      0.747      -0.291       0.208\n",
            "Income.Level_A                        0.3388      0.624      0.543      0.587      -0.884       1.562\n",
            "Income.Level_B                        0.2292      0.557      0.411      0.681      -0.862       1.321\n",
            "Income.Level_C                        0.4271      0.489      0.874      0.382      -0.531       1.385\n",
            "Income.Level_D                        0.1956      0.509      0.384      0.701      -0.802       1.193\n",
            "Income.Level_E                        0.3948      0.477      0.827      0.408      -0.540       1.330\n",
            "Income.Level_F                        0.1770      0.444      0.399      0.690      -0.694       1.048\n",
            "Income.Level_G                        0.2180      0.453      0.482      0.630      -0.669       1.105\n",
            "Income.Level_H                        0.1840      0.434      0.424      0.671      -0.666       1.034\n",
            "Income.Level_I                        0.2405      0.423      0.568      0.570      -0.589       1.070\n",
            "Income.Level_J                        0.2947      0.425      0.693      0.488      -0.539       1.128\n",
            "Income.Level_K                        0.1910      0.426      0.449      0.654      -0.643       1.025\n",
            "Income.Level_L                        0.2289      0.416      0.550      0.583      -0.587       1.045\n",
            "Income.Level_M                        0.1331      0.415      0.321      0.749      -0.681       0.947\n",
            "Income.Level_N                        0.2903      0.420      0.691      0.490      -0.534       1.114\n",
            "Income.Level_O                        0.1980      0.407      0.487      0.626      -0.599       0.995\n",
            "Income.Level_P                        0.0718      0.407      0.177      0.860      -0.726       0.870\n",
            "Income.Level_P1                      -0.1294      0.860     -0.150      0.880      -1.815       1.556\n",
            "Income.Level_P3                       0.6976      1.673      0.417      0.677      -2.582       3.977\n",
            "Income.Level_P4                      -0.4101      0.895     -0.458      0.647      -2.165       1.345\n",
            "Income.Level_P5                      -0.0736      1.242     -0.059      0.953      -2.509       2.361\n",
            "Income.Level_Q                        0.2494      0.411      0.606      0.544      -0.557       1.056\n",
            "Income.Level_Z                        0.2167      0.493      0.439      0.660      -0.750       1.183\n",
            "SPR.New.Existing_EXISTING            -0.3656      0.127     -2.871      0.004      -0.615      -0.116\n",
            "SPR.New.Existing_NEW                  0.6958      0.135      5.136      0.000       0.430       0.961\n",
            "SchoolGradeTypeHigh_Elementary        0.0444      0.164      0.271      0.786      -0.276       0.365\n",
            "SchoolGradeTypeHigh_High              0.7019      0.225      3.115      0.002       0.260       1.144\n",
            "SchoolGradeTypeHigh_Middle           -0.2032      0.102     -1.996      0.046      -0.403      -0.004\n",
            "SchoolGradeTypeHigh_Undefined        -0.2129      0.146     -1.457      0.145      -0.499       0.074\n",
            "SchoolSizeIndicator_L                -0.2425      0.326     -0.745      0.456      -0.881       0.396\n",
            "SchoolSizeIndicator_M-L              -0.1553      0.324     -0.479      0.632      -0.790       0.480\n",
            "SchoolSizeIndicator_S                 0.0923      0.332      0.278      0.781      -0.558       0.743\n",
            "SchoolSizeIndicator_S-M              -0.1607      0.322     -0.500      0.617      -0.791       0.470\n",
            "fpp_small                             0.5114      0.132      3.872      0.000       0.253       0.770\n",
            "fpp_critical                          0.0595      0.101      0.592      0.554      -0.138       0.257\n",
            "fpp_safe                             -0.1111      0.095     -1.170      0.242      -0.297       0.075\n",
            "fpp_large                            -0.1295      0.101     -1.276      0.202      -0.328       0.069\n",
            "trend_0                               0.1637      0.119      1.379      0.168      -0.069       0.396\n",
            "trend_1                               0.1665      0.132      1.266      0.206      -0.091       0.424\n",
            "=====================================================================================================\n"
          ],
          "name": "stdout"
        },
        {
          "output_type": "stream",
          "text": [
            "/home/harshvardhan/anaconda3/lib/python3.7/site-packages/statsmodels/genmod/families/family.py:735: RuntimeWarning: divide by zero encountered in log\n",
            "  ll_obs -= special.gammaln(weight_scale) + np.log(endog)\n"
          ],
          "name": "stderr"
        }
      ]
    },
    {
      "cell_type": "code",
      "metadata": {
        "id": "AyzRWxpkxBXS",
        "outputId": "3a0f52f2-70f3-4f8b-9e9c-f6f6f4dd1cbf"
      },
      "source": [
        "sm.add_constant(X_train)"
      ],
      "id": "AyzRWxpkxBXS",
      "execution_count": null,
      "outputs": [
        {
          "output_type": "execute_result",
          "data": {
            "text/html": [
              "<div>\n",
              "<style scoped>\n",
              "    .dataframe tbody tr th:only-of-type {\n",
              "        vertical-align: middle;\n",
              "    }\n",
              "\n",
              "    .dataframe tbody tr th {\n",
              "        vertical-align: top;\n",
              "    }\n",
              "\n",
              "    .dataframe thead th {\n",
              "        text-align: right;\n",
              "    }\n",
              "</style>\n",
              "<table border=\"1\" class=\"dataframe\">\n",
              "  <thead>\n",
              "    <tr style=\"text-align: right;\">\n",
              "      <th></th>\n",
              "      <th>const</th>\n",
              "      <th>Is.Non.Annual.</th>\n",
              "      <th>Days</th>\n",
              "      <th>Tuition</th>\n",
              "      <th>Parent.Meeting.Flag</th>\n",
              "      <th>MDR.High.Grade</th>\n",
              "      <th>School.Sponsor</th>\n",
              "      <th>NumberOfMeetingswithParents</th>\n",
              "      <th>DifferenceTraveltoLastMeeting</th>\n",
              "      <th>FPP.to.School.enrollment</th>\n",
              "      <th>...</th>\n",
              "      <th>SchoolSizeIndicator_L</th>\n",
              "      <th>SchoolSizeIndicator_M-L</th>\n",
              "      <th>SchoolSizeIndicator_S</th>\n",
              "      <th>SchoolSizeIndicator_S-M</th>\n",
              "      <th>fpp_small</th>\n",
              "      <th>fpp_critical</th>\n",
              "      <th>fpp_safe</th>\n",
              "      <th>fpp_large</th>\n",
              "      <th>trend_0</th>\n",
              "      <th>trend_1</th>\n",
              "    </tr>\n",
              "  </thead>\n",
              "  <tbody>\n",
              "    <tr>\n",
              "      <th>0</th>\n",
              "      <td>1.0</td>\n",
              "      <td>0.0</td>\n",
              "      <td>0.545455</td>\n",
              "      <td>0.551080</td>\n",
              "      <td>1.0</td>\n",
              "      <td>0.636364</td>\n",
              "      <td>0.0</td>\n",
              "      <td>1.0</td>\n",
              "      <td>0.360965</td>\n",
              "      <td>0.013850</td>\n",
              "      <td>...</td>\n",
              "      <td>1.0</td>\n",
              "      <td>0.0</td>\n",
              "      <td>0.0</td>\n",
              "      <td>0.0</td>\n",
              "      <td>0.0</td>\n",
              "      <td>0.0</td>\n",
              "      <td>1.0</td>\n",
              "      <td>0.0</td>\n",
              "      <td>0.0</td>\n",
              "      <td>1.0</td>\n",
              "    </tr>\n",
              "    <tr>\n",
              "      <th>1</th>\n",
              "      <td>1.0</td>\n",
              "      <td>0.0</td>\n",
              "      <td>0.181818</td>\n",
              "      <td>0.267411</td>\n",
              "      <td>1.0</td>\n",
              "      <td>0.636364</td>\n",
              "      <td>0.0</td>\n",
              "      <td>0.5</td>\n",
              "      <td>0.344176</td>\n",
              "      <td>0.013485</td>\n",
              "      <td>...</td>\n",
              "      <td>1.0</td>\n",
              "      <td>0.0</td>\n",
              "      <td>0.0</td>\n",
              "      <td>0.0</td>\n",
              "      <td>0.0</td>\n",
              "      <td>0.0</td>\n",
              "      <td>1.0</td>\n",
              "      <td>0.0</td>\n",
              "      <td>1.0</td>\n",
              "      <td>0.0</td>\n",
              "    </tr>\n",
              "    <tr>\n",
              "      <th>2</th>\n",
              "      <td>1.0</td>\n",
              "      <td>1.0</td>\n",
              "      <td>0.181818</td>\n",
              "      <td>0.072070</td>\n",
              "      <td>0.0</td>\n",
              "      <td>0.939663</td>\n",
              "      <td>0.0</td>\n",
              "      <td>0.0</td>\n",
              "      <td>0.447905</td>\n",
              "      <td>0.031979</td>\n",
              "      <td>...</td>\n",
              "      <td>0.0</td>\n",
              "      <td>0.0</td>\n",
              "      <td>0.0</td>\n",
              "      <td>0.0</td>\n",
              "      <td>0.0</td>\n",
              "      <td>1.0</td>\n",
              "      <td>0.0</td>\n",
              "      <td>0.0</td>\n",
              "      <td>1.0</td>\n",
              "      <td>0.0</td>\n",
              "    </tr>\n",
              "    <tr>\n",
              "      <th>3</th>\n",
              "      <td>1.0</td>\n",
              "      <td>0.0</td>\n",
              "      <td>0.454545</td>\n",
              "      <td>0.190730</td>\n",
              "      <td>1.0</td>\n",
              "      <td>0.636364</td>\n",
              "      <td>0.0</td>\n",
              "      <td>0.5</td>\n",
              "      <td>0.366212</td>\n",
              "      <td>0.055996</td>\n",
              "      <td>...</td>\n",
              "      <td>0.0</td>\n",
              "      <td>1.0</td>\n",
              "      <td>0.0</td>\n",
              "      <td>0.0</td>\n",
              "      <td>0.0</td>\n",
              "      <td>0.0</td>\n",
              "      <td>0.0</td>\n",
              "      <td>1.0</td>\n",
              "      <td>1.0</td>\n",
              "      <td>0.0</td>\n",
              "    </tr>\n",
              "    <tr>\n",
              "      <th>4</th>\n",
              "      <td>1.0</td>\n",
              "      <td>0.0</td>\n",
              "      <td>0.272727</td>\n",
              "      <td>0.472215</td>\n",
              "      <td>1.0</td>\n",
              "      <td>1.000000</td>\n",
              "      <td>0.0</td>\n",
              "      <td>0.5</td>\n",
              "      <td>0.309549</td>\n",
              "      <td>0.006439</td>\n",
              "      <td>...</td>\n",
              "      <td>1.0</td>\n",
              "      <td>0.0</td>\n",
              "      <td>0.0</td>\n",
              "      <td>0.0</td>\n",
              "      <td>1.0</td>\n",
              "      <td>0.0</td>\n",
              "      <td>0.0</td>\n",
              "      <td>0.0</td>\n",
              "      <td>1.0</td>\n",
              "      <td>0.0</td>\n",
              "    </tr>\n",
              "    <tr>\n",
              "      <th>...</th>\n",
              "      <td>...</td>\n",
              "      <td>...</td>\n",
              "      <td>...</td>\n",
              "      <td>...</td>\n",
              "      <td>...</td>\n",
              "      <td>...</td>\n",
              "      <td>...</td>\n",
              "      <td>...</td>\n",
              "      <td>...</td>\n",
              "      <td>...</td>\n",
              "      <td>...</td>\n",
              "      <td>...</td>\n",
              "      <td>...</td>\n",
              "      <td>...</td>\n",
              "      <td>...</td>\n",
              "      <td>...</td>\n",
              "      <td>...</td>\n",
              "      <td>...</td>\n",
              "      <td>...</td>\n",
              "      <td>...</td>\n",
              "      <td>...</td>\n",
              "    </tr>\n",
              "    <tr>\n",
              "      <th>2383</th>\n",
              "      <td>1.0</td>\n",
              "      <td>0.0</td>\n",
              "      <td>0.363636</td>\n",
              "      <td>0.439942</td>\n",
              "      <td>0.0</td>\n",
              "      <td>0.636364</td>\n",
              "      <td>0.0</td>\n",
              "      <td>0.0</td>\n",
              "      <td>0.459258</td>\n",
              "      <td>0.010492</td>\n",
              "      <td>...</td>\n",
              "      <td>1.0</td>\n",
              "      <td>0.0</td>\n",
              "      <td>0.0</td>\n",
              "      <td>0.0</td>\n",
              "      <td>0.0</td>\n",
              "      <td>0.0</td>\n",
              "      <td>1.0</td>\n",
              "      <td>0.0</td>\n",
              "      <td>1.0</td>\n",
              "      <td>0.0</td>\n",
              "    </tr>\n",
              "    <tr>\n",
              "      <th>2384</th>\n",
              "      <td>1.0</td>\n",
              "      <td>0.0</td>\n",
              "      <td>0.363636</td>\n",
              "      <td>0.393108</td>\n",
              "      <td>1.0</td>\n",
              "      <td>0.454545</td>\n",
              "      <td>0.0</td>\n",
              "      <td>1.0</td>\n",
              "      <td>0.492130</td>\n",
              "      <td>0.018181</td>\n",
              "      <td>...</td>\n",
              "      <td>0.0</td>\n",
              "      <td>0.0</td>\n",
              "      <td>0.0</td>\n",
              "      <td>1.0</td>\n",
              "      <td>0.0</td>\n",
              "      <td>1.0</td>\n",
              "      <td>0.0</td>\n",
              "      <td>0.0</td>\n",
              "      <td>1.0</td>\n",
              "      <td>0.0</td>\n",
              "    </tr>\n",
              "    <tr>\n",
              "      <th>2385</th>\n",
              "      <td>1.0</td>\n",
              "      <td>0.0</td>\n",
              "      <td>0.454545</td>\n",
              "      <td>0.502305</td>\n",
              "      <td>0.0</td>\n",
              "      <td>0.825630</td>\n",
              "      <td>0.0</td>\n",
              "      <td>0.0</td>\n",
              "      <td>0.452049</td>\n",
              "      <td>0.028758</td>\n",
              "      <td>...</td>\n",
              "      <td>0.0</td>\n",
              "      <td>0.0</td>\n",
              "      <td>0.0</td>\n",
              "      <td>0.0</td>\n",
              "      <td>0.0</td>\n",
              "      <td>0.0</td>\n",
              "      <td>1.0</td>\n",
              "      <td>0.0</td>\n",
              "      <td>1.0</td>\n",
              "      <td>0.0</td>\n",
              "    </tr>\n",
              "    <tr>\n",
              "      <th>2386</th>\n",
              "      <td>1.0</td>\n",
              "      <td>0.0</td>\n",
              "      <td>0.000000</td>\n",
              "      <td>0.089784</td>\n",
              "      <td>1.0</td>\n",
              "      <td>0.530009</td>\n",
              "      <td>0.0</td>\n",
              "      <td>0.5</td>\n",
              "      <td>0.515215</td>\n",
              "      <td>0.013921</td>\n",
              "      <td>...</td>\n",
              "      <td>0.0</td>\n",
              "      <td>0.0</td>\n",
              "      <td>0.0</td>\n",
              "      <td>0.0</td>\n",
              "      <td>0.0</td>\n",
              "      <td>1.0</td>\n",
              "      <td>0.0</td>\n",
              "      <td>0.0</td>\n",
              "      <td>1.0</td>\n",
              "      <td>0.0</td>\n",
              "    </tr>\n",
              "    <tr>\n",
              "      <th>2387</th>\n",
              "      <td>1.0</td>\n",
              "      <td>0.0</td>\n",
              "      <td>0.454545</td>\n",
              "      <td>0.498908</td>\n",
              "      <td>1.0</td>\n",
              "      <td>0.636364</td>\n",
              "      <td>0.0</td>\n",
              "      <td>0.5</td>\n",
              "      <td>0.500525</td>\n",
              "      <td>0.014740</td>\n",
              "      <td>...</td>\n",
              "      <td>1.0</td>\n",
              "      <td>0.0</td>\n",
              "      <td>0.0</td>\n",
              "      <td>0.0</td>\n",
              "      <td>0.0</td>\n",
              "      <td>0.0</td>\n",
              "      <td>1.0</td>\n",
              "      <td>0.0</td>\n",
              "      <td>1.0</td>\n",
              "      <td>0.0</td>\n",
              "    </tr>\n",
              "  </tbody>\n",
              "</table>\n",
              "<p>2388 rows × 55 columns</p>\n",
              "</div>"
            ],
            "text/plain": [
              "      const  Is.Non.Annual.      Days   Tuition  Parent.Meeting.Flag  \\\n",
              "0       1.0             0.0  0.545455  0.551080                  1.0   \n",
              "1       1.0             0.0  0.181818  0.267411                  1.0   \n",
              "2       1.0             1.0  0.181818  0.072070                  0.0   \n",
              "3       1.0             0.0  0.454545  0.190730                  1.0   \n",
              "4       1.0             0.0  0.272727  0.472215                  1.0   \n",
              "...     ...             ...       ...       ...                  ...   \n",
              "2383    1.0             0.0  0.363636  0.439942                  0.0   \n",
              "2384    1.0             0.0  0.363636  0.393108                  1.0   \n",
              "2385    1.0             0.0  0.454545  0.502305                  0.0   \n",
              "2386    1.0             0.0  0.000000  0.089784                  1.0   \n",
              "2387    1.0             0.0  0.454545  0.498908                  1.0   \n",
              "\n",
              "      MDR.High.Grade  School.Sponsor  NumberOfMeetingswithParents  \\\n",
              "0           0.636364             0.0                          1.0   \n",
              "1           0.636364             0.0                          0.5   \n",
              "2           0.939663             0.0                          0.0   \n",
              "3           0.636364             0.0                          0.5   \n",
              "4           1.000000             0.0                          0.5   \n",
              "...              ...             ...                          ...   \n",
              "2383        0.636364             0.0                          0.0   \n",
              "2384        0.454545             0.0                          1.0   \n",
              "2385        0.825630             0.0                          0.0   \n",
              "2386        0.530009             0.0                          0.5   \n",
              "2387        0.636364             0.0                          0.5   \n",
              "\n",
              "      DifferenceTraveltoLastMeeting  FPP.to.School.enrollment  ...  \\\n",
              "0                          0.360965                  0.013850  ...   \n",
              "1                          0.344176                  0.013485  ...   \n",
              "2                          0.447905                  0.031979  ...   \n",
              "3                          0.366212                  0.055996  ...   \n",
              "4                          0.309549                  0.006439  ...   \n",
              "...                             ...                       ...  ...   \n",
              "2383                       0.459258                  0.010492  ...   \n",
              "2384                       0.492130                  0.018181  ...   \n",
              "2385                       0.452049                  0.028758  ...   \n",
              "2386                       0.515215                  0.013921  ...   \n",
              "2387                       0.500525                  0.014740  ...   \n",
              "\n",
              "      SchoolSizeIndicator_L  SchoolSizeIndicator_M-L  SchoolSizeIndicator_S  \\\n",
              "0                       1.0                      0.0                    0.0   \n",
              "1                       1.0                      0.0                    0.0   \n",
              "2                       0.0                      0.0                    0.0   \n",
              "3                       0.0                      1.0                    0.0   \n",
              "4                       1.0                      0.0                    0.0   \n",
              "...                     ...                      ...                    ...   \n",
              "2383                    1.0                      0.0                    0.0   \n",
              "2384                    0.0                      0.0                    0.0   \n",
              "2385                    0.0                      0.0                    0.0   \n",
              "2386                    0.0                      0.0                    0.0   \n",
              "2387                    1.0                      0.0                    0.0   \n",
              "\n",
              "      SchoolSizeIndicator_S-M  fpp_small  fpp_critical  fpp_safe  fpp_large  \\\n",
              "0                         0.0        0.0           0.0       1.0        0.0   \n",
              "1                         0.0        0.0           0.0       1.0        0.0   \n",
              "2                         0.0        0.0           1.0       0.0        0.0   \n",
              "3                         0.0        0.0           0.0       0.0        1.0   \n",
              "4                         0.0        1.0           0.0       0.0        0.0   \n",
              "...                       ...        ...           ...       ...        ...   \n",
              "2383                      0.0        0.0           0.0       1.0        0.0   \n",
              "2384                      1.0        0.0           1.0       0.0        0.0   \n",
              "2385                      0.0        0.0           0.0       1.0        0.0   \n",
              "2386                      0.0        0.0           1.0       0.0        0.0   \n",
              "2387                      0.0        0.0           0.0       1.0        0.0   \n",
              "\n",
              "      trend_0  trend_1  \n",
              "0         0.0      1.0  \n",
              "1         1.0      0.0  \n",
              "2         1.0      0.0  \n",
              "3         1.0      0.0  \n",
              "4         1.0      0.0  \n",
              "...       ...      ...  \n",
              "2383      1.0      0.0  \n",
              "2384      1.0      0.0  \n",
              "2385      1.0      0.0  \n",
              "2386      1.0      0.0  \n",
              "2387      1.0      0.0  \n",
              "\n",
              "[2388 rows x 55 columns]"
            ]
          },
          "metadata": {
            "tags": []
          },
          "execution_count": 84
        }
      ]
    },
    {
      "cell_type": "code",
      "metadata": {
        "id": "GlSKdOMmxBXS"
      },
      "source": [
        ""
      ],
      "id": "GlSKdOMmxBXS",
      "execution_count": null,
      "outputs": []
    }
  ]
}