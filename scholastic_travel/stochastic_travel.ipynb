{
  "nbformat": 4,
  "nbformat_minor": 5,
  "metadata": {
    "kernelspec": {
      "display_name": "Python 3",
      "language": "python",
      "name": "python3"
    },
    "language_info": {
      "codemirror_mode": {
        "name": "ipython",
        "version": 3
      },
      "file_extension": ".py",
      "mimetype": "text/x-python",
      "name": "python",
      "nbconvert_exporter": "python",
      "pygments_lexer": "ipython3",
      "version": "3.7.3"
    },
    "colab": {
      "name": "stochastic_travel.ipynb",
      "provenance": [],
      "include_colab_link": true
    }
  },
  "cells": [
    {
      "cell_type": "markdown",
      "metadata": {
        "id": "view-in-github",
        "colab_type": "text"
      },
      "source": [
        "<a href=\"https://colab.research.google.com/github/tleitch/BDML/blob/main/scholastic_travel/stochastic_travel.ipynb\" target=\"_parent\"><img src=\"https://colab.research.google.com/assets/colab-badge.svg\" alt=\"Open In Colab\"/></a>"
      ]
    },
    {
      "cell_type": "code",
      "metadata": {
        "id": "Mguf8tbdxBW-",
        "outputId": "711a34b5-c825-47cb-9c2d-2205aa83eae0",
        "colab": {
          "base_uri": "https://localhost:8080/"
        }
      },
      "source": [
        "!pip install fancyimpute"
      ],
      "id": "Mguf8tbdxBW-",
      "execution_count": 1,
      "outputs": [
        {
          "output_type": "stream",
          "text": [
            "Requirement already satisfied: fancyimpute in /usr/local/lib/python3.7/dist-packages (0.4.3)\n",
            "Requirement already satisfied: keras>=2.0.0 in /usr/local/lib/python3.7/dist-packages (from fancyimpute) (2.4.3)\n",
            "Requirement already satisfied: np-utils in /usr/local/lib/python3.7/dist-packages (from fancyimpute) (0.5.12.1)\n",
            "Requirement already satisfied: cvxpy>=1.0.6 in /usr/local/lib/python3.7/dist-packages (from fancyimpute) (1.0.31)\n",
            "Requirement already satisfied: scipy in /usr/local/lib/python3.7/dist-packages (from fancyimpute) (1.4.1)\n",
            "Requirement already satisfied: tensorflow in /usr/local/lib/python3.7/dist-packages (from fancyimpute) (2.4.1)\n",
            "Requirement already satisfied: knnimpute in /usr/local/lib/python3.7/dist-packages (from fancyimpute) (0.1.0)\n",
            "Requirement already satisfied: numpy>=1.10 in /usr/local/lib/python3.7/dist-packages (from fancyimpute) (1.19.5)\n",
            "Requirement already satisfied: six in /usr/local/lib/python3.7/dist-packages (from fancyimpute) (1.15.0)\n",
            "Requirement already satisfied: scikit-learn>=0.19.1 in /usr/local/lib/python3.7/dist-packages (from fancyimpute) (0.22.2.post1)\n",
            "Requirement already satisfied: h5py in /usr/local/lib/python3.7/dist-packages (from keras>=2.0.0->fancyimpute) (2.10.0)\n",
            "Requirement already satisfied: pyyaml in /usr/local/lib/python3.7/dist-packages (from keras>=2.0.0->fancyimpute) (3.13)\n",
            "Requirement already satisfied: future>=0.16 in /usr/local/lib/python3.7/dist-packages (from np-utils->fancyimpute) (0.16.0)\n",
            "Requirement already satisfied: scs>=1.1.3 in /usr/local/lib/python3.7/dist-packages (from cvxpy>=1.0.6->fancyimpute) (2.1.2)\n",
            "Requirement already satisfied: multiprocess in /usr/local/lib/python3.7/dist-packages (from cvxpy>=1.0.6->fancyimpute) (0.70.11.1)\n",
            "Requirement already satisfied: osqp>=0.4.1 in /usr/local/lib/python3.7/dist-packages (from cvxpy>=1.0.6->fancyimpute) (0.6.2.post0)\n",
            "Requirement already satisfied: ecos>=2 in /usr/local/lib/python3.7/dist-packages (from cvxpy>=1.0.6->fancyimpute) (2.0.7.post1)\n",
            "Requirement already satisfied: google-pasta~=0.2 in /usr/local/lib/python3.7/dist-packages (from tensorflow->fancyimpute) (0.2.0)\n",
            "Requirement already satisfied: opt-einsum~=3.3.0 in /usr/local/lib/python3.7/dist-packages (from tensorflow->fancyimpute) (3.3.0)\n",
            "Requirement already satisfied: absl-py~=0.10 in /usr/local/lib/python3.7/dist-packages (from tensorflow->fancyimpute) (0.12.0)\n",
            "Requirement already satisfied: protobuf>=3.9.2 in /usr/local/lib/python3.7/dist-packages (from tensorflow->fancyimpute) (3.12.4)\n",
            "Requirement already satisfied: flatbuffers~=1.12.0 in /usr/local/lib/python3.7/dist-packages (from tensorflow->fancyimpute) (1.12)\n",
            "Requirement already satisfied: wrapt~=1.12.1 in /usr/local/lib/python3.7/dist-packages (from tensorflow->fancyimpute) (1.12.1)\n",
            "Requirement already satisfied: gast==0.3.3 in /usr/local/lib/python3.7/dist-packages (from tensorflow->fancyimpute) (0.3.3)\n",
            "Requirement already satisfied: wheel~=0.35 in /usr/local/lib/python3.7/dist-packages (from tensorflow->fancyimpute) (0.36.2)\n",
            "Requirement already satisfied: astunparse~=1.6.3 in /usr/local/lib/python3.7/dist-packages (from tensorflow->fancyimpute) (1.6.3)\n",
            "Requirement already satisfied: tensorboard~=2.4 in /usr/local/lib/python3.7/dist-packages (from tensorflow->fancyimpute) (2.4.1)\n",
            "Requirement already satisfied: grpcio~=1.32.0 in /usr/local/lib/python3.7/dist-packages (from tensorflow->fancyimpute) (1.32.0)\n",
            "Requirement already satisfied: termcolor~=1.1.0 in /usr/local/lib/python3.7/dist-packages (from tensorflow->fancyimpute) (1.1.0)\n",
            "Requirement already satisfied: tensorflow-estimator<2.5.0,>=2.4.0 in /usr/local/lib/python3.7/dist-packages (from tensorflow->fancyimpute) (2.4.0)\n",
            "Requirement already satisfied: typing-extensions~=3.7.4 in /usr/local/lib/python3.7/dist-packages (from tensorflow->fancyimpute) (3.7.4.3)\n",
            "Requirement already satisfied: keras-preprocessing~=1.1.2 in /usr/local/lib/python3.7/dist-packages (from tensorflow->fancyimpute) (1.1.2)\n",
            "Requirement already satisfied: joblib>=0.11 in /usr/local/lib/python3.7/dist-packages (from scikit-learn>=0.19.1->fancyimpute) (1.0.1)\n",
            "Requirement already satisfied: dill>=0.3.3 in /usr/local/lib/python3.7/dist-packages (from multiprocess->cvxpy>=1.0.6->fancyimpute) (0.3.3)\n",
            "Requirement already satisfied: qdldl in /usr/local/lib/python3.7/dist-packages (from osqp>=0.4.1->cvxpy>=1.0.6->fancyimpute) (0.1.5.post0)\n",
            "Requirement already satisfied: setuptools in /usr/local/lib/python3.7/dist-packages (from protobuf>=3.9.2->tensorflow->fancyimpute) (54.2.0)\n",
            "Requirement already satisfied: requests<3,>=2.21.0 in /usr/local/lib/python3.7/dist-packages (from tensorboard~=2.4->tensorflow->fancyimpute) (2.23.0)\n",
            "Requirement already satisfied: werkzeug>=0.11.15 in /usr/local/lib/python3.7/dist-packages (from tensorboard~=2.4->tensorflow->fancyimpute) (1.0.1)\n",
            "Requirement already satisfied: markdown>=2.6.8 in /usr/local/lib/python3.7/dist-packages (from tensorboard~=2.4->tensorflow->fancyimpute) (3.3.4)\n",
            "Requirement already satisfied: tensorboard-plugin-wit>=1.6.0 in /usr/local/lib/python3.7/dist-packages (from tensorboard~=2.4->tensorflow->fancyimpute) (1.8.0)\n",
            "Requirement already satisfied: google-auth-oauthlib<0.5,>=0.4.1 in /usr/local/lib/python3.7/dist-packages (from tensorboard~=2.4->tensorflow->fancyimpute) (0.4.3)\n",
            "Requirement already satisfied: google-auth<2,>=1.6.3 in /usr/local/lib/python3.7/dist-packages (from tensorboard~=2.4->tensorflow->fancyimpute) (1.28.0)\n",
            "Requirement already satisfied: chardet<4,>=3.0.2 in /usr/local/lib/python3.7/dist-packages (from requests<3,>=2.21.0->tensorboard~=2.4->tensorflow->fancyimpute) (3.0.4)\n",
            "Requirement already satisfied: urllib3!=1.25.0,!=1.25.1,<1.26,>=1.21.1 in /usr/local/lib/python3.7/dist-packages (from requests<3,>=2.21.0->tensorboard~=2.4->tensorflow->fancyimpute) (1.24.3)\n",
            "Requirement already satisfied: certifi>=2017.4.17 in /usr/local/lib/python3.7/dist-packages (from requests<3,>=2.21.0->tensorboard~=2.4->tensorflow->fancyimpute) (2020.12.5)\n",
            "Requirement already satisfied: idna<3,>=2.5 in /usr/local/lib/python3.7/dist-packages (from requests<3,>=2.21.0->tensorboard~=2.4->tensorflow->fancyimpute) (2.10)\n",
            "Requirement already satisfied: importlib-metadata; python_version < \"3.8\" in /usr/local/lib/python3.7/dist-packages (from markdown>=2.6.8->tensorboard~=2.4->tensorflow->fancyimpute) (3.8.1)\n",
            "Requirement already satisfied: requests-oauthlib>=0.7.0 in /usr/local/lib/python3.7/dist-packages (from google-auth-oauthlib<0.5,>=0.4.1->tensorboard~=2.4->tensorflow->fancyimpute) (1.3.0)\n",
            "Requirement already satisfied: rsa<5,>=3.1.4; python_version >= \"3.6\" in /usr/local/lib/python3.7/dist-packages (from google-auth<2,>=1.6.3->tensorboard~=2.4->tensorflow->fancyimpute) (4.7.2)\n",
            "Requirement already satisfied: pyasn1-modules>=0.2.1 in /usr/local/lib/python3.7/dist-packages (from google-auth<2,>=1.6.3->tensorboard~=2.4->tensorflow->fancyimpute) (0.2.8)\n",
            "Requirement already satisfied: cachetools<5.0,>=2.0.0 in /usr/local/lib/python3.7/dist-packages (from google-auth<2,>=1.6.3->tensorboard~=2.4->tensorflow->fancyimpute) (4.2.1)\n",
            "Requirement already satisfied: zipp>=0.5 in /usr/local/lib/python3.7/dist-packages (from importlib-metadata; python_version < \"3.8\"->markdown>=2.6.8->tensorboard~=2.4->tensorflow->fancyimpute) (3.4.1)\n",
            "Requirement already satisfied: oauthlib>=3.0.0 in /usr/local/lib/python3.7/dist-packages (from requests-oauthlib>=0.7.0->google-auth-oauthlib<0.5,>=0.4.1->tensorboard~=2.4->tensorflow->fancyimpute) (3.1.0)\n",
            "Requirement already satisfied: pyasn1>=0.1.3 in /usr/local/lib/python3.7/dist-packages (from rsa<5,>=3.1.4; python_version >= \"3.6\"->google-auth<2,>=1.6.3->tensorboard~=2.4->tensorflow->fancyimpute) (0.4.8)\n"
          ],
          "name": "stdout"
        }
      ]
    },
    {
      "cell_type": "code",
      "metadata": {
        "id": "FJiHmV_ExBXG",
        "outputId": "9bf9f53f-2781-4f6b-9308-d1484ada50f8",
        "colab": {
          "base_uri": "https://localhost:8080/"
        }
      },
      "source": [
        "import pandas as pd\n",
        "import xlrd\n",
        "pd.options.mode.chained_assignment = None\n",
        "#from fancyimpute import MICE\n",
        "from fancyimpute import IterativeImputer as MICE\n",
        "import copy\n",
        "from sklearn.preprocessing import MinMaxScaler\n",
        "import statsmodels.api as sm"
      ],
      "id": "FJiHmV_ExBXG",
      "execution_count": 2,
      "outputs": [
        {
          "output_type": "stream",
          "text": [
            "/usr/local/lib/python3.7/dist-packages/sklearn/externals/six.py:31: FutureWarning: The module is deprecated in version 0.21 and will be removed in version 0.23 since we've dropped support for Python 2.7. Please rely on the official version of six (https://pypi.org/project/six/).\n",
            "  \"(https://pypi.org/project/six/).\", FutureWarning)\n",
            "/usr/local/lib/python3.7/dist-packages/statsmodels/tools/_testing.py:19: FutureWarning: pandas.util.testing is deprecated. Use the functions in the public API at pandas.testing instead.\n",
            "  import pandas.util.testing as tm\n"
          ],
          "name": "stderr"
        }
      ]
    },
    {
      "cell_type": "code",
      "metadata": {
        "id": "Ep0sw-W0xBXH"
      },
      "source": [
        "## sometimes in data ,people represent NA values differently. Pandas provide a way to input all possible NA values in form of list so that they are stored in memory as NA##\n",
        "exhibit_1 = pd.read_csv(\"https://raw.githubusercontent.com/tleitch/BDML/main/scholastic_travel/exhibit_1.csv\", na_values=[\"#N/A\", \"#N/A N/A\", \"#NA\", \"-1.#IND\", \"-1.#QNAN\", \"-NaN\", \"-nan\", \"1.#IND\", \"1.#QNAN\", \"N/A\", \"NA\", \"NULL\", \"NaN\", \"nan\"])\n",
        "exhibit_2 = pd.read_csv(\"https://raw.githubusercontent.com/tleitch/BDML/main/scholastic_travel/exhibit_2.csv\",na_values = [\"#N/A\", \"#N/A N/A\", \"#NA\", \"-1.#IND\", \"-1.#QNAN\", \"-NaN\", \"-nan\", \"1.#IND\", \"1.#QNAN\", \"N/A\", \"NA\", \"NULL\", \"NaN\", \"nan\"])\n",
        "\n",
        "exhibit_1 = exhibit_1[1:2389]\n",
        "exhibit_2 = exhibit_2[1:2389]"
      ],
      "id": "Ep0sw-W0xBXH",
      "execution_count": 4,
      "outputs": []
    },
    {
      "cell_type": "code",
      "metadata": {
        "id": "S1V-eTmXxBXH"
      },
      "source": [
        "exhibit_1.head()"
      ],
      "id": "S1V-eTmXxBXH",
      "execution_count": null,
      "outputs": []
    },
    {
      "cell_type": "code",
      "metadata": {
        "id": "pdbbqHZMxBXI"
      },
      "source": [
        "exhibit_1.dtypes"
      ],
      "id": "pdbbqHZMxBXI",
      "execution_count": null,
      "outputs": []
    },
    {
      "cell_type": "code",
      "metadata": {
        "id": "DdKjhnfuxBXI"
      },
      "source": [
        "exhibit_2.head()"
      ],
      "id": "DdKjhnfuxBXI",
      "execution_count": null,
      "outputs": []
    },
    {
      "cell_type": "code",
      "metadata": {
        "id": "nppZFrGaxBXI"
      },
      "source": [
        "exhibit_2.dtypes"
      ],
      "id": "nppZFrGaxBXI",
      "execution_count": null,
      "outputs": []
    },
    {
      "cell_type": "code",
      "metadata": {
        "id": "wvOGogtwxBXI"
      },
      "source": [
        "exhibit_1.shape"
      ],
      "id": "wvOGogtwxBXI",
      "execution_count": null,
      "outputs": []
    },
    {
      "cell_type": "code",
      "metadata": {
        "id": "t0Yuu1sfxBXJ"
      },
      "source": [
        "df_merged = pd.merge(exhibit_1, exhibit_2, on=\"ID\")"
      ],
      "id": "t0Yuu1sfxBXJ",
      "execution_count": null,
      "outputs": []
    },
    {
      "cell_type": "code",
      "metadata": {
        "id": "KMcbQYL7xBXJ"
      },
      "source": [
        "df_merged[\"cancellation\"] = df_merged[\"FRP.Cancelled\"]/df_merged[\"FRP.Active\"]"
      ],
      "id": "KMcbQYL7xBXJ",
      "execution_count": null,
      "outputs": []
    },
    {
      "cell_type": "code",
      "metadata": {
        "id": "0ErHER9exBXJ"
      },
      "source": [
        "date_cols = [\"Departure.Date\",\"Return.Date\",\"Deposit.Date\",\"Early.RPL\",\"Latest.RPL\",\"Initial.System.Date\",\"FirstMeeting\",\"LastMeeting\"]\n",
        "\n"
      ],
      "id": "0ErHER9exBXJ",
      "execution_count": null,
      "outputs": []
    },
    {
      "cell_type": "code",
      "metadata": {
        "id": "N3PDEFmcxBXK"
      },
      "source": [
        "for column in date_cols:\n",
        "    df_merged[column]=pd.to_datetime(df_merged[column])"
      ],
      "id": "N3PDEFmcxBXK",
      "execution_count": null,
      "outputs": []
    },
    {
      "cell_type": "code",
      "metadata": {
        "id": "NEZr1SsfxBXK"
      },
      "source": [
        "df_merged[\"Return.Date\"]"
      ],
      "id": "NEZr1SsfxBXK",
      "execution_count": null,
      "outputs": []
    },
    {
      "cell_type": "code",
      "metadata": {
        "id": "etpBtWvIxBXK"
      },
      "source": [
        "\n",
        "unchanged_cols = [\"Is.Non.Annual.\",\"Days\",\"Tuition\",\"School.Type\",\"Parent.Meeting.Flag\",\"MDR.High.Grade\",\"Income.Level\",\"School.Sponsor\",\"SPR.New.Existing\",\"NumberOfMeetingswithParents\",\"DifferenceTraveltoLastMeeting\",\"SchoolGradeTypeHigh\",\"FPP.to.School.enrollment\",\"FPP.to.PAX\",\"SchoolSizeIndicator\",\"Retained.in.2012.\"]\n",
        "df_final1 = df_merged[unchanged_cols]"
      ],
      "id": "etpBtWvIxBXK",
      "execution_count": null,
      "outputs": []
    },
    {
      "cell_type": "code",
      "metadata": {
        "id": "NjnOaTHUxBXL"
      },
      "source": [
        "df_final1[\"frp.active\"]  =df_merged[\"FRP.Active\"]/df_merged[\"FPP\"]\n",
        "\n",
        "df_final1[\"cancellation\"] = df_merged[\"FRP.Cancelled\"]/df_merged[\"FRP.Active\"]\n",
        "df_final1[\"cancelled.PAX\"] = df_merged[\"Cancelled.Pax\"]/df_merged[\"FPP\"]"
      ],
      "id": "NjnOaTHUxBXL",
      "execution_count": null,
      "outputs": []
    },
    {
      "cell_type": "code",
      "metadata": {
        "id": "yWtEy3VExBXL"
      },
      "source": [
        "MAX_VALUE = 100000000"
      ],
      "id": "yWtEy3VExBXL",
      "execution_count": null,
      "outputs": []
    },
    {
      "cell_type": "code",
      "metadata": {
        "id": "ZWS1GrmJxBXL"
      },
      "source": [
        "df_final1['fpp'] = pd.cut(x=df_merged['FPP'], bins=[-MAX_VALUE,10,20,35,MAX_VALUE],labels=['small','critical','safe','large'])\n",
        "df_final1[\"trend\"]=((df_merged.iloc[:, 56:59].mean(axis=1,skipna=True) > df_merged.iloc[:,56:58].mean(axis=1,skipna=True)).astype(int)).astype(\"category\")"
      ],
      "id": "ZWS1GrmJxBXL",
      "execution_count": null,
      "outputs": []
    },
    {
      "cell_type": "code",
      "metadata": {
        "id": "Or0tPwU8xBXL"
      },
      "source": [
        "object_columns = df_final1.select_dtypes(include='object').columns\n",
        "category_columns=df_final1.select_dtypes(include='category').columns\n",
        "float_columns=df_final1.select_dtypes(include='float64').columns"
      ],
      "id": "Or0tPwU8xBXL",
      "execution_count": null,
      "outputs": []
    },
    {
      "cell_type": "code",
      "metadata": {
        "id": "ODYd_kwrxBXL"
      },
      "source": [
        "df_final1.dtypes"
      ],
      "id": "ODYd_kwrxBXL",
      "execution_count": null,
      "outputs": []
    },
    {
      "cell_type": "code",
      "metadata": {
        "id": "JJibvmRqxBXM"
      },
      "source": [
        "for column in object_columns:\n",
        "    df_final1[column] = df_final1[column].astype(\"category\")\n"
      ],
      "id": "JJibvmRqxBXM",
      "execution_count": null,
      "outputs": []
    },
    {
      "cell_type": "markdown",
      "metadata": {
        "id": "6U_wpY54xBXM"
      },
      "source": [
        "## Converting the data to one-hot encoding so that modelling can be done. ##"
      ],
      "id": "6U_wpY54xBXM"
    },
    {
      "cell_type": "code",
      "metadata": {
        "id": "B08BsNmnxBXM"
      },
      "source": [
        "df_final1 = pd.get_dummies(df_final1)"
      ],
      "id": "B08BsNmnxBXM",
      "execution_count": null,
      "outputs": []
    },
    {
      "cell_type": "code",
      "metadata": {
        "id": "_E-qQrd7xBXM"
      },
      "source": [
        "df_final1.dtypes"
      ],
      "id": "_E-qQrd7xBXM",
      "execution_count": null,
      "outputs": []
    },
    {
      "cell_type": "code",
      "metadata": {
        "id": "T2WEgV3XxBXN"
      },
      "source": [
        "df_final1[float_columns].describe()"
      ],
      "id": "T2WEgV3XxBXN",
      "execution_count": null,
      "outputs": []
    },
    {
      "cell_type": "code",
      "metadata": {
        "id": "C3UhWFzFxBXN"
      },
      "source": [
        "# In the above dataframe, we saw cancellation has infinity values which is not needed, so we drop the colum\n",
        "df_final1.drop(columns=\"cancellation\",inplace=True)"
      ],
      "id": "C3UhWFzFxBXN",
      "execution_count": null,
      "outputs": []
    },
    {
      "cell_type": "code",
      "metadata": {
        "id": "m1osP8otxBXN"
      },
      "source": [
        "## Chechking missing values in every column ##\n",
        "print (df_final1.isnull().sum())"
      ],
      "id": "m1osP8otxBXN",
      "execution_count": null,
      "outputs": []
    },
    {
      "cell_type": "markdown",
      "metadata": {
        "id": "ct-DMSrkxBXN"
      },
      "source": [
        "## Imputation of missing values ##"
      ],
      "id": "ct-DMSrkxBXN"
    },
    {
      "cell_type": "code",
      "metadata": {
        "id": "T5i5WHJ6xBXO"
      },
      "source": [
        "imputer=MICE().fit_transform(df_final1)\n",
        "df_final_imputed = pd.DataFrame(imputer, columns=df_final1.columns)"
      ],
      "id": "T5i5WHJ6xBXO",
      "execution_count": null,
      "outputs": []
    },
    {
      "cell_type": "markdown",
      "metadata": {
        "id": "gvZqQTHNxBXO"
      },
      "source": [
        "## Checking missing value again, now we see missing values as zero ##"
      ],
      "id": "gvZqQTHNxBXO"
    },
    {
      "cell_type": "code",
      "metadata": {
        "id": "l85wVPgnxBXO"
      },
      "source": [
        "print (df_final_imputed.isnull().sum())"
      ],
      "id": "l85wVPgnxBXO",
      "execution_count": null,
      "outputs": []
    },
    {
      "cell_type": "code",
      "metadata": {
        "id": "1LPAz8K-xBXO"
      },
      "source": [
        "df_final_imputed_copy=copy.deepcopy(df_final_imputed)"
      ],
      "id": "1LPAz8K-xBXO",
      "execution_count": null,
      "outputs": []
    },
    {
      "cell_type": "markdown",
      "metadata": {
        "id": "S6vHJ2NfxBXO"
      },
      "source": [
        "## Scaling the data ##"
      ],
      "id": "S6vHJ2NfxBXO"
    },
    {
      "cell_type": "code",
      "metadata": {
        "id": "v1LTCMXXxBXP"
      },
      "source": [
        "scaler = MinMaxScaler()\n",
        "float_columns=df_final_imputed_copy.select_dtypes(include='float64').columns\n",
        "df_final_imputed_copy[float_columns] = scaler.fit_transform(df_final_imputed_copy[float_columns])"
      ],
      "id": "v1LTCMXXxBXP",
      "execution_count": null,
      "outputs": []
    },
    {
      "cell_type": "markdown",
      "metadata": {
        "id": "P9VlNqU0xBXP"
      },
      "source": [
        "## Forward regression ##"
      ],
      "id": "P9VlNqU0xBXP"
    },
    {
      "cell_type": "code",
      "metadata": {
        "id": "FDaN0w4CxBXP"
      },
      "source": [
        "def forward_regression(X, y,\n",
        "                       initial_list=[], \n",
        "                       threshold_in=0.01, \n",
        "                       threshold_out = 0.05, \n",
        "                       verbose=True):\n",
        "    initial_list = []\n",
        "    included = list(initial_list)\n",
        "    while True:\n",
        "        changed=False\n",
        "        # forward step\n",
        "        excluded = list(set(X.columns)-set(included))\n",
        "        new_pval = pd.Series(index=excluded)\n",
        "        for new_column in excluded:\n",
        "            model = sm.OLS(y, sm.add_constant(pd.DataFrame(X[included+[new_column]]))).fit()\n",
        "            new_pval[new_column] = model.pvalues[new_column]\n",
        "        best_pval = new_pval.min()\n",
        "        if best_pval < threshold_in:\n",
        "            best_feature = new_pval.argmin()\n",
        "            included.append(best_feature)\n",
        "            changed=True\n",
        "            if verbose:\n",
        "                print('Add   with p-value '.format(best_feature, best_pval))\n",
        "\n",
        "        if not changed:\n",
        "            break\n",
        "\n",
        "    return included"
      ],
      "id": "FDaN0w4CxBXP",
      "execution_count": null,
      "outputs": []
    },
    {
      "cell_type": "code",
      "metadata": {
        "id": "pM6Cg8LRxBXP"
      },
      "source": [
        "df_final_imputed_copy[\"Retained\"] = df_final_imputed_copy[\"Retained.in.2012.\"]\n",
        "df_final_imputed_copy.drop(columns=\"Retained.in.2012.\",inplace=True)"
      ],
      "id": "pM6Cg8LRxBXP",
      "execution_count": null,
      "outputs": []
    },
    {
      "cell_type": "code",
      "metadata": {
        "id": "XGtBml0MxBXQ"
      },
      "source": [
        "X_train= df_final_imputed_copy.drop(columns=\"Retained\")\n",
        "Y_train= df_final_imputed_copy[\"Retained\"]"
      ],
      "id": "XGtBml0MxBXQ",
      "execution_count": null,
      "outputs": []
    },
    {
      "cell_type": "code",
      "metadata": {
        "id": "bhmSAhYkxBXQ"
      },
      "source": [
        "pd.value_counts(df_final_imputed_copy[\"Retained\"])"
      ],
      "id": "bhmSAhYkxBXQ",
      "execution_count": null,
      "outputs": []
    },
    {
      "cell_type": "code",
      "metadata": {
        "id": "LIXLzgRYxBXR"
      },
      "source": [
        "pd.value_counts(df_merged[\"SchoolGradeTypeHigh\"])                                       "
      ],
      "id": "LIXLzgRYxBXR",
      "execution_count": null,
      "outputs": []
    },
    {
      "cell_type": "code",
      "metadata": {
        "id": "GpSrjmDDxBXR"
      },
      "source": [
        "forward_regression(X_train,Y_train)"
      ],
      "id": "GpSrjmDDxBXR",
      "execution_count": null,
      "outputs": []
    },
    {
      "cell_type": "markdown",
      "metadata": {
        "id": "jfepYOItxBXR"
      },
      "source": [
        "## Generalized linear model ##"
      ],
      "id": "jfepYOItxBXR"
    },
    {
      "cell_type": "code",
      "metadata": {
        "id": "rkNwo1d7xBXR"
      },
      "source": [
        "import statsmodels.api as sm\n",
        "\n",
        "exog = sm.add_constant(X_train)\n",
        "endog=Y_train\n",
        "gamma_model = sm.GLM(endog,exog,family=sm.families.Gamma())\n",
        "\n",
        "gamma_results = gamma_model.fit()\n",
        "\n",
        "print(gamma_results.summary())"
      ],
      "id": "rkNwo1d7xBXR",
      "execution_count": null,
      "outputs": []
    },
    {
      "cell_type": "code",
      "metadata": {
        "id": "AyzRWxpkxBXS"
      },
      "source": [
        "sm.add_constant(X_train)"
      ],
      "id": "AyzRWxpkxBXS",
      "execution_count": null,
      "outputs": []
    },
    {
      "cell_type": "code",
      "metadata": {
        "id": "GlSKdOMmxBXS"
      },
      "source": [
        ""
      ],
      "id": "GlSKdOMmxBXS",
      "execution_count": null,
      "outputs": []
    }
  ]
}