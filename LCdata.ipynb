{
  "nbformat": 4,
  "nbformat_minor": 0,
  "metadata": {
    "colab": {
      "name": "2) Data.ipynb",
      "provenance": [],
      "toc_visible": true,
      "include_colab_link": true
    },
    "kernelspec": {
      "display_name": "Python 3",
      "language": "python",
      "name": "python3"
    }
  },
  "cells": [
    {
      "cell_type": "markdown",
      "metadata": {
        "id": "view-in-github",
        "colab_type": "text"
      },
      "source": [
        "<a href=\"https://colab.research.google.com/github/tleitch/BDML/blob/main/LCdata.ipynb\" target=\"_parent\"><img src=\"https://colab.research.google.com/assets/colab-badge.svg\" alt=\"Open In Colab\"/></a>"
      ]
    },
    {
      "cell_type": "markdown",
      "metadata": {
        "id": "F568INsBO9Ny"
      },
      "source": [
        "# Data Description and Cleaning"
      ]
    },
    {
      "cell_type": "code",
      "metadata": {
        "id": "w6kC__i_O9N-",
        "colab": {
          "base_uri": "https://localhost:8080/"
        },
        "outputId": "2d117d8e-b756-49dd-ddd5-b0b8f9e3de00"
      },
      "source": [
        "#RUN THIS CELL \n",
        "import requests\n",
        "from IPython.core.display import HTML\n",
        "styles = requests.get(\"https://raw.githubusercontent.com/Harvard-IACS/2018-CS109A/master/content/styles/cs109.css\").text\n",
        "HTML(styles)\n",
        "\n",
        "import numpy as np\n",
        "import pandas as pd\n",
        "import nltk\n",
        "\n",
        "nltk.download('stopwords')\n",
        "nltk.download('wordnet')"
      ],
      "execution_count": 64,
      "outputs": [
        {
          "output_type": "stream",
          "text": [
            "[nltk_data] Downloading package stopwords to /root/nltk_data...\n",
            "[nltk_data]   Package stopwords is already up-to-date!\n",
            "[nltk_data] Downloading package wordnet to /root/nltk_data...\n",
            "[nltk_data]   Package wordnet is already up-to-date!\n"
          ],
          "name": "stdout"
        },
        {
          "output_type": "execute_result",
          "data": {
            "text/plain": [
              "True"
            ]
          },
          "metadata": {
            "tags": []
          },
          "execution_count": 64
        }
      ]
    },
    {
      "cell_type": "markdown",
      "metadata": {
        "id": "jFIGraTzrZLk"
      },
      "source": [
        "# Data Description"
      ]
    },
    {
      "cell_type": "markdown",
      "metadata": {
        "id": "rPt9sK_2rZLq"
      },
      "source": [
        "Lending Club publishes all its historical data since its inception in 2007. It provides two online, open access datasets for accepted and rejected loans from 2007 to 2018 Q2 for a period of 11.5 years in comma-separated values (CSV) format. Each accepted loan data set has 146 features for each of observation. With basic data cleaning, we removed the index column, columns with constant value and columns associated with 90% missing values that reduced the number of features to 106. Further we identified features which are strongly correlated (r=±0.8) that left us with 82 features on the accepted loan dataset.\n",
        "\n",
        "To help us in our goal of analyzing fairness and interpretability we downloaded the census data about American people and US economy from United States Census Bureau. We have social, economic, and geographic data from 2016 grouped by zip code provided via Piazza by CS109a instructors. This dataset has 33120 zip codes described by 135 features. Trivial columns such as name, population and others were removed that left us with 85 features. Then the census data was merged with loan accepted data on zipcode ending with 167 features. Then we further used scikit learn feature selection on SelectPercentile reducing 141 predictors for our model analysis. For reconciliation, we downloaded data for all years and then we took a random sample of 10% and saved it to our own server “https://digintu.tech/tmp/cs109a/” stored in the file “loan_accepted_10.csv” for easy access. Also removed empty/duplicate rows that left us with 200K observations.\n",
        "\n",
        "Second dataset provided online is the rejected loan information, again from 2007 to 2018 Q2 for 11.5 years. This dataset has 9 features. Each application of rejected loan has 9 features and the total amount was worth $22million not funded. These Rejected Loans data files contain the list and details of all loan applications that did not meet Lending Club's credit underwriting policy and the application was rejected.\n",
        "\n",
        "We group the remaining features from loan accepted merged with census data into 5 classes:\n",
        "● loan data: information about the loan at the moment when it was requested\n",
        "● loan follow up: information about the loan's follow up throughout its term\n",
        "● borrower demographics: information about the borrower\n",
        "● borrower financial profile: financial background of the borrower at the moment when he requested the loan\n",
        "● borrower financial profile follow up: changes in financial profile of the borrower throughout the loan term"
      ]
    },
    {
      "cell_type": "markdown",
      "metadata": {
        "id": "EqKOnEJZrZLy"
      },
      "source": [
        "# Raw Data"
      ]
    },
    {
      "cell_type": "markdown",
      "metadata": {
        "id": "mWmApMV-rZL0"
      },
      "source": [
        "**Helper functions**"
      ]
    },
    {
      "cell_type": "code",
      "metadata": {
        "id": "Na03_sF5rZL4"
      },
      "source": [
        "\"\"\"\n",
        "The following function returns the description of the features in lending club data.\n",
        "Parameters\n",
        "  df: dataframe containing the data\n",
        "\"\"\"\n",
        "def df_features_desc(df):\n",
        "    df_cols_desc = pd.read_csv('https://s3.amazonaws.com/ruxton.ai/LCDataDictionary.csv')\n",
        "    desc = pd.DataFrame(df.columns).merge(df_cols_desc, how='left', left_on=0, right_on='LoanStatNew')[['LoanStatNew','Description']]\n",
        "    desc = pd.DataFrame(df.dtypes).reset_index().merge(desc, how='right', left_on='index', right_on='LoanStatNew')[['LoanStatNew', 0,'Description']]\n",
        "    desc = desc.rename(columns={0: 'Data Type', 'LoanStatNew':'Feature'})#.sort_values(by=['Feature'])\n",
        "    desc = desc.dropna()\n",
        "    pd.set_option('display.max_colwidth', -1)\n",
        "    desc.style.set_properties({'text-align': 'left'})\n",
        "    display(HTML(desc.to_html()))"
      ],
      "execution_count": 65,
      "outputs": []
    },
    {
      "cell_type": "markdown",
      "metadata": {
        "id": "H9v4Sq6RrZMI"
      },
      "source": [
        "## Accepted Loans\n",
        "\n",
        "We load all loans accepted (approved) and funded on the LendingClub marketplace from 2007 to 2018 Q3 for a period of 11.5 years from separated files into the dataframe `df_loan_accepted`."
      ]
    },
    {
      "cell_type": "code",
      "metadata": {
        "id": "78HSxkDfrZMM"
      },
      "source": [
        "#df_loan_accepted = load_data(['loan_accepted_10.csv'])\n",
        "df_loan_accepted = pd.read_csv('https://s3.amazonaws.com/ruxton.ai/loans.csv')"
      ],
      "execution_count": 66,
      "outputs": []
    },
    {
      "cell_type": "code",
      "metadata": {
        "id": "T6yZNdEDrZMY",
        "colab": {
          "base_uri": "https://localhost:8080/"
        },
        "outputId": "f496b4ab-251b-48a0-d6a2-53c623eb30db"
      },
      "source": [
        "df_loan_accepted.shape"
      ],
      "execution_count": 67,
      "outputs": [
        {
          "output_type": "execute_result",
          "data": {
            "text/plain": [
              "(226066, 152)"
            ]
          },
          "metadata": {
            "tags": []
          },
          "execution_count": 67
        }
      ]
    },
    {
      "cell_type": "markdown",
      "metadata": {
        "id": "7gSn9CBNSJ56"
      },
      "source": [
        "There are approximately **2 millions accepted loans**, each of them has 146 columns. Many columns are however empty."
      ]
    },
    {
      "cell_type": "code",
      "metadata": {
        "id": "n4wkM67SrZMu",
        "colab": {
          "base_uri": "https://localhost:8080/",
          "height": 336
        },
        "outputId": "f6a0ba5e-520b-4eeb-bf57-eeafce290e98"
      },
      "source": [
        "df_loan_accepted.describe()"
      ],
      "execution_count": 68,
      "outputs": [
        {
          "output_type": "execute_result",
          "data": {
            "text/html": [
              "<div>\n",
              "<style scoped>\n",
              "    .dataframe tbody tr th:only-of-type {\n",
              "        vertical-align: middle;\n",
              "    }\n",
              "\n",
              "    .dataframe tbody tr th {\n",
              "        vertical-align: top;\n",
              "    }\n",
              "\n",
              "    .dataframe thead th {\n",
              "        text-align: right;\n",
              "    }\n",
              "</style>\n",
              "<table border=\"1\" class=\"dataframe\">\n",
              "  <thead>\n",
              "    <tr style=\"text-align: right;\">\n",
              "      <th></th>\n",
              "      <th>Unnamed: 0</th>\n",
              "      <th>id</th>\n",
              "      <th>member_id</th>\n",
              "      <th>loan_amnt</th>\n",
              "      <th>funded_amnt</th>\n",
              "      <th>funded_amnt_inv</th>\n",
              "      <th>int_rate</th>\n",
              "      <th>installment</th>\n",
              "      <th>annual_inc</th>\n",
              "      <th>desc</th>\n",
              "      <th>dti</th>\n",
              "      <th>delinq_2yrs</th>\n",
              "      <th>fico_range_low</th>\n",
              "      <th>fico_range_high</th>\n",
              "      <th>inq_last_6mths</th>\n",
              "      <th>mths_since_last_delinq</th>\n",
              "      <th>mths_since_last_record</th>\n",
              "      <th>open_acc</th>\n",
              "      <th>pub_rec</th>\n",
              "      <th>revol_bal</th>\n",
              "      <th>revol_util</th>\n",
              "      <th>total_acc</th>\n",
              "      <th>out_prncp</th>\n",
              "      <th>out_prncp_inv</th>\n",
              "      <th>total_pymnt</th>\n",
              "      <th>total_pymnt_inv</th>\n",
              "      <th>total_rec_prncp</th>\n",
              "      <th>total_rec_int</th>\n",
              "      <th>total_rec_late_fee</th>\n",
              "      <th>recoveries</th>\n",
              "      <th>collection_recovery_fee</th>\n",
              "      <th>last_pymnt_amnt</th>\n",
              "      <th>last_fico_range_high</th>\n",
              "      <th>last_fico_range_low</th>\n",
              "      <th>collections_12_mths_ex_med</th>\n",
              "      <th>mths_since_last_major_derog</th>\n",
              "      <th>policy_code</th>\n",
              "      <th>annual_inc_joint</th>\n",
              "      <th>dti_joint</th>\n",
              "      <th>acc_now_delinq</th>\n",
              "      <th>...</th>\n",
              "      <th>num_il_tl</th>\n",
              "      <th>num_op_rev_tl</th>\n",
              "      <th>num_rev_accts</th>\n",
              "      <th>num_rev_tl_bal_gt_0</th>\n",
              "      <th>num_sats</th>\n",
              "      <th>num_tl_120dpd_2m</th>\n",
              "      <th>num_tl_30dpd</th>\n",
              "      <th>num_tl_90g_dpd_24m</th>\n",
              "      <th>num_tl_op_past_12m</th>\n",
              "      <th>pct_tl_nvr_dlq</th>\n",
              "      <th>percent_bc_gt_75</th>\n",
              "      <th>pub_rec_bankruptcies</th>\n",
              "      <th>tax_liens</th>\n",
              "      <th>tot_hi_cred_lim</th>\n",
              "      <th>total_bal_ex_mort</th>\n",
              "      <th>total_bc_limit</th>\n",
              "      <th>total_il_high_credit_limit</th>\n",
              "      <th>revol_bal_joint</th>\n",
              "      <th>sec_app_fico_range_low</th>\n",
              "      <th>sec_app_fico_range_high</th>\n",
              "      <th>sec_app_earliest_cr_line</th>\n",
              "      <th>sec_app_inq_last_6mths</th>\n",
              "      <th>sec_app_mort_acc</th>\n",
              "      <th>sec_app_open_acc</th>\n",
              "      <th>sec_app_revol_util</th>\n",
              "      <th>sec_app_open_act_il</th>\n",
              "      <th>sec_app_num_rev_accts</th>\n",
              "      <th>sec_app_chargeoff_within_12_mths</th>\n",
              "      <th>sec_app_collections_12_mths_ex_med</th>\n",
              "      <th>sec_app_mths_since_last_major_derog</th>\n",
              "      <th>deferral_term</th>\n",
              "      <th>hardship_amount</th>\n",
              "      <th>hardship_length</th>\n",
              "      <th>hardship_dpd</th>\n",
              "      <th>orig_projected_additional_accrued_interest</th>\n",
              "      <th>hardship_payoff_balance_amount</th>\n",
              "      <th>hardship_last_payment_amount</th>\n",
              "      <th>settlement_amount</th>\n",
              "      <th>settlement_percentage</th>\n",
              "      <th>settlement_term</th>\n",
              "    </tr>\n",
              "  </thead>\n",
              "  <tbody>\n",
              "    <tr>\n",
              "      <th>count</th>\n",
              "      <td>226066.000000</td>\n",
              "      <td>2.260660e+05</td>\n",
              "      <td>0.0</td>\n",
              "      <td>226066.000000</td>\n",
              "      <td>226066.000000</td>\n",
              "      <td>226066.000000</td>\n",
              "      <td>226066.000000</td>\n",
              "      <td>226066.000000</td>\n",
              "      <td>2.260660e+05</td>\n",
              "      <td>0.0</td>\n",
              "      <td>225880.000000</td>\n",
              "      <td>226061.000000</td>\n",
              "      <td>226066.000000</td>\n",
              "      <td>226066.000000</td>\n",
              "      <td>226061.000000</td>\n",
              "      <td>109951.000000</td>\n",
              "      <td>35595.000000</td>\n",
              "      <td>226061.000000</td>\n",
              "      <td>226061.000000</td>\n",
              "      <td>2.260660e+05</td>\n",
              "      <td>225898.000000</td>\n",
              "      <td>226061.000000</td>\n",
              "      <td>226066.000000</td>\n",
              "      <td>226066.000000</td>\n",
              "      <td>226066.000000</td>\n",
              "      <td>226066.000000</td>\n",
              "      <td>226066.000000</td>\n",
              "      <td>226066.000000</td>\n",
              "      <td>2.260660e+05</td>\n",
              "      <td>226066.000000</td>\n",
              "      <td>226066.000000</td>\n",
              "      <td>226066.000000</td>\n",
              "      <td>226066.000000</td>\n",
              "      <td>226066.000000</td>\n",
              "      <td>226049.000000</td>\n",
              "      <td>57582.000000</td>\n",
              "      <td>226066.0</td>\n",
              "      <td>1.198400e+04</td>\n",
              "      <td>11984.000000</td>\n",
              "      <td>226061.000000</td>\n",
              "      <td>...</td>\n",
              "      <td>218924.000000</td>\n",
              "      <td>218924.000000</td>\n",
              "      <td>218924.000000</td>\n",
              "      <td>218924.000000</td>\n",
              "      <td>220116.000000</td>\n",
              "      <td>210660.000000</td>\n",
              "      <td>218924.000000</td>\n",
              "      <td>218924.000000</td>\n",
              "      <td>218924.000000</td>\n",
              "      <td>218912.000000</td>\n",
              "      <td>218483.000000</td>\n",
              "      <td>225949.000000</td>\n",
              "      <td>226053.000000</td>\n",
              "      <td>2.189240e+05</td>\n",
              "      <td>2.210090e+05</td>\n",
              "      <td>221009.000000</td>\n",
              "      <td>2.189240e+05</td>\n",
              "      <td>0.0</td>\n",
              "      <td>0.0</td>\n",
              "      <td>0.0</td>\n",
              "      <td>0.0</td>\n",
              "      <td>0.0</td>\n",
              "      <td>0.0</td>\n",
              "      <td>0.0</td>\n",
              "      <td>0.0</td>\n",
              "      <td>0.0</td>\n",
              "      <td>0.0</td>\n",
              "      <td>0.0</td>\n",
              "      <td>0.0</td>\n",
              "      <td>0.0</td>\n",
              "      <td>1072.0</td>\n",
              "      <td>1072.000000</td>\n",
              "      <td>1072.0</td>\n",
              "      <td>1072.000000</td>\n",
              "      <td>842.000000</td>\n",
              "      <td>1072.000000</td>\n",
              "      <td>1072.000000</td>\n",
              "      <td>3476.000000</td>\n",
              "      <td>3476.000000</td>\n",
              "      <td>3476.000000</td>\n",
              "    </tr>\n",
              "    <tr>\n",
              "      <th>mean</th>\n",
              "      <td>113033.500000</td>\n",
              "      <td>8.024734e+07</td>\n",
              "      <td>NaN</td>\n",
              "      <td>15046.720427</td>\n",
              "      <td>15041.948590</td>\n",
              "      <td>15023.774244</td>\n",
              "      <td>13.073035</td>\n",
              "      <td>445.922661</td>\n",
              "      <td>7.815293e+04</td>\n",
              "      <td>NaN</td>\n",
              "      <td>18.779397</td>\n",
              "      <td>0.304303</td>\n",
              "      <td>698.673330</td>\n",
              "      <td>702.673591</td>\n",
              "      <td>0.577972</td>\n",
              "      <td>34.653591</td>\n",
              "      <td>72.486641</td>\n",
              "      <td>11.598126</td>\n",
              "      <td>0.196067</td>\n",
              "      <td>1.667220e+04</td>\n",
              "      <td>50.315296</td>\n",
              "      <td>24.108590</td>\n",
              "      <td>4200.934890</td>\n",
              "      <td>4199.986783</td>\n",
              "      <td>12096.385794</td>\n",
              "      <td>12078.246049</td>\n",
              "      <td>9515.731645</td>\n",
              "      <td>2434.780202</td>\n",
              "      <td>1.537982e+00</td>\n",
              "      <td>144.335961</td>\n",
              "      <td>24.053778</td>\n",
              "      <td>3418.043153</td>\n",
              "      <td>687.609278</td>\n",
              "      <td>675.525422</td>\n",
              "      <td>0.018633</td>\n",
              "      <td>44.227606</td>\n",
              "      <td>1.0</td>\n",
              "      <td>1.243526e+05</td>\n",
              "      <td>19.220626</td>\n",
              "      <td>0.004092</td>\n",
              "      <td>...</td>\n",
              "      <td>8.376053</td>\n",
              "      <td>8.243400</td>\n",
              "      <td>13.988229</td>\n",
              "      <td>5.570180</td>\n",
              "      <td>11.614340</td>\n",
              "      <td>0.000674</td>\n",
              "      <td>0.002823</td>\n",
              "      <td>0.083079</td>\n",
              "      <td>2.074894</td>\n",
              "      <td>94.125045</td>\n",
              "      <td>42.367071</td>\n",
              "      <td>0.126799</td>\n",
              "      <td>0.046520</td>\n",
              "      <td>1.777549e+05</td>\n",
              "      <td>5.084552e+04</td>\n",
              "      <td>23299.656887</td>\n",
              "      <td>4.357713e+04</td>\n",
              "      <td>NaN</td>\n",
              "      <td>NaN</td>\n",
              "      <td>NaN</td>\n",
              "      <td>NaN</td>\n",
              "      <td>NaN</td>\n",
              "      <td>NaN</td>\n",
              "      <td>NaN</td>\n",
              "      <td>NaN</td>\n",
              "      <td>NaN</td>\n",
              "      <td>NaN</td>\n",
              "      <td>NaN</td>\n",
              "      <td>NaN</td>\n",
              "      <td>NaN</td>\n",
              "      <td>3.0</td>\n",
              "      <td>158.582211</td>\n",
              "      <td>3.0</td>\n",
              "      <td>13.677239</td>\n",
              "      <td>471.470273</td>\n",
              "      <td>11689.770737</td>\n",
              "      <td>191.878041</td>\n",
              "      <td>5035.089485</td>\n",
              "      <td>47.787825</td>\n",
              "      <td>13.233890</td>\n",
              "    </tr>\n",
              "    <tr>\n",
              "      <th>std</th>\n",
              "      <td>65259.777315</td>\n",
              "      <td>4.501596e+07</td>\n",
              "      <td>NaN</td>\n",
              "      <td>9190.775065</td>\n",
              "      <td>9189.602009</td>\n",
              "      <td>9193.221365</td>\n",
              "      <td>4.816208</td>\n",
              "      <td>267.446936</td>\n",
              "      <td>1.477066e+05</td>\n",
              "      <td>NaN</td>\n",
              "      <td>14.095529</td>\n",
              "      <td>0.870180</td>\n",
              "      <td>33.030786</td>\n",
              "      <td>33.031946</td>\n",
              "      <td>0.885742</td>\n",
              "      <td>21.916636</td>\n",
              "      <td>26.323355</td>\n",
              "      <td>5.645185</td>\n",
              "      <td>0.571967</td>\n",
              "      <td>2.253863e+04</td>\n",
              "      <td>24.734496</td>\n",
              "      <td>11.988146</td>\n",
              "      <td>7332.561075</td>\n",
              "      <td>7331.659935</td>\n",
              "      <td>9901.852023</td>\n",
              "      <td>9897.432270</td>\n",
              "      <td>8313.543944</td>\n",
              "      <td>2683.497635</td>\n",
              "      <td>1.207018e+01</td>\n",
              "      <td>752.966092</td>\n",
              "      <td>131.284636</td>\n",
              "      <td>6006.247777</td>\n",
              "      <td>72.929327</td>\n",
              "      <td>110.922898</td>\n",
              "      <td>0.150169</td>\n",
              "      <td>21.556635</td>\n",
              "      <td>0.0</td>\n",
              "      <td>6.764284e+04</td>\n",
              "      <td>7.809577</td>\n",
              "      <td>0.068838</td>\n",
              "      <td>...</td>\n",
              "      <td>7.325110</td>\n",
              "      <td>4.686786</td>\n",
              "      <td>8.050783</td>\n",
              "      <td>3.287111</td>\n",
              "      <td>5.648929</td>\n",
              "      <td>0.026676</td>\n",
              "      <td>0.057279</td>\n",
              "      <td>0.503315</td>\n",
              "      <td>1.827641</td>\n",
              "      <td>9.061515</td>\n",
              "      <td>36.198548</td>\n",
              "      <td>0.361658</td>\n",
              "      <td>0.378477</td>\n",
              "      <td>1.788505e+05</td>\n",
              "      <td>4.961362e+04</td>\n",
              "      <td>23129.334170</td>\n",
              "      <td>4.506476e+04</td>\n",
              "      <td>NaN</td>\n",
              "      <td>NaN</td>\n",
              "      <td>NaN</td>\n",
              "      <td>NaN</td>\n",
              "      <td>NaN</td>\n",
              "      <td>NaN</td>\n",
              "      <td>NaN</td>\n",
              "      <td>NaN</td>\n",
              "      <td>NaN</td>\n",
              "      <td>NaN</td>\n",
              "      <td>NaN</td>\n",
              "      <td>NaN</td>\n",
              "      <td>NaN</td>\n",
              "      <td>0.0</td>\n",
              "      <td>133.292520</td>\n",
              "      <td>0.0</td>\n",
              "      <td>9.689210</td>\n",
              "      <td>396.520777</td>\n",
              "      <td>7590.893474</td>\n",
              "      <td>194.935844</td>\n",
              "      <td>3685.788592</td>\n",
              "      <td>6.905756</td>\n",
              "      <td>8.681392</td>\n",
              "    </tr>\n",
              "    <tr>\n",
              "      <th>min</th>\n",
              "      <td>1.000000</td>\n",
              "      <td>5.612100e+04</td>\n",
              "      <td>NaN</td>\n",
              "      <td>500.000000</td>\n",
              "      <td>500.000000</td>\n",
              "      <td>0.000000</td>\n",
              "      <td>5.310000</td>\n",
              "      <td>14.010000</td>\n",
              "      <td>0.000000e+00</td>\n",
              "      <td>NaN</td>\n",
              "      <td>0.000000</td>\n",
              "      <td>0.000000</td>\n",
              "      <td>640.000000</td>\n",
              "      <td>644.000000</td>\n",
              "      <td>0.000000</td>\n",
              "      <td>0.000000</td>\n",
              "      <td>0.000000</td>\n",
              "      <td>0.000000</td>\n",
              "      <td>0.000000</td>\n",
              "      <td>0.000000e+00</td>\n",
              "      <td>0.000000</td>\n",
              "      <td>1.000000</td>\n",
              "      <td>0.000000</td>\n",
              "      <td>0.000000</td>\n",
              "      <td>0.000000</td>\n",
              "      <td>0.000000</td>\n",
              "      <td>0.000000</td>\n",
              "      <td>0.000000</td>\n",
              "      <td>-2.000000e-09</td>\n",
              "      <td>0.000000</td>\n",
              "      <td>0.000000</td>\n",
              "      <td>0.000000</td>\n",
              "      <td>0.000000</td>\n",
              "      <td>0.000000</td>\n",
              "      <td>0.000000</td>\n",
              "      <td>0.000000</td>\n",
              "      <td>1.0</td>\n",
              "      <td>1.500000e+04</td>\n",
              "      <td>0.000000</td>\n",
              "      <td>0.000000</td>\n",
              "      <td>...</td>\n",
              "      <td>0.000000</td>\n",
              "      <td>0.000000</td>\n",
              "      <td>1.000000</td>\n",
              "      <td>0.000000</td>\n",
              "      <td>0.000000</td>\n",
              "      <td>0.000000</td>\n",
              "      <td>0.000000</td>\n",
              "      <td>0.000000</td>\n",
              "      <td>0.000000</td>\n",
              "      <td>0.000000</td>\n",
              "      <td>0.000000</td>\n",
              "      <td>0.000000</td>\n",
              "      <td>0.000000</td>\n",
              "      <td>0.000000e+00</td>\n",
              "      <td>0.000000e+00</td>\n",
              "      <td>0.000000</td>\n",
              "      <td>0.000000e+00</td>\n",
              "      <td>NaN</td>\n",
              "      <td>NaN</td>\n",
              "      <td>NaN</td>\n",
              "      <td>NaN</td>\n",
              "      <td>NaN</td>\n",
              "      <td>NaN</td>\n",
              "      <td>NaN</td>\n",
              "      <td>NaN</td>\n",
              "      <td>NaN</td>\n",
              "      <td>NaN</td>\n",
              "      <td>NaN</td>\n",
              "      <td>NaN</td>\n",
              "      <td>NaN</td>\n",
              "      <td>3.0</td>\n",
              "      <td>5.190000</td>\n",
              "      <td>3.0</td>\n",
              "      <td>0.000000</td>\n",
              "      <td>15.570000</td>\n",
              "      <td>403.660000</td>\n",
              "      <td>0.010000</td>\n",
              "      <td>82.960000</td>\n",
              "      <td>0.200000</td>\n",
              "      <td>0.000000</td>\n",
              "    </tr>\n",
              "    <tr>\n",
              "      <th>25%</th>\n",
              "      <td>56517.250000</td>\n",
              "      <td>4.475561e+07</td>\n",
              "      <td>NaN</td>\n",
              "      <td>8000.000000</td>\n",
              "      <td>8000.000000</td>\n",
              "      <td>8000.000000</td>\n",
              "      <td>9.490000</td>\n",
              "      <td>251.580000</td>\n",
              "      <td>4.600000e+04</td>\n",
              "      <td>NaN</td>\n",
              "      <td>11.870000</td>\n",
              "      <td>0.000000</td>\n",
              "      <td>675.000000</td>\n",
              "      <td>679.000000</td>\n",
              "      <td>0.000000</td>\n",
              "      <td>16.000000</td>\n",
              "      <td>55.000000</td>\n",
              "      <td>8.000000</td>\n",
              "      <td>0.000000</td>\n",
              "      <td>5.948000e+03</td>\n",
              "      <td>31.500000</td>\n",
              "      <td>15.000000</td>\n",
              "      <td>0.000000</td>\n",
              "      <td>0.000000</td>\n",
              "      <td>4568.660000</td>\n",
              "      <td>4551.990000</td>\n",
              "      <td>3008.270000</td>\n",
              "      <td>726.220000</td>\n",
              "      <td>0.000000e+00</td>\n",
              "      <td>0.000000</td>\n",
              "      <td>0.000000</td>\n",
              "      <td>310.332500</td>\n",
              "      <td>654.000000</td>\n",
              "      <td>650.000000</td>\n",
              "      <td>0.000000</td>\n",
              "      <td>27.000000</td>\n",
              "      <td>1.0</td>\n",
              "      <td>8.400000e+04</td>\n",
              "      <td>13.510000</td>\n",
              "      <td>0.000000</td>\n",
              "      <td>...</td>\n",
              "      <td>3.000000</td>\n",
              "      <td>5.000000</td>\n",
              "      <td>8.000000</td>\n",
              "      <td>3.000000</td>\n",
              "      <td>8.000000</td>\n",
              "      <td>0.000000</td>\n",
              "      <td>0.000000</td>\n",
              "      <td>0.000000</td>\n",
              "      <td>1.000000</td>\n",
              "      <td>91.400000</td>\n",
              "      <td>0.000000</td>\n",
              "      <td>0.000000</td>\n",
              "      <td>0.000000</td>\n",
              "      <td>5.080000e+04</td>\n",
              "      <td>2.083800e+04</td>\n",
              "      <td>8300.000000</td>\n",
              "      <td>1.500000e+04</td>\n",
              "      <td>NaN</td>\n",
              "      <td>NaN</td>\n",
              "      <td>NaN</td>\n",
              "      <td>NaN</td>\n",
              "      <td>NaN</td>\n",
              "      <td>NaN</td>\n",
              "      <td>NaN</td>\n",
              "      <td>NaN</td>\n",
              "      <td>NaN</td>\n",
              "      <td>NaN</td>\n",
              "      <td>NaN</td>\n",
              "      <td>NaN</td>\n",
              "      <td>NaN</td>\n",
              "      <td>3.0</td>\n",
              "      <td>59.300000</td>\n",
              "      <td>3.0</td>\n",
              "      <td>4.750000</td>\n",
              "      <td>174.390000</td>\n",
              "      <td>5636.767500</td>\n",
              "      <td>46.112500</td>\n",
              "      <td>2225.992500</td>\n",
              "      <td>45.000000</td>\n",
              "      <td>6.000000</td>\n",
              "    </tr>\n",
              "    <tr>\n",
              "      <th>50%</th>\n",
              "      <td>113033.500000</td>\n",
              "      <td>8.444477e+07</td>\n",
              "      <td>NaN</td>\n",
              "      <td>12975.000000</td>\n",
              "      <td>12950.000000</td>\n",
              "      <td>12825.000000</td>\n",
              "      <td>12.620000</td>\n",
              "      <td>377.520000</td>\n",
              "      <td>6.500000e+04</td>\n",
              "      <td>NaN</td>\n",
              "      <td>17.810000</td>\n",
              "      <td>0.000000</td>\n",
              "      <td>690.000000</td>\n",
              "      <td>694.000000</td>\n",
              "      <td>0.000000</td>\n",
              "      <td>31.000000</td>\n",
              "      <td>74.000000</td>\n",
              "      <td>11.000000</td>\n",
              "      <td>0.000000</td>\n",
              "      <td>1.133600e+04</td>\n",
              "      <td>50.300000</td>\n",
              "      <td>22.000000</td>\n",
              "      <td>0.000000</td>\n",
              "      <td>0.000000</td>\n",
              "      <td>9355.384941</td>\n",
              "      <td>9334.930000</td>\n",
              "      <td>7000.000000</td>\n",
              "      <td>1531.340000</td>\n",
              "      <td>0.000000e+00</td>\n",
              "      <td>0.000000</td>\n",
              "      <td>0.000000</td>\n",
              "      <td>602.300000</td>\n",
              "      <td>699.000000</td>\n",
              "      <td>695.000000</td>\n",
              "      <td>0.000000</td>\n",
              "      <td>44.000000</td>\n",
              "      <td>1.0</td>\n",
              "      <td>1.110000e+05</td>\n",
              "      <td>18.860000</td>\n",
              "      <td>0.000000</td>\n",
              "      <td>...</td>\n",
              "      <td>6.000000</td>\n",
              "      <td>7.000000</td>\n",
              "      <td>12.000000</td>\n",
              "      <td>5.000000</td>\n",
              "      <td>11.000000</td>\n",
              "      <td>0.000000</td>\n",
              "      <td>0.000000</td>\n",
              "      <td>0.000000</td>\n",
              "      <td>2.000000</td>\n",
              "      <td>100.000000</td>\n",
              "      <td>37.500000</td>\n",
              "      <td>0.000000</td>\n",
              "      <td>0.000000</td>\n",
              "      <td>1.142760e+05</td>\n",
              "      <td>3.776100e+04</td>\n",
              "      <td>16300.000000</td>\n",
              "      <td>3.252500e+04</td>\n",
              "      <td>NaN</td>\n",
              "      <td>NaN</td>\n",
              "      <td>NaN</td>\n",
              "      <td>NaN</td>\n",
              "      <td>NaN</td>\n",
              "      <td>NaN</td>\n",
              "      <td>NaN</td>\n",
              "      <td>NaN</td>\n",
              "      <td>NaN</td>\n",
              "      <td>NaN</td>\n",
              "      <td>NaN</td>\n",
              "      <td>NaN</td>\n",
              "      <td>NaN</td>\n",
              "      <td>3.0</td>\n",
              "      <td>121.060000</td>\n",
              "      <td>3.0</td>\n",
              "      <td>15.000000</td>\n",
              "      <td>358.470000</td>\n",
              "      <td>10170.525000</td>\n",
              "      <td>132.375000</td>\n",
              "      <td>4209.950000</td>\n",
              "      <td>45.000000</td>\n",
              "      <td>14.000000</td>\n",
              "    </tr>\n",
              "    <tr>\n",
              "      <th>75%</th>\n",
              "      <td>169549.750000</td>\n",
              "      <td>1.223360e+08</td>\n",
              "      <td>NaN</td>\n",
              "      <td>20000.000000</td>\n",
              "      <td>20000.000000</td>\n",
              "      <td>20000.000000</td>\n",
              "      <td>15.990000</td>\n",
              "      <td>594.690000</td>\n",
              "      <td>9.300000e+04</td>\n",
              "      <td>NaN</td>\n",
              "      <td>24.430000</td>\n",
              "      <td>0.000000</td>\n",
              "      <td>715.000000</td>\n",
              "      <td>719.000000</td>\n",
              "      <td>1.000000</td>\n",
              "      <td>51.000000</td>\n",
              "      <td>93.000000</td>\n",
              "      <td>14.000000</td>\n",
              "      <td>0.000000</td>\n",
              "      <td>2.027400e+04</td>\n",
              "      <td>69.400000</td>\n",
              "      <td>31.000000</td>\n",
              "      <td>6146.592500</td>\n",
              "      <td>6137.080000</td>\n",
              "      <td>16951.209079</td>\n",
              "      <td>16927.332500</td>\n",
              "      <td>13855.500000</td>\n",
              "      <td>3109.090000</td>\n",
              "      <td>0.000000e+00</td>\n",
              "      <td>0.000000</td>\n",
              "      <td>0.000000</td>\n",
              "      <td>3702.970000</td>\n",
              "      <td>734.000000</td>\n",
              "      <td>730.000000</td>\n",
              "      <td>0.000000</td>\n",
              "      <td>62.000000</td>\n",
              "      <td>1.0</td>\n",
              "      <td>1.500000e+05</td>\n",
              "      <td>24.550000</td>\n",
              "      <td>0.000000</td>\n",
              "      <td>...</td>\n",
              "      <td>11.000000</td>\n",
              "      <td>10.000000</td>\n",
              "      <td>18.000000</td>\n",
              "      <td>7.000000</td>\n",
              "      <td>14.000000</td>\n",
              "      <td>0.000000</td>\n",
              "      <td>0.000000</td>\n",
              "      <td>0.000000</td>\n",
              "      <td>3.000000</td>\n",
              "      <td>100.000000</td>\n",
              "      <td>71.400000</td>\n",
              "      <td>0.000000</td>\n",
              "      <td>0.000000</td>\n",
              "      <td>2.576302e+05</td>\n",
              "      <td>6.430100e+04</td>\n",
              "      <td>30400.000000</td>\n",
              "      <td>5.860550e+04</td>\n",
              "      <td>NaN</td>\n",
              "      <td>NaN</td>\n",
              "      <td>NaN</td>\n",
              "      <td>NaN</td>\n",
              "      <td>NaN</td>\n",
              "      <td>NaN</td>\n",
              "      <td>NaN</td>\n",
              "      <td>NaN</td>\n",
              "      <td>NaN</td>\n",
              "      <td>NaN</td>\n",
              "      <td>NaN</td>\n",
              "      <td>NaN</td>\n",
              "      <td>NaN</td>\n",
              "      <td>3.0</td>\n",
              "      <td>222.600000</td>\n",
              "      <td>3.0</td>\n",
              "      <td>22.000000</td>\n",
              "      <td>664.380000</td>\n",
              "      <td>16418.597500</td>\n",
              "      <td>286.392500</td>\n",
              "      <td>6856.047500</td>\n",
              "      <td>50.000000</td>\n",
              "      <td>18.000000</td>\n",
              "    </tr>\n",
              "    <tr>\n",
              "      <th>max</th>\n",
              "      <td>226066.000000</td>\n",
              "      <td>1.456442e+08</td>\n",
              "      <td>NaN</td>\n",
              "      <td>40000.000000</td>\n",
              "      <td>40000.000000</td>\n",
              "      <td>40000.000000</td>\n",
              "      <td>30.990000</td>\n",
              "      <td>1618.030000</td>\n",
              "      <td>6.100000e+07</td>\n",
              "      <td>NaN</td>\n",
              "      <td>999.000000</td>\n",
              "      <td>58.000000</td>\n",
              "      <td>845.000000</td>\n",
              "      <td>850.000000</td>\n",
              "      <td>27.000000</td>\n",
              "      <td>168.000000</td>\n",
              "      <td>124.000000</td>\n",
              "      <td>90.000000</td>\n",
              "      <td>37.000000</td>\n",
              "      <td>1.743266e+06</td>\n",
              "      <td>366.600000</td>\n",
              "      <td>145.000000</td>\n",
              "      <td>39091.640000</td>\n",
              "      <td>39091.640000</td>\n",
              "      <td>62412.691481</td>\n",
              "      <td>62412.690000</td>\n",
              "      <td>40000.000000</td>\n",
              "      <td>27412.690000</td>\n",
              "      <td>9.180000e+02</td>\n",
              "      <td>35581.880000</td>\n",
              "      <td>6404.738400</td>\n",
              "      <td>40786.320000</td>\n",
              "      <td>850.000000</td>\n",
              "      <td>845.000000</td>\n",
              "      <td>9.000000</td>\n",
              "      <td>168.000000</td>\n",
              "      <td>1.0</td>\n",
              "      <td>2.000000e+06</td>\n",
              "      <td>61.900000</td>\n",
              "      <td>4.000000</td>\n",
              "      <td>...</td>\n",
              "      <td>130.000000</td>\n",
              "      <td>83.000000</td>\n",
              "      <td>112.000000</td>\n",
              "      <td>65.000000</td>\n",
              "      <td>90.000000</td>\n",
              "      <td>2.000000</td>\n",
              "      <td>4.000000</td>\n",
              "      <td>58.000000</td>\n",
              "      <td>27.000000</td>\n",
              "      <td>100.000000</td>\n",
              "      <td>100.000000</td>\n",
              "      <td>8.000000</td>\n",
              "      <td>37.000000</td>\n",
              "      <td>8.592561e+06</td>\n",
              "      <td>2.336791e+06</td>\n",
              "      <td>584200.000000</td>\n",
              "      <td>2.118996e+06</td>\n",
              "      <td>NaN</td>\n",
              "      <td>NaN</td>\n",
              "      <td>NaN</td>\n",
              "      <td>NaN</td>\n",
              "      <td>NaN</td>\n",
              "      <td>NaN</td>\n",
              "      <td>NaN</td>\n",
              "      <td>NaN</td>\n",
              "      <td>NaN</td>\n",
              "      <td>NaN</td>\n",
              "      <td>NaN</td>\n",
              "      <td>NaN</td>\n",
              "      <td>NaN</td>\n",
              "      <td>3.0</td>\n",
              "      <td>893.050000</td>\n",
              "      <td>3.0</td>\n",
              "      <td>30.000000</td>\n",
              "      <td>2679.150000</td>\n",
              "      <td>40306.410000</td>\n",
              "      <td>1161.510000</td>\n",
              "      <td>33601.000000</td>\n",
              "      <td>100.000000</td>\n",
              "      <td>181.000000</td>\n",
              "    </tr>\n",
              "  </tbody>\n",
              "</table>\n",
              "<p>8 rows × 117 columns</p>\n",
              "</div>"
            ],
            "text/plain": [
              "          Unnamed: 0            id  ...  settlement_percentage  settlement_term\n",
              "count  226066.000000  2.260660e+05  ...  3476.000000            3476.000000    \n",
              "mean   113033.500000  8.024734e+07  ...  47.787825              13.233890      \n",
              "std    65259.777315   4.501596e+07  ...  6.905756               8.681392       \n",
              "min    1.000000       5.612100e+04  ...  0.200000               0.000000       \n",
              "25%    56517.250000   4.475561e+07  ...  45.000000              6.000000       \n",
              "50%    113033.500000  8.444477e+07  ...  45.000000              14.000000      \n",
              "75%    169549.750000  1.223360e+08  ...  50.000000              18.000000      \n",
              "max    226066.000000  1.456442e+08  ...  100.000000             181.000000     \n",
              "\n",
              "[8 rows x 117 columns]"
            ]
          },
          "metadata": {
            "tags": []
          },
          "execution_count": 68
        }
      ]
    },
    {
      "cell_type": "markdown",
      "metadata": {
        "id": "o2tkgrstrZNE"
      },
      "source": [
        "Below is a short description of columns in the accepted loan data set."
      ]
    },
    {
      "cell_type": "code",
      "metadata": {
        "id": "6v_bUvZExUv-",
        "colab": {
          "base_uri": "https://localhost:8080/",
          "height": 1000
        },
        "outputId": "646acdea-db51-41d4-8dc7-3dae23b99840"
      },
      "source": [
        "df_features_desc(df_loan_accepted)"
      ],
      "execution_count": 69,
      "outputs": [
        {
          "output_type": "stream",
          "text": [
            "/usr/local/lib/python3.7/dist-packages/ipykernel_launcher.py:12: FutureWarning: Passing a negative integer is deprecated in version 1.0 and will not be supported in future version. Instead, use None to not limit the column width.\n",
            "  if sys.path[0] == '':\n"
          ],
          "name": "stderr"
        },
        {
          "output_type": "display_data",
          "data": {
            "text/html": [
              "<table border=\"1\" class=\"dataframe\">\n",
              "  <thead>\n",
              "    <tr style=\"text-align: right;\">\n",
              "      <th></th>\n",
              "      <th>Feature</th>\n",
              "      <th>Data Type</th>\n",
              "      <th>Description</th>\n",
              "    </tr>\n",
              "  </thead>\n",
              "  <tbody>\n",
              "    <tr>\n",
              "      <th>40</th>\n",
              "      <td>id</td>\n",
              "      <td>int64</td>\n",
              "      <td>A unique LC assigned ID for the loan listing.</td>\n",
              "    </tr>\n",
              "    <tr>\n",
              "      <th>41</th>\n",
              "      <td>member_id</td>\n",
              "      <td>float64</td>\n",
              "      <td>A unique LC assigned Id for the borrower member.</td>\n",
              "    </tr>\n",
              "    <tr>\n",
              "      <th>42</th>\n",
              "      <td>loan_amnt</td>\n",
              "      <td>int64</td>\n",
              "      <td>The listed amount of the loan applied for by the borrower. If at some point in time, the credit department reduces the loan amount, then it will be reflected in this value.</td>\n",
              "    </tr>\n",
              "    <tr>\n",
              "      <th>43</th>\n",
              "      <td>funded_amnt</td>\n",
              "      <td>int64</td>\n",
              "      <td>The total amount committed to that loan at that point in time.</td>\n",
              "    </tr>\n",
              "    <tr>\n",
              "      <th>44</th>\n",
              "      <td>funded_amnt_inv</td>\n",
              "      <td>float64</td>\n",
              "      <td>The total amount committed by investors for that loan at that point in time.</td>\n",
              "    </tr>\n",
              "    <tr>\n",
              "      <th>45</th>\n",
              "      <td>term</td>\n",
              "      <td>object</td>\n",
              "      <td>The number of payments on the loan. Values are in months and can be either 36 or 60.</td>\n",
              "    </tr>\n",
              "    <tr>\n",
              "      <th>46</th>\n",
              "      <td>int_rate</td>\n",
              "      <td>float64</td>\n",
              "      <td>Interest Rate on the loan</td>\n",
              "    </tr>\n",
              "    <tr>\n",
              "      <th>47</th>\n",
              "      <td>installment</td>\n",
              "      <td>float64</td>\n",
              "      <td>The monthly payment owed by the borrower if the loan originates.</td>\n",
              "    </tr>\n",
              "    <tr>\n",
              "      <th>48</th>\n",
              "      <td>grade</td>\n",
              "      <td>object</td>\n",
              "      <td>LC assigned loan grade</td>\n",
              "    </tr>\n",
              "    <tr>\n",
              "      <th>49</th>\n",
              "      <td>sub_grade</td>\n",
              "      <td>object</td>\n",
              "      <td>LC assigned loan subgrade</td>\n",
              "    </tr>\n",
              "    <tr>\n",
              "      <th>50</th>\n",
              "      <td>emp_title</td>\n",
              "      <td>object</td>\n",
              "      <td>The job title supplied by the Borrower when applying for the loan.*</td>\n",
              "    </tr>\n",
              "    <tr>\n",
              "      <th>51</th>\n",
              "      <td>emp_length</td>\n",
              "      <td>object</td>\n",
              "      <td>Employment length in years. Possible values are between 0 and 10 where 0 means less than one year and 10 means ten or more years.</td>\n",
              "    </tr>\n",
              "    <tr>\n",
              "      <th>52</th>\n",
              "      <td>home_ownership</td>\n",
              "      <td>object</td>\n",
              "      <td>The home ownership status provided by the borrower during registration. Our values are: RENT, OWN, MORTGAGE, OTHER.</td>\n",
              "    </tr>\n",
              "    <tr>\n",
              "      <th>53</th>\n",
              "      <td>annual_inc</td>\n",
              "      <td>float64</td>\n",
              "      <td>The self-reported annual income provided by the borrower during registration.</td>\n",
              "    </tr>\n",
              "    <tr>\n",
              "      <th>54</th>\n",
              "      <td>verification_status</td>\n",
              "      <td>object</td>\n",
              "      <td>Indicates if income was verified by LC, not verified, or if the income source was verified</td>\n",
              "    </tr>\n",
              "    <tr>\n",
              "      <th>55</th>\n",
              "      <td>issue_d</td>\n",
              "      <td>object</td>\n",
              "      <td>The month which the loan was funded</td>\n",
              "    </tr>\n",
              "    <tr>\n",
              "      <th>56</th>\n",
              "      <td>loan_status</td>\n",
              "      <td>object</td>\n",
              "      <td>Current status of the loan</td>\n",
              "    </tr>\n",
              "    <tr>\n",
              "      <th>57</th>\n",
              "      <td>pymnt_plan</td>\n",
              "      <td>object</td>\n",
              "      <td>Indicates if a payment plan has been put in place for the loan</td>\n",
              "    </tr>\n",
              "    <tr>\n",
              "      <th>58</th>\n",
              "      <td>url</td>\n",
              "      <td>object</td>\n",
              "      <td>URL for the LC page with listing data.</td>\n",
              "    </tr>\n",
              "    <tr>\n",
              "      <th>59</th>\n",
              "      <td>desc</td>\n",
              "      <td>float64</td>\n",
              "      <td>Loan description provided by the borrower</td>\n",
              "    </tr>\n",
              "    <tr>\n",
              "      <th>60</th>\n",
              "      <td>purpose</td>\n",
              "      <td>object</td>\n",
              "      <td>A category provided by the borrower for the loan request.</td>\n",
              "    </tr>\n",
              "    <tr>\n",
              "      <th>61</th>\n",
              "      <td>title</td>\n",
              "      <td>object</td>\n",
              "      <td>The loan title provided by the borrower</td>\n",
              "    </tr>\n",
              "    <tr>\n",
              "      <th>62</th>\n",
              "      <td>zip_code</td>\n",
              "      <td>object</td>\n",
              "      <td>The first 3 numbers of the zip code provided by the borrower in the loan application.</td>\n",
              "    </tr>\n",
              "    <tr>\n",
              "      <th>63</th>\n",
              "      <td>addr_state</td>\n",
              "      <td>object</td>\n",
              "      <td>The state provided by the borrower in the loan application</td>\n",
              "    </tr>\n",
              "    <tr>\n",
              "      <th>64</th>\n",
              "      <td>dti</td>\n",
              "      <td>float64</td>\n",
              "      <td>A ratio calculated using the borrower’s total monthly debt payments on the total debt obligations, excluding mortgage and the requested LC loan, divided by the borrower’s self-reported monthly income.</td>\n",
              "    </tr>\n",
              "    <tr>\n",
              "      <th>65</th>\n",
              "      <td>delinq_2yrs</td>\n",
              "      <td>float64</td>\n",
              "      <td>The number of 30+ days past-due incidences of delinquency in the borrower's credit file for the past 2 years</td>\n",
              "    </tr>\n",
              "    <tr>\n",
              "      <th>66</th>\n",
              "      <td>earliest_cr_line</td>\n",
              "      <td>object</td>\n",
              "      <td>The month the borrower's earliest reported credit line was opened</td>\n",
              "    </tr>\n",
              "    <tr>\n",
              "      <th>67</th>\n",
              "      <td>fico_range_low</td>\n",
              "      <td>int64</td>\n",
              "      <td>The lower boundary range the borrower’s FICO at loan origination belongs to.</td>\n",
              "    </tr>\n",
              "    <tr>\n",
              "      <th>68</th>\n",
              "      <td>fico_range_high</td>\n",
              "      <td>int64</td>\n",
              "      <td>The upper boundary range the borrower’s FICO at loan origination belongs to.</td>\n",
              "    </tr>\n",
              "    <tr>\n",
              "      <th>69</th>\n",
              "      <td>inq_last_6mths</td>\n",
              "      <td>float64</td>\n",
              "      <td>The number of inquiries in past 6 months (excluding auto and mortgage inquiries)</td>\n",
              "    </tr>\n",
              "    <tr>\n",
              "      <th>70</th>\n",
              "      <td>mths_since_last_delinq</td>\n",
              "      <td>float64</td>\n",
              "      <td>The number of months since the borrower's last delinquency.</td>\n",
              "    </tr>\n",
              "    <tr>\n",
              "      <th>71</th>\n",
              "      <td>mths_since_last_record</td>\n",
              "      <td>float64</td>\n",
              "      <td>The number of months since the last public record.</td>\n",
              "    </tr>\n",
              "    <tr>\n",
              "      <th>72</th>\n",
              "      <td>open_acc</td>\n",
              "      <td>float64</td>\n",
              "      <td>The number of open credit lines in the borrower's credit file.</td>\n",
              "    </tr>\n",
              "    <tr>\n",
              "      <th>73</th>\n",
              "      <td>pub_rec</td>\n",
              "      <td>float64</td>\n",
              "      <td>Number of derogatory public records</td>\n",
              "    </tr>\n",
              "    <tr>\n",
              "      <th>74</th>\n",
              "      <td>revol_bal</td>\n",
              "      <td>int64</td>\n",
              "      <td>Total credit revolving balance</td>\n",
              "    </tr>\n",
              "    <tr>\n",
              "      <th>75</th>\n",
              "      <td>revol_util</td>\n",
              "      <td>float64</td>\n",
              "      <td>Revolving line utilization rate, or the amount of credit the borrower is using relative to all available revolving credit.</td>\n",
              "    </tr>\n",
              "    <tr>\n",
              "      <th>76</th>\n",
              "      <td>total_acc</td>\n",
              "      <td>float64</td>\n",
              "      <td>The total number of credit lines currently in the borrower's credit file</td>\n",
              "    </tr>\n",
              "    <tr>\n",
              "      <th>77</th>\n",
              "      <td>initial_list_status</td>\n",
              "      <td>object</td>\n",
              "      <td>The initial listing status of the loan. Possible values are – W, F</td>\n",
              "    </tr>\n",
              "    <tr>\n",
              "      <th>78</th>\n",
              "      <td>out_prncp</td>\n",
              "      <td>float64</td>\n",
              "      <td>Remaining outstanding principal for total amount funded</td>\n",
              "    </tr>\n",
              "    <tr>\n",
              "      <th>79</th>\n",
              "      <td>out_prncp_inv</td>\n",
              "      <td>float64</td>\n",
              "      <td>Remaining outstanding principal for portion of total amount funded by investors</td>\n",
              "    </tr>\n",
              "    <tr>\n",
              "      <th>80</th>\n",
              "      <td>total_pymnt</td>\n",
              "      <td>float64</td>\n",
              "      <td>Payments received to date for total amount funded</td>\n",
              "    </tr>\n",
              "    <tr>\n",
              "      <th>81</th>\n",
              "      <td>total_pymnt_inv</td>\n",
              "      <td>float64</td>\n",
              "      <td>Payments received to date for portion of total amount funded by investors</td>\n",
              "    </tr>\n",
              "    <tr>\n",
              "      <th>82</th>\n",
              "      <td>total_rec_prncp</td>\n",
              "      <td>float64</td>\n",
              "      <td>Principal received to date</td>\n",
              "    </tr>\n",
              "    <tr>\n",
              "      <th>83</th>\n",
              "      <td>total_rec_int</td>\n",
              "      <td>float64</td>\n",
              "      <td>Interest received to date</td>\n",
              "    </tr>\n",
              "    <tr>\n",
              "      <th>84</th>\n",
              "      <td>total_rec_late_fee</td>\n",
              "      <td>float64</td>\n",
              "      <td>Late fees received to date</td>\n",
              "    </tr>\n",
              "    <tr>\n",
              "      <th>85</th>\n",
              "      <td>recoveries</td>\n",
              "      <td>float64</td>\n",
              "      <td>post charge off gross recovery</td>\n",
              "    </tr>\n",
              "    <tr>\n",
              "      <th>86</th>\n",
              "      <td>collection_recovery_fee</td>\n",
              "      <td>float64</td>\n",
              "      <td>post charge off collection fee</td>\n",
              "    </tr>\n",
              "    <tr>\n",
              "      <th>87</th>\n",
              "      <td>last_pymnt_d</td>\n",
              "      <td>object</td>\n",
              "      <td>Last month payment was received</td>\n",
              "    </tr>\n",
              "    <tr>\n",
              "      <th>88</th>\n",
              "      <td>last_pymnt_amnt</td>\n",
              "      <td>float64</td>\n",
              "      <td>Last total payment amount received</td>\n",
              "    </tr>\n",
              "    <tr>\n",
              "      <th>89</th>\n",
              "      <td>next_pymnt_d</td>\n",
              "      <td>object</td>\n",
              "      <td>Next scheduled payment date</td>\n",
              "    </tr>\n",
              "    <tr>\n",
              "      <th>90</th>\n",
              "      <td>last_credit_pull_d</td>\n",
              "      <td>object</td>\n",
              "      <td>The most recent month LC pulled credit for this loan</td>\n",
              "    </tr>\n",
              "    <tr>\n",
              "      <th>91</th>\n",
              "      <td>last_fico_range_high</td>\n",
              "      <td>int64</td>\n",
              "      <td>The upper boundary range the borrower’s last FICO pulled belongs to.</td>\n",
              "    </tr>\n",
              "    <tr>\n",
              "      <th>92</th>\n",
              "      <td>last_fico_range_low</td>\n",
              "      <td>int64</td>\n",
              "      <td>The lower boundary range the borrower’s last FICO pulled belongs to.</td>\n",
              "    </tr>\n",
              "    <tr>\n",
              "      <th>93</th>\n",
              "      <td>collections_12_mths_ex_med</td>\n",
              "      <td>float64</td>\n",
              "      <td>Number of collections in 12 months excluding medical collections</td>\n",
              "    </tr>\n",
              "    <tr>\n",
              "      <th>94</th>\n",
              "      <td>mths_since_last_major_derog</td>\n",
              "      <td>float64</td>\n",
              "      <td>Months since most recent 90-day or worse rating</td>\n",
              "    </tr>\n",
              "    <tr>\n",
              "      <th>95</th>\n",
              "      <td>policy_code</td>\n",
              "      <td>int64</td>\n",
              "      <td>publicly available policy_code=1\\nnew products not publicly available policy_code=2</td>\n",
              "    </tr>\n",
              "    <tr>\n",
              "      <th>96</th>\n",
              "      <td>application_type</td>\n",
              "      <td>object</td>\n",
              "      <td>Indicates whether the loan is an individual application or a joint application with two co-borrowers</td>\n",
              "    </tr>\n",
              "    <tr>\n",
              "      <th>97</th>\n",
              "      <td>annual_inc_joint</td>\n",
              "      <td>float64</td>\n",
              "      <td>The combined self-reported annual income provided by the co-borrowers during registration</td>\n",
              "    </tr>\n",
              "    <tr>\n",
              "      <th>98</th>\n",
              "      <td>dti_joint</td>\n",
              "      <td>float64</td>\n",
              "      <td>A ratio calculated using the co-borrowers' total monthly payments on the total debt obligations, excluding mortgages and the requested LC loan, divided by the co-borrowers' combined self-reported monthly income</td>\n",
              "    </tr>\n",
              "    <tr>\n",
              "      <th>99</th>\n",
              "      <td>acc_now_delinq</td>\n",
              "      <td>float64</td>\n",
              "      <td>The number of accounts on which the borrower is now delinquent.</td>\n",
              "    </tr>\n",
              "    <tr>\n",
              "      <th>100</th>\n",
              "      <td>tot_coll_amt</td>\n",
              "      <td>float64</td>\n",
              "      <td>Total collection amounts ever owed</td>\n",
              "    </tr>\n",
              "    <tr>\n",
              "      <th>101</th>\n",
              "      <td>tot_cur_bal</td>\n",
              "      <td>float64</td>\n",
              "      <td>Total current balance of all accounts</td>\n",
              "    </tr>\n",
              "    <tr>\n",
              "      <th>102</th>\n",
              "      <td>open_acc_6m</td>\n",
              "      <td>float64</td>\n",
              "      <td>Number of open trades in last 6 months</td>\n",
              "    </tr>\n",
              "    <tr>\n",
              "      <th>103</th>\n",
              "      <td>open_il_12m</td>\n",
              "      <td>float64</td>\n",
              "      <td>Number of installment accounts opened in past 12 months</td>\n",
              "    </tr>\n",
              "    <tr>\n",
              "      <th>104</th>\n",
              "      <td>open_il_24m</td>\n",
              "      <td>float64</td>\n",
              "      <td>Number of installment accounts opened in past 24 months</td>\n",
              "    </tr>\n",
              "    <tr>\n",
              "      <th>105</th>\n",
              "      <td>mths_since_rcnt_il</td>\n",
              "      <td>float64</td>\n",
              "      <td>Months since most recent installment accounts opened</td>\n",
              "    </tr>\n",
              "    <tr>\n",
              "      <th>106</th>\n",
              "      <td>total_bal_il</td>\n",
              "      <td>float64</td>\n",
              "      <td>Total current balance of all installment accounts</td>\n",
              "    </tr>\n",
              "    <tr>\n",
              "      <th>107</th>\n",
              "      <td>il_util</td>\n",
              "      <td>float64</td>\n",
              "      <td>Ratio of total current balance to high credit/credit limit on all install acct</td>\n",
              "    </tr>\n",
              "    <tr>\n",
              "      <th>108</th>\n",
              "      <td>open_rv_12m</td>\n",
              "      <td>float64</td>\n",
              "      <td>Number of revolving trades opened in past 12 months</td>\n",
              "    </tr>\n",
              "    <tr>\n",
              "      <th>109</th>\n",
              "      <td>open_rv_24m</td>\n",
              "      <td>float64</td>\n",
              "      <td>Number of revolving trades opened in past 24 months</td>\n",
              "    </tr>\n",
              "    <tr>\n",
              "      <th>110</th>\n",
              "      <td>max_bal_bc</td>\n",
              "      <td>float64</td>\n",
              "      <td>Maximum current balance owed on all revolving accounts</td>\n",
              "    </tr>\n",
              "    <tr>\n",
              "      <th>111</th>\n",
              "      <td>all_util</td>\n",
              "      <td>float64</td>\n",
              "      <td>Balance to credit limit on all trades</td>\n",
              "    </tr>\n",
              "    <tr>\n",
              "      <th>112</th>\n",
              "      <td>inq_fi</td>\n",
              "      <td>float64</td>\n",
              "      <td>Number of personal finance inquiries</td>\n",
              "    </tr>\n",
              "    <tr>\n",
              "      <th>113</th>\n",
              "      <td>total_cu_tl</td>\n",
              "      <td>float64</td>\n",
              "      <td>Number of finance trades</td>\n",
              "    </tr>\n",
              "    <tr>\n",
              "      <th>114</th>\n",
              "      <td>inq_last_12m</td>\n",
              "      <td>float64</td>\n",
              "      <td>Number of credit inquiries in past 12 months</td>\n",
              "    </tr>\n",
              "    <tr>\n",
              "      <th>115</th>\n",
              "      <td>acc_open_past_24mths</td>\n",
              "      <td>float64</td>\n",
              "      <td>Number of trades opened in past 24 months.</td>\n",
              "    </tr>\n",
              "    <tr>\n",
              "      <th>116</th>\n",
              "      <td>avg_cur_bal</td>\n",
              "      <td>float64</td>\n",
              "      <td>Average current balance of all accounts</td>\n",
              "    </tr>\n",
              "    <tr>\n",
              "      <th>117</th>\n",
              "      <td>bc_open_to_buy</td>\n",
              "      <td>float64</td>\n",
              "      <td>Total open to buy on revolving bankcards.</td>\n",
              "    </tr>\n",
              "    <tr>\n",
              "      <th>118</th>\n",
              "      <td>bc_util</td>\n",
              "      <td>float64</td>\n",
              "      <td>Ratio of total current balance to high credit/credit limit for all bankcard accounts.</td>\n",
              "    </tr>\n",
              "    <tr>\n",
              "      <th>119</th>\n",
              "      <td>chargeoff_within_12_mths</td>\n",
              "      <td>float64</td>\n",
              "      <td>Number of charge-offs within 12 months</td>\n",
              "    </tr>\n",
              "    <tr>\n",
              "      <th>120</th>\n",
              "      <td>delinq_amnt</td>\n",
              "      <td>float64</td>\n",
              "      <td>The past-due amount owed for the accounts on which the borrower is now delinquent.</td>\n",
              "    </tr>\n",
              "    <tr>\n",
              "      <th>121</th>\n",
              "      <td>mo_sin_old_il_acct</td>\n",
              "      <td>float64</td>\n",
              "      <td>Months since oldest bank installment account opened</td>\n",
              "    </tr>\n",
              "    <tr>\n",
              "      <th>122</th>\n",
              "      <td>mo_sin_old_rev_tl_op</td>\n",
              "      <td>float64</td>\n",
              "      <td>Months since oldest revolving account opened</td>\n",
              "    </tr>\n",
              "    <tr>\n",
              "      <th>123</th>\n",
              "      <td>mo_sin_rcnt_rev_tl_op</td>\n",
              "      <td>float64</td>\n",
              "      <td>Months since most recent revolving account opened</td>\n",
              "    </tr>\n",
              "    <tr>\n",
              "      <th>124</th>\n",
              "      <td>mo_sin_rcnt_tl</td>\n",
              "      <td>float64</td>\n",
              "      <td>Months since most recent account opened</td>\n",
              "    </tr>\n",
              "    <tr>\n",
              "      <th>125</th>\n",
              "      <td>mort_acc</td>\n",
              "      <td>float64</td>\n",
              "      <td>Number of mortgage accounts.</td>\n",
              "    </tr>\n",
              "    <tr>\n",
              "      <th>126</th>\n",
              "      <td>mths_since_recent_bc</td>\n",
              "      <td>float64</td>\n",
              "      <td>Months since most recent bankcard account opened.</td>\n",
              "    </tr>\n",
              "    <tr>\n",
              "      <th>127</th>\n",
              "      <td>mths_since_recent_bc_dlq</td>\n",
              "      <td>float64</td>\n",
              "      <td>Months since most recent bankcard delinquency</td>\n",
              "    </tr>\n",
              "    <tr>\n",
              "      <th>128</th>\n",
              "      <td>mths_since_recent_inq</td>\n",
              "      <td>float64</td>\n",
              "      <td>Months since most recent inquiry.</td>\n",
              "    </tr>\n",
              "    <tr>\n",
              "      <th>129</th>\n",
              "      <td>mths_since_recent_revol_delinq</td>\n",
              "      <td>float64</td>\n",
              "      <td>Months since most recent revolving delinquency.</td>\n",
              "    </tr>\n",
              "    <tr>\n",
              "      <th>130</th>\n",
              "      <td>num_accts_ever_120_pd</td>\n",
              "      <td>float64</td>\n",
              "      <td>Number of accounts ever 120 or more days past due</td>\n",
              "    </tr>\n",
              "    <tr>\n",
              "      <th>131</th>\n",
              "      <td>num_actv_bc_tl</td>\n",
              "      <td>float64</td>\n",
              "      <td>Number of currently active bankcard accounts</td>\n",
              "    </tr>\n",
              "    <tr>\n",
              "      <th>132</th>\n",
              "      <td>num_actv_rev_tl</td>\n",
              "      <td>float64</td>\n",
              "      <td>Number of currently active revolving trades</td>\n",
              "    </tr>\n",
              "    <tr>\n",
              "      <th>133</th>\n",
              "      <td>num_bc_sats</td>\n",
              "      <td>float64</td>\n",
              "      <td>Number of satisfactory bankcard accounts</td>\n",
              "    </tr>\n",
              "    <tr>\n",
              "      <th>134</th>\n",
              "      <td>num_bc_tl</td>\n",
              "      <td>float64</td>\n",
              "      <td>Number of bankcard accounts</td>\n",
              "    </tr>\n",
              "    <tr>\n",
              "      <th>135</th>\n",
              "      <td>num_il_tl</td>\n",
              "      <td>float64</td>\n",
              "      <td>Number of installment accounts</td>\n",
              "    </tr>\n",
              "    <tr>\n",
              "      <th>136</th>\n",
              "      <td>num_op_rev_tl</td>\n",
              "      <td>float64</td>\n",
              "      <td>Number of open revolving accounts</td>\n",
              "    </tr>\n",
              "    <tr>\n",
              "      <th>137</th>\n",
              "      <td>num_rev_accts</td>\n",
              "      <td>float64</td>\n",
              "      <td>Number of revolving accounts</td>\n",
              "    </tr>\n",
              "    <tr>\n",
              "      <th>138</th>\n",
              "      <td>num_rev_tl_bal_gt_0</td>\n",
              "      <td>float64</td>\n",
              "      <td>Number of revolving trades with balance &gt;0</td>\n",
              "    </tr>\n",
              "    <tr>\n",
              "      <th>139</th>\n",
              "      <td>num_sats</td>\n",
              "      <td>float64</td>\n",
              "      <td>Number of satisfactory accounts</td>\n",
              "    </tr>\n",
              "    <tr>\n",
              "      <th>140</th>\n",
              "      <td>num_tl_120dpd_2m</td>\n",
              "      <td>float64</td>\n",
              "      <td>Number of accounts currently 120 days past due (updated in past 2 months)</td>\n",
              "    </tr>\n",
              "    <tr>\n",
              "      <th>141</th>\n",
              "      <td>num_tl_30dpd</td>\n",
              "      <td>float64</td>\n",
              "      <td>Number of accounts currently 30 days past due (updated in past 2 months)</td>\n",
              "    </tr>\n",
              "    <tr>\n",
              "      <th>142</th>\n",
              "      <td>num_tl_90g_dpd_24m</td>\n",
              "      <td>float64</td>\n",
              "      <td>Number of accounts 90 or more days past due in last 24 months</td>\n",
              "    </tr>\n",
              "    <tr>\n",
              "      <th>143</th>\n",
              "      <td>num_tl_op_past_12m</td>\n",
              "      <td>float64</td>\n",
              "      <td>Number of accounts opened in past 12 months</td>\n",
              "    </tr>\n",
              "    <tr>\n",
              "      <th>144</th>\n",
              "      <td>pct_tl_nvr_dlq</td>\n",
              "      <td>float64</td>\n",
              "      <td>Percent of trades never delinquent</td>\n",
              "    </tr>\n",
              "    <tr>\n",
              "      <th>145</th>\n",
              "      <td>percent_bc_gt_75</td>\n",
              "      <td>float64</td>\n",
              "      <td>Percentage of all bankcard accounts &gt; 75% of limit.</td>\n",
              "    </tr>\n",
              "    <tr>\n",
              "      <th>146</th>\n",
              "      <td>pub_rec_bankruptcies</td>\n",
              "      <td>float64</td>\n",
              "      <td>Number of public record bankruptcies</td>\n",
              "    </tr>\n",
              "    <tr>\n",
              "      <th>147</th>\n",
              "      <td>tax_liens</td>\n",
              "      <td>float64</td>\n",
              "      <td>Number of tax liens</td>\n",
              "    </tr>\n",
              "    <tr>\n",
              "      <th>148</th>\n",
              "      <td>tot_hi_cred_lim</td>\n",
              "      <td>float64</td>\n",
              "      <td>Total high credit/credit limit</td>\n",
              "    </tr>\n",
              "    <tr>\n",
              "      <th>149</th>\n",
              "      <td>total_bal_ex_mort</td>\n",
              "      <td>float64</td>\n",
              "      <td>Total credit balance excluding mortgage</td>\n",
              "    </tr>\n",
              "    <tr>\n",
              "      <th>150</th>\n",
              "      <td>total_bc_limit</td>\n",
              "      <td>float64</td>\n",
              "      <td>Total bankcard high credit/credit limit</td>\n",
              "    </tr>\n",
              "    <tr>\n",
              "      <th>151</th>\n",
              "      <td>total_il_high_credit_limit</td>\n",
              "      <td>float64</td>\n",
              "      <td>Total installment high credit/credit limit</td>\n",
              "    </tr>\n",
              "  </tbody>\n",
              "</table>"
            ],
            "text/plain": [
              "<IPython.core.display.HTML object>"
            ]
          },
          "metadata": {
            "tags": []
          }
        }
      ]
    },
    {
      "cell_type": "markdown",
      "metadata": {
        "id": "ZbxOVxwkrZOW"
      },
      "source": [
        "## Census Data\n",
        "The United States Census Bureau provides data about the American people and economy. We have social, economic, and geographic data from 2016 grouped by zip code provided via Piazza by CS109a instructors.\n",
        "\n",
        "We load census data from 2016 into the dataframe `df_census`. \n"
      ]
    },
    {
      "cell_type": "code",
      "metadata": {
        "id": "Ii1HbzkPuh5u"
      },
      "source": [
        "df_census = pd.read_csv('https://s3.amazonaws.com/ruxton.ai/zipcode_demographics_2016_USA.csv')"
      ],
      "execution_count": 70,
      "outputs": []
    },
    {
      "cell_type": "code",
      "metadata": {
        "id": "R7fBA7ksrZOk",
        "colab": {
          "base_uri": "https://localhost:8080/"
        },
        "outputId": "5d37f4ab-4f9f-4210-b7f3-a259ba16da79"
      },
      "source": [
        "df_census.shape"
      ],
      "execution_count": 71,
      "outputs": [
        {
          "output_type": "execute_result",
          "data": {
            "text/plain": [
              "(33120, 135)"
            ]
          },
          "metadata": {
            "tags": []
          },
          "execution_count": 71
        }
      ]
    },
    {
      "cell_type": "markdown",
      "metadata": {
        "id": "jUPev4POrZO6"
      },
      "source": [
        "There are 33120 zip codes, each of them described by 135 statistics."
      ]
    },
    {
      "cell_type": "code",
      "metadata": {
        "id": "-KWDS1udrZO-",
        "colab": {
          "base_uri": "https://localhost:8080/",
          "height": 0
        },
        "outputId": "54d0e4bc-0d50-4fa4-8e63-fc9f5a3a3eac"
      },
      "source": [
        "df_census.describe()"
      ],
      "execution_count": 72,
      "outputs": [
        {
          "output_type": "execute_result",
          "data": {
            "text/html": [
              "<div>\n",
              "<style scoped>\n",
              "    .dataframe tbody tr th:only-of-type {\n",
              "        vertical-align: middle;\n",
              "    }\n",
              "\n",
              "    .dataframe tbody tr th {\n",
              "        vertical-align: top;\n",
              "    }\n",
              "\n",
              "    .dataframe thead th {\n",
              "        text-align: right;\n",
              "    }\n",
              "</style>\n",
              "<table border=\"1\" class=\"dataframe\">\n",
              "  <thead>\n",
              "    <tr style=\"text-align: right;\">\n",
              "      <th></th>\n",
              "      <th>Unnamed: 0</th>\n",
              "      <th>Population</th>\n",
              "      <th>zip code tabulation area</th>\n",
              "      <th>owner_renter_total</th>\n",
              "      <th>owner_occupied</th>\n",
              "      <th>renter_occupied</th>\n",
              "      <th>abroad_year_ago_total</th>\n",
              "      <th>abroad_year_ago_puerto_rico</th>\n",
              "      <th>abroad_year_ago_us_islands</th>\n",
              "      <th>abroad_year_ago_foreign</th>\n",
              "      <th>households_total</th>\n",
              "      <th>mortgage_value_total</th>\n",
              "      <th>median_income_2016</th>\n",
              "      <th>male_pct</th>\n",
              "      <th>Male_0to9_Years_pct</th>\n",
              "      <th>Male_10to19_Years_pct</th>\n",
              "      <th>Male_20to29_Years_pct</th>\n",
              "      <th>Male_30to39_Years_pct</th>\n",
              "      <th>Male_40to49_Years_pct</th>\n",
              "      <th>Male_50to59_Years_pct</th>\n",
              "      <th>Male_60to69_Years_pct</th>\n",
              "      <th>Male_70p_Years_pct</th>\n",
              "      <th>female_pct</th>\n",
              "      <th>Female_0to9_Years_pct</th>\n",
              "      <th>Female_10to19_Years_pct</th>\n",
              "      <th>Female_20to29_Years_pct</th>\n",
              "      <th>Female_30to39_Years_pct</th>\n",
              "      <th>Female_40to49_Years_pct</th>\n",
              "      <th>Female_50to59_Years_pct</th>\n",
              "      <th>Female_60to69_Years_pct</th>\n",
              "      <th>Female_70p_Years_pct</th>\n",
              "      <th>White_pct</th>\n",
              "      <th>Black_pct</th>\n",
              "      <th>Native_pct</th>\n",
              "      <th>Asian_pct</th>\n",
              "      <th>Islander_pct</th>\n",
              "      <th>Other_pct</th>\n",
              "      <th>Two_race_pct</th>\n",
              "      <th>Hispanic_pct</th>\n",
              "      <th>car_to_work_pct</th>\n",
              "      <th>...</th>\n",
              "      <th>english_speaker_foreign_pct</th>\n",
              "      <th>poverty_level_below_pct</th>\n",
              "      <th>powerty_level_at_above_pct</th>\n",
              "      <th>housing_owner_occupied_pct</th>\n",
              "      <th>housing_renter_occupied_pct</th>\n",
              "      <th>rent_less_1000_pct</th>\n",
              "      <th>rent_less_1500_pct</th>\n",
              "      <th>rent_less_2000_pct</th>\n",
              "      <th>rent_less_2500_pct</th>\n",
              "      <th>rent_less_3500_pct</th>\n",
              "      <th>rent_above_3500_pct</th>\n",
              "      <th>owned_with_mortgage_pct</th>\n",
              "      <th>owner_no_mortgage_pct</th>\n",
              "      <th>mortgage_value_less_50k_pct</th>\n",
              "      <th>mortgage_value_50_100k_pct</th>\n",
              "      <th>mortgage_value_100_150k_pct</th>\n",
              "      <th>mortgage_value_150_200k_pct</th>\n",
              "      <th>mortgage_value_200_300k_pct</th>\n",
              "      <th>mortgage_value_300_500k_pct</th>\n",
              "      <th>mortgage_value_500_750k_pct</th>\n",
              "      <th>mortgage_value_750_1M_pct</th>\n",
              "      <th>mortgage_value_1Mp_pct</th>\n",
              "      <th>employment_2016_rate</th>\n",
              "      <th>worked_in_county_of_residence_2016_rate</th>\n",
              "      <th>wourked_outside_county_residence_2016_rate</th>\n",
              "      <th>less_than_15k_pct</th>\n",
              "      <th>15k_to_30k_pct</th>\n",
              "      <th>30k_to_40k_pct</th>\n",
              "      <th>40k_to_50k_pct</th>\n",
              "      <th>50_to_60k_2016_pct</th>\n",
              "      <th>60_to_75k_2016_pct</th>\n",
              "      <th>75_to_100k_2016_pct</th>\n",
              "      <th>100_to_150k_2016_pct</th>\n",
              "      <th>150_to_200k_2016_pct</th>\n",
              "      <th>over_200k_2016_pct</th>\n",
              "      <th>No_Diploma_pct</th>\n",
              "      <th>High_school_pct</th>\n",
              "      <th>Some_college_pct</th>\n",
              "      <th>Bachelors_Degree_pct</th>\n",
              "      <th>Graduate_Degree_pct</th>\n",
              "    </tr>\n",
              "  </thead>\n",
              "  <tbody>\n",
              "    <tr>\n",
              "      <th>count</th>\n",
              "      <td>33120.000000</td>\n",
              "      <td>33120.000000</td>\n",
              "      <td>33120.000000</td>\n",
              "      <td>32989.000000</td>\n",
              "      <td>32989.000000</td>\n",
              "      <td>32989.000000</td>\n",
              "      <td>32989.000000</td>\n",
              "      <td>32989.000000</td>\n",
              "      <td>32989.000000</td>\n",
              "      <td>32989.000000</td>\n",
              "      <td>33120.000000</td>\n",
              "      <td>33120.000000</td>\n",
              "      <td>3.312000e+04</td>\n",
              "      <td>32799.000000</td>\n",
              "      <td>32745.000000</td>\n",
              "      <td>32745.000000</td>\n",
              "      <td>32745.000000</td>\n",
              "      <td>32745.000000</td>\n",
              "      <td>32745.000000</td>\n",
              "      <td>32745.000000</td>\n",
              "      <td>32745.000000</td>\n",
              "      <td>32745.000000</td>\n",
              "      <td>32799.000000</td>\n",
              "      <td>32703.000000</td>\n",
              "      <td>32703.000000</td>\n",
              "      <td>32703.000000</td>\n",
              "      <td>32703.000000</td>\n",
              "      <td>32703.000000</td>\n",
              "      <td>32703.000000</td>\n",
              "      <td>32703.000000</td>\n",
              "      <td>32703.000000</td>\n",
              "      <td>32799.000000</td>\n",
              "      <td>32799.000000</td>\n",
              "      <td>32799.000000</td>\n",
              "      <td>32799.000000</td>\n",
              "      <td>32799.000000</td>\n",
              "      <td>32799.000000</td>\n",
              "      <td>32799.000000</td>\n",
              "      <td>32799.000000</td>\n",
              "      <td>32571.000000</td>\n",
              "      <td>...</td>\n",
              "      <td>25962.000000</td>\n",
              "      <td>21604.000000</td>\n",
              "      <td>21604.000000</td>\n",
              "      <td>32540.000000</td>\n",
              "      <td>32540.000000</td>\n",
              "      <td>21468.000000</td>\n",
              "      <td>21468.000000</td>\n",
              "      <td>21468.000000</td>\n",
              "      <td>21468.000000</td>\n",
              "      <td>21468.000000</td>\n",
              "      <td>21468.000000</td>\n",
              "      <td>32321.000000</td>\n",
              "      <td>32321.000000</td>\n",
              "      <td>32321.000000</td>\n",
              "      <td>32321.000000</td>\n",
              "      <td>32321.000000</td>\n",
              "      <td>32321.000000</td>\n",
              "      <td>32321.000000</td>\n",
              "      <td>32321.000000</td>\n",
              "      <td>32321.000000</td>\n",
              "      <td>32321.000000</td>\n",
              "      <td>32321.000000</td>\n",
              "      <td>32799.000000</td>\n",
              "      <td>32559.000000</td>\n",
              "      <td>32559.000000</td>\n",
              "      <td>23055.000000</td>\n",
              "      <td>23055.000000</td>\n",
              "      <td>23055.000000</td>\n",
              "      <td>23055.000000</td>\n",
              "      <td>23055.000000</td>\n",
              "      <td>23055.000000</td>\n",
              "      <td>23055.000000</td>\n",
              "      <td>23055.000000</td>\n",
              "      <td>23055.000000</td>\n",
              "      <td>23055.000000</td>\n",
              "      <td>32765.000000</td>\n",
              "      <td>32765.000000</td>\n",
              "      <td>32765.000000</td>\n",
              "      <td>32765.000000</td>\n",
              "      <td>32765.000000</td>\n",
              "    </tr>\n",
              "    <tr>\n",
              "      <th>mean</th>\n",
              "      <td>16559.500000</td>\n",
              "      <td>9724.409300</td>\n",
              "      <td>49666.334209</td>\n",
              "      <td>9298.151808</td>\n",
              "      <td>6073.192549</td>\n",
              "      <td>3224.959259</td>\n",
              "      <td>61.003031</td>\n",
              "      <td>2.476250</td>\n",
              "      <td>0.529843</td>\n",
              "      <td>57.996938</td>\n",
              "      <td>3591.535870</td>\n",
              "      <td>1460.150906</td>\n",
              "      <td>-4.036731e+07</td>\n",
              "      <td>0.502147</td>\n",
              "      <td>0.116908</td>\n",
              "      <td>0.130183</td>\n",
              "      <td>0.122360</td>\n",
              "      <td>0.114861</td>\n",
              "      <td>0.125128</td>\n",
              "      <td>0.151852</td>\n",
              "      <td>0.129827</td>\n",
              "      <td>0.108881</td>\n",
              "      <td>0.497853</td>\n",
              "      <td>0.111313</td>\n",
              "      <td>0.122054</td>\n",
              "      <td>0.113694</td>\n",
              "      <td>0.111732</td>\n",
              "      <td>0.124679</td>\n",
              "      <td>0.153525</td>\n",
              "      <td>0.132873</td>\n",
              "      <td>0.130130</td>\n",
              "      <td>0.837472</td>\n",
              "      <td>0.076902</td>\n",
              "      <td>0.017776</td>\n",
              "      <td>0.020870</td>\n",
              "      <td>0.001072</td>\n",
              "      <td>0.022186</td>\n",
              "      <td>0.023723</td>\n",
              "      <td>0.092698</td>\n",
              "      <td>0.873221</td>\n",
              "      <td>...</td>\n",
              "      <td>0.067440</td>\n",
              "      <td>0.268171</td>\n",
              "      <td>0.731829</td>\n",
              "      <td>0.728846</td>\n",
              "      <td>0.271154</td>\n",
              "      <td>0.775819</td>\n",
              "      <td>0.122267</td>\n",
              "      <td>0.048556</td>\n",
              "      <td>0.022749</td>\n",
              "      <td>0.022636</td>\n",
              "      <td>0.007974</td>\n",
              "      <td>0.541540</td>\n",
              "      <td>0.458460</td>\n",
              "      <td>0.042717</td>\n",
              "      <td>0.104887</td>\n",
              "      <td>0.092470</td>\n",
              "      <td>0.083044</td>\n",
              "      <td>0.095607</td>\n",
              "      <td>0.075109</td>\n",
              "      <td>0.027065</td>\n",
              "      <td>0.010366</td>\n",
              "      <td>0.010274</td>\n",
              "      <td>0.811712</td>\n",
              "      <td>0.713389</td>\n",
              "      <td>0.286611</td>\n",
              "      <td>0.143071</td>\n",
              "      <td>0.189944</td>\n",
              "      <td>0.115745</td>\n",
              "      <td>0.098504</td>\n",
              "      <td>0.082846</td>\n",
              "      <td>0.098562</td>\n",
              "      <td>0.107134</td>\n",
              "      <td>0.097093</td>\n",
              "      <td>0.034172</td>\n",
              "      <td>0.032929</td>\n",
              "      <td>0.010476</td>\n",
              "      <td>0.290389</td>\n",
              "      <td>0.232441</td>\n",
              "      <td>0.148160</td>\n",
              "      <td>0.084170</td>\n",
              "    </tr>\n",
              "    <tr>\n",
              "      <th>std</th>\n",
              "      <td>9561.064794</td>\n",
              "      <td>14358.657599</td>\n",
              "      <td>27564.925769</td>\n",
              "      <td>13855.431955</td>\n",
              "      <td>8730.614992</td>\n",
              "      <td>6313.579477</td>\n",
              "      <td>170.145836</td>\n",
              "      <td>21.042147</td>\n",
              "      <td>5.755175</td>\n",
              "      <td>164.081808</td>\n",
              "      <td>5166.208239</td>\n",
              "      <td>2194.848451</td>\n",
              "      <td>1.591133e+08</td>\n",
              "      <td>0.067328</td>\n",
              "      <td>0.064737</td>\n",
              "      <td>0.073723</td>\n",
              "      <td>0.082944</td>\n",
              "      <td>0.065031</td>\n",
              "      <td>0.063121</td>\n",
              "      <td>0.079273</td>\n",
              "      <td>0.084550</td>\n",
              "      <td>0.088059</td>\n",
              "      <td>0.067328</td>\n",
              "      <td>0.061186</td>\n",
              "      <td>0.073770</td>\n",
              "      <td>0.078289</td>\n",
              "      <td>0.060611</td>\n",
              "      <td>0.063031</td>\n",
              "      <td>0.079532</td>\n",
              "      <td>0.087294</td>\n",
              "      <td>0.087531</td>\n",
              "      <td>0.207960</td>\n",
              "      <td>0.159127</td>\n",
              "      <td>0.092161</td>\n",
              "      <td>0.053946</td>\n",
              "      <td>0.010115</td>\n",
              "      <td>0.055872</td>\n",
              "      <td>0.034959</td>\n",
              "      <td>0.167006</td>\n",
              "      <td>0.139833</td>\n",
              "      <td>...</td>\n",
              "      <td>0.139831</td>\n",
              "      <td>0.281627</td>\n",
              "      <td>0.281627</td>\n",
              "      <td>0.175033</td>\n",
              "      <td>0.175033</td>\n",
              "      <td>0.335789</td>\n",
              "      <td>0.232051</td>\n",
              "      <td>0.147293</td>\n",
              "      <td>0.100789</td>\n",
              "      <td>0.099764</td>\n",
              "      <td>0.058117</td>\n",
              "      <td>0.179372</td>\n",
              "      <td>0.179372</td>\n",
              "      <td>0.059360</td>\n",
              "      <td>0.104929</td>\n",
              "      <td>0.084478</td>\n",
              "      <td>0.079090</td>\n",
              "      <td>0.096321</td>\n",
              "      <td>0.104848</td>\n",
              "      <td>0.061266</td>\n",
              "      <td>0.034451</td>\n",
              "      <td>0.044138</td>\n",
              "      <td>0.073401</td>\n",
              "      <td>0.212074</td>\n",
              "      <td>0.212074</td>\n",
              "      <td>0.221319</td>\n",
              "      <td>0.243266</td>\n",
              "      <td>0.194304</td>\n",
              "      <td>0.179386</td>\n",
              "      <td>0.168417</td>\n",
              "      <td>0.180024</td>\n",
              "      <td>0.188002</td>\n",
              "      <td>0.176695</td>\n",
              "      <td>0.105539</td>\n",
              "      <td>0.109215</td>\n",
              "      <td>0.019820</td>\n",
              "      <td>0.119239</td>\n",
              "      <td>0.091032</td>\n",
              "      <td>0.099925</td>\n",
              "      <td>0.086035</td>\n",
              "    </tr>\n",
              "    <tr>\n",
              "      <th>min</th>\n",
              "      <td>0.000000</td>\n",
              "      <td>0.000000</td>\n",
              "      <td>601.000000</td>\n",
              "      <td>0.000000</td>\n",
              "      <td>0.000000</td>\n",
              "      <td>0.000000</td>\n",
              "      <td>0.000000</td>\n",
              "      <td>0.000000</td>\n",
              "      <td>0.000000</td>\n",
              "      <td>0.000000</td>\n",
              "      <td>0.000000</td>\n",
              "      <td>0.000000</td>\n",
              "      <td>-6.666667e+08</td>\n",
              "      <td>0.000000</td>\n",
              "      <td>0.000000</td>\n",
              "      <td>0.000000</td>\n",
              "      <td>0.000000</td>\n",
              "      <td>0.000000</td>\n",
              "      <td>0.000000</td>\n",
              "      <td>0.000000</td>\n",
              "      <td>0.000000</td>\n",
              "      <td>0.000000</td>\n",
              "      <td>0.000000</td>\n",
              "      <td>0.000000</td>\n",
              "      <td>0.000000</td>\n",
              "      <td>0.000000</td>\n",
              "      <td>0.000000</td>\n",
              "      <td>0.000000</td>\n",
              "      <td>0.000000</td>\n",
              "      <td>0.000000</td>\n",
              "      <td>0.000000</td>\n",
              "      <td>0.000000</td>\n",
              "      <td>0.000000</td>\n",
              "      <td>0.000000</td>\n",
              "      <td>0.000000</td>\n",
              "      <td>0.000000</td>\n",
              "      <td>0.000000</td>\n",
              "      <td>0.000000</td>\n",
              "      <td>0.000000</td>\n",
              "      <td>0.000000</td>\n",
              "      <td>...</td>\n",
              "      <td>0.000000</td>\n",
              "      <td>0.000000</td>\n",
              "      <td>0.000000</td>\n",
              "      <td>0.000000</td>\n",
              "      <td>0.000000</td>\n",
              "      <td>0.000000</td>\n",
              "      <td>0.000000</td>\n",
              "      <td>0.000000</td>\n",
              "      <td>0.000000</td>\n",
              "      <td>0.000000</td>\n",
              "      <td>0.000000</td>\n",
              "      <td>0.000000</td>\n",
              "      <td>0.000000</td>\n",
              "      <td>0.000000</td>\n",
              "      <td>0.000000</td>\n",
              "      <td>0.000000</td>\n",
              "      <td>0.000000</td>\n",
              "      <td>0.000000</td>\n",
              "      <td>0.000000</td>\n",
              "      <td>0.000000</td>\n",
              "      <td>0.000000</td>\n",
              "      <td>0.000000</td>\n",
              "      <td>0.197452</td>\n",
              "      <td>0.000000</td>\n",
              "      <td>0.000000</td>\n",
              "      <td>0.000000</td>\n",
              "      <td>0.000000</td>\n",
              "      <td>0.000000</td>\n",
              "      <td>0.000000</td>\n",
              "      <td>0.000000</td>\n",
              "      <td>0.000000</td>\n",
              "      <td>0.000000</td>\n",
              "      <td>0.000000</td>\n",
              "      <td>0.000000</td>\n",
              "      <td>0.000000</td>\n",
              "      <td>0.000000</td>\n",
              "      <td>0.000000</td>\n",
              "      <td>0.000000</td>\n",
              "      <td>0.000000</td>\n",
              "      <td>0.000000</td>\n",
              "    </tr>\n",
              "    <tr>\n",
              "      <th>25%</th>\n",
              "      <td>8279.750000</td>\n",
              "      <td>718.000000</td>\n",
              "      <td>26634.750000</td>\n",
              "      <td>667.000000</td>\n",
              "      <td>501.000000</td>\n",
              "      <td>121.000000</td>\n",
              "      <td>0.000000</td>\n",
              "      <td>0.000000</td>\n",
              "      <td>0.000000</td>\n",
              "      <td>0.000000</td>\n",
              "      <td>272.000000</td>\n",
              "      <td>90.000000</td>\n",
              "      <td>3.785700e+04</td>\n",
              "      <td>0.477735</td>\n",
              "      <td>0.083923</td>\n",
              "      <td>0.097222</td>\n",
              "      <td>0.080710</td>\n",
              "      <td>0.084352</td>\n",
              "      <td>0.099270</td>\n",
              "      <td>0.119072</td>\n",
              "      <td>0.089714</td>\n",
              "      <td>0.065574</td>\n",
              "      <td>0.481384</td>\n",
              "      <td>0.080262</td>\n",
              "      <td>0.090047</td>\n",
              "      <td>0.075000</td>\n",
              "      <td>0.084835</td>\n",
              "      <td>0.099711</td>\n",
              "      <td>0.120838</td>\n",
              "      <td>0.094264</td>\n",
              "      <td>0.084684</td>\n",
              "      <td>0.778273</td>\n",
              "      <td>0.000000</td>\n",
              "      <td>0.000000</td>\n",
              "      <td>0.000000</td>\n",
              "      <td>0.000000</td>\n",
              "      <td>0.000000</td>\n",
              "      <td>0.003837</td>\n",
              "      <td>0.006383</td>\n",
              "      <td>0.854124</td>\n",
              "      <td>...</td>\n",
              "      <td>0.000000</td>\n",
              "      <td>0.021622</td>\n",
              "      <td>0.605949</td>\n",
              "      <td>0.657911</td>\n",
              "      <td>0.157895</td>\n",
              "      <td>0.619456</td>\n",
              "      <td>0.000000</td>\n",
              "      <td>0.000000</td>\n",
              "      <td>0.000000</td>\n",
              "      <td>0.000000</td>\n",
              "      <td>0.000000</td>\n",
              "      <td>0.439856</td>\n",
              "      <td>0.332735</td>\n",
              "      <td>0.008130</td>\n",
              "      <td>0.015871</td>\n",
              "      <td>0.025253</td>\n",
              "      <td>0.023058</td>\n",
              "      <td>0.023712</td>\n",
              "      <td>0.002816</td>\n",
              "      <td>0.000000</td>\n",
              "      <td>0.000000</td>\n",
              "      <td>0.000000</td>\n",
              "      <td>0.773195</td>\n",
              "      <td>0.564519</td>\n",
              "      <td>0.106726</td>\n",
              "      <td>0.000000</td>\n",
              "      <td>0.000000</td>\n",
              "      <td>0.000000</td>\n",
              "      <td>0.000000</td>\n",
              "      <td>0.000000</td>\n",
              "      <td>0.000000</td>\n",
              "      <td>0.000000</td>\n",
              "      <td>0.000000</td>\n",
              "      <td>0.000000</td>\n",
              "      <td>0.000000</td>\n",
              "      <td>0.000000</td>\n",
              "      <td>0.218567</td>\n",
              "      <td>0.186317</td>\n",
              "      <td>0.081940</td>\n",
              "      <td>0.032538</td>\n",
              "    </tr>\n",
              "    <tr>\n",
              "      <th>50%</th>\n",
              "      <td>16559.500000</td>\n",
              "      <td>2807.500000</td>\n",
              "      <td>49739.000000</td>\n",
              "      <td>2645.000000</td>\n",
              "      <td>1984.000000</td>\n",
              "      <td>538.000000</td>\n",
              "      <td>0.000000</td>\n",
              "      <td>0.000000</td>\n",
              "      <td>0.000000</td>\n",
              "      <td>0.000000</td>\n",
              "      <td>1056.500000</td>\n",
              "      <td>416.000000</td>\n",
              "      <td>4.892900e+04</td>\n",
              "      <td>0.495817</td>\n",
              "      <td>0.118254</td>\n",
              "      <td>0.129915</td>\n",
              "      <td>0.114742</td>\n",
              "      <td>0.113608</td>\n",
              "      <td>0.125786</td>\n",
              "      <td>0.145367</td>\n",
              "      <td>0.117057</td>\n",
              "      <td>0.094118</td>\n",
              "      <td>0.504183</td>\n",
              "      <td>0.111111</td>\n",
              "      <td>0.119485</td>\n",
              "      <td>0.106849</td>\n",
              "      <td>0.111940</td>\n",
              "      <td>0.124237</td>\n",
              "      <td>0.146417</td>\n",
              "      <td>0.120169</td>\n",
              "      <td>0.118929</td>\n",
              "      <td>0.925033</td>\n",
              "      <td>0.009653</td>\n",
              "      <td>0.000999</td>\n",
              "      <td>0.003012</td>\n",
              "      <td>0.000000</td>\n",
              "      <td>0.002969</td>\n",
              "      <td>0.015827</td>\n",
              "      <td>0.029619</td>\n",
              "      <td>0.911184</td>\n",
              "      <td>...</td>\n",
              "      <td>0.000000</td>\n",
              "      <td>0.198195</td>\n",
              "      <td>0.801805</td>\n",
              "      <td>0.761304</td>\n",
              "      <td>0.238696</td>\n",
              "      <td>1.000000</td>\n",
              "      <td>0.000000</td>\n",
              "      <td>0.000000</td>\n",
              "      <td>0.000000</td>\n",
              "      <td>0.000000</td>\n",
              "      <td>0.000000</td>\n",
              "      <td>0.560135</td>\n",
              "      <td>0.439865</td>\n",
              "      <td>0.024240</td>\n",
              "      <td>0.085447</td>\n",
              "      <td>0.081019</td>\n",
              "      <td>0.070211</td>\n",
              "      <td>0.070594</td>\n",
              "      <td>0.033478</td>\n",
              "      <td>0.002245</td>\n",
              "      <td>0.000000</td>\n",
              "      <td>0.000000</td>\n",
              "      <td>0.806766</td>\n",
              "      <td>0.745946</td>\n",
              "      <td>0.254054</td>\n",
              "      <td>0.061100</td>\n",
              "      <td>0.125964</td>\n",
              "      <td>0.051672</td>\n",
              "      <td>0.032787</td>\n",
              "      <td>0.000000</td>\n",
              "      <td>0.033608</td>\n",
              "      <td>0.039894</td>\n",
              "      <td>0.018367</td>\n",
              "      <td>0.000000</td>\n",
              "      <td>0.000000</td>\n",
              "      <td>0.005961</td>\n",
              "      <td>0.288293</td>\n",
              "      <td>0.230056</td>\n",
              "      <td>0.127752</td>\n",
              "      <td>0.058981</td>\n",
              "    </tr>\n",
              "    <tr>\n",
              "      <th>75%</th>\n",
              "      <td>24839.250000</td>\n",
              "      <td>13177.750000</td>\n",
              "      <td>72123.500000</td>\n",
              "      <td>12484.000000</td>\n",
              "      <td>8334.000000</td>\n",
              "      <td>3206.000000</td>\n",
              "      <td>35.000000</td>\n",
              "      <td>0.000000</td>\n",
              "      <td>0.000000</td>\n",
              "      <td>33.000000</td>\n",
              "      <td>4952.250000</td>\n",
              "      <td>1950.250000</td>\n",
              "      <td>6.218800e+04</td>\n",
              "      <td>0.518616</td>\n",
              "      <td>0.148469</td>\n",
              "      <td>0.158449</td>\n",
              "      <td>0.149137</td>\n",
              "      <td>0.140687</td>\n",
              "      <td>0.148875</td>\n",
              "      <td>0.174603</td>\n",
              "      <td>0.151176</td>\n",
              "      <td>0.128990</td>\n",
              "      <td>0.522265</td>\n",
              "      <td>0.140061</td>\n",
              "      <td>0.147318</td>\n",
              "      <td>0.138663</td>\n",
              "      <td>0.136364</td>\n",
              "      <td>0.148001</td>\n",
              "      <td>0.175214</td>\n",
              "      <td>0.152249</td>\n",
              "      <td>0.157576</td>\n",
              "      <td>0.975949</td>\n",
              "      <td>0.065605</td>\n",
              "      <td>0.005585</td>\n",
              "      <td>0.016995</td>\n",
              "      <td>0.000000</td>\n",
              "      <td>0.018062</td>\n",
              "      <td>0.030951</td>\n",
              "      <td>0.091558</td>\n",
              "      <td>0.945314</td>\n",
              "      <td>...</td>\n",
              "      <td>0.080262</td>\n",
              "      <td>0.394051</td>\n",
              "      <td>0.978378</td>\n",
              "      <td>0.842105</td>\n",
              "      <td>0.342089</td>\n",
              "      <td>1.000000</td>\n",
              "      <td>0.156603</td>\n",
              "      <td>0.000000</td>\n",
              "      <td>0.000000</td>\n",
              "      <td>0.000000</td>\n",
              "      <td>0.000000</td>\n",
              "      <td>0.667265</td>\n",
              "      <td>0.560144</td>\n",
              "      <td>0.057196</td>\n",
              "      <td>0.161804</td>\n",
              "      <td>0.137235</td>\n",
              "      <td>0.122924</td>\n",
              "      <td>0.141313</td>\n",
              "      <td>0.099523</td>\n",
              "      <td>0.021222</td>\n",
              "      <td>0.004199</td>\n",
              "      <td>0.003573</td>\n",
              "      <td>0.844117</td>\n",
              "      <td>0.893274</td>\n",
              "      <td>0.435481</td>\n",
              "      <td>0.187500</td>\n",
              "      <td>0.262835</td>\n",
              "      <td>0.144282</td>\n",
              "      <td>0.120155</td>\n",
              "      <td>0.096070</td>\n",
              "      <td>0.119956</td>\n",
              "      <td>0.133992</td>\n",
              "      <td>0.125463</td>\n",
              "      <td>0.022970</td>\n",
              "      <td>0.011533</td>\n",
              "      <td>0.013532</td>\n",
              "      <td>0.357277</td>\n",
              "      <td>0.273011</td>\n",
              "      <td>0.196078</td>\n",
              "      <td>0.106354</td>\n",
              "    </tr>\n",
              "    <tr>\n",
              "      <th>max</th>\n",
              "      <td>33119.000000</td>\n",
              "      <td>115104.000000</td>\n",
              "      <td>99929.000000</td>\n",
              "      <td>113403.000000</td>\n",
              "      <td>81331.000000</td>\n",
              "      <td>87101.000000</td>\n",
              "      <td>3661.000000</td>\n",
              "      <td>1205.000000</td>\n",
              "      <td>292.000000</td>\n",
              "      <td>3661.000000</td>\n",
              "      <td>42783.000000</td>\n",
              "      <td>19340.000000</td>\n",
              "      <td>2.500010e+05</td>\n",
              "      <td>1.000000</td>\n",
              "      <td>1.000000</td>\n",
              "      <td>1.000000</td>\n",
              "      <td>1.000000</td>\n",
              "      <td>1.000000</td>\n",
              "      <td>1.000000</td>\n",
              "      <td>1.000000</td>\n",
              "      <td>1.000000</td>\n",
              "      <td>1.000000</td>\n",
              "      <td>1.000000</td>\n",
              "      <td>0.687500</td>\n",
              "      <td>1.000000</td>\n",
              "      <td>1.000000</td>\n",
              "      <td>1.000000</td>\n",
              "      <td>1.000000</td>\n",
              "      <td>1.000000</td>\n",
              "      <td>1.000000</td>\n",
              "      <td>1.000000</td>\n",
              "      <td>1.000000</td>\n",
              "      <td>1.000000</td>\n",
              "      <td>1.000000</td>\n",
              "      <td>0.857143</td>\n",
              "      <td>0.728530</td>\n",
              "      <td>1.000000</td>\n",
              "      <td>1.000000</td>\n",
              "      <td>1.000000</td>\n",
              "      <td>1.000000</td>\n",
              "      <td>...</td>\n",
              "      <td>1.000000</td>\n",
              "      <td>1.000000</td>\n",
              "      <td>1.000000</td>\n",
              "      <td>1.000000</td>\n",
              "      <td>1.000000</td>\n",
              "      <td>1.000000</td>\n",
              "      <td>1.000000</td>\n",
              "      <td>1.000000</td>\n",
              "      <td>1.000000</td>\n",
              "      <td>1.000000</td>\n",
              "      <td>1.000000</td>\n",
              "      <td>1.000000</td>\n",
              "      <td>1.000000</td>\n",
              "      <td>1.000000</td>\n",
              "      <td>1.000000</td>\n",
              "      <td>1.000000</td>\n",
              "      <td>1.000000</td>\n",
              "      <td>1.000000</td>\n",
              "      <td>1.000000</td>\n",
              "      <td>1.000000</td>\n",
              "      <td>1.000000</td>\n",
              "      <td>1.000000</td>\n",
              "      <td>1.000000</td>\n",
              "      <td>1.000000</td>\n",
              "      <td>1.000000</td>\n",
              "      <td>1.000000</td>\n",
              "      <td>1.000000</td>\n",
              "      <td>1.000000</td>\n",
              "      <td>1.000000</td>\n",
              "      <td>1.000000</td>\n",
              "      <td>1.000000</td>\n",
              "      <td>1.000000</td>\n",
              "      <td>1.000000</td>\n",
              "      <td>1.000000</td>\n",
              "      <td>1.000000</td>\n",
              "      <td>1.000000</td>\n",
              "      <td>1.000000</td>\n",
              "      <td>1.000000</td>\n",
              "      <td>1.000000</td>\n",
              "      <td>1.000000</td>\n",
              "    </tr>\n",
              "  </tbody>\n",
              "</table>\n",
              "<p>8 rows × 134 columns</p>\n",
              "</div>"
            ],
            "text/plain": [
              "         Unnamed: 0     Population  ...  Bachelors_Degree_pct  Graduate_Degree_pct\n",
              "count  33120.000000  33120.000000   ...  32765.000000          32765.000000       \n",
              "mean   16559.500000  9724.409300    ...  0.148160              0.084170           \n",
              "std    9561.064794   14358.657599   ...  0.099925              0.086035           \n",
              "min    0.000000      0.000000       ...  0.000000              0.000000           \n",
              "25%    8279.750000   718.000000     ...  0.081940              0.032538           \n",
              "50%    16559.500000  2807.500000    ...  0.127752              0.058981           \n",
              "75%    24839.250000  13177.750000   ...  0.196078              0.106354           \n",
              "max    33119.000000  115104.000000  ...  1.000000              1.000000           \n",
              "\n",
              "[8 rows x 134 columns]"
            ]
          },
          "metadata": {
            "tags": []
          },
          "execution_count": 72
        }
      ]
    },
    {
      "cell_type": "markdown",
      "metadata": {
        "id": "hmutIaUvrZPU"
      },
      "source": [
        "# Loan Acceptance Data Cleaning\n",
        "\n",
        "In this section we describe basic operations for cleaning our dataset.\n"
      ]
    },
    {
      "cell_type": "code",
      "metadata": {
        "id": "IPNBkQAPrZPa"
      },
      "source": [
        "df_loan_accepted_cleaned = df_loan_accepted.copy()"
      ],
      "execution_count": 73,
      "outputs": []
    },
    {
      "cell_type": "markdown",
      "metadata": {
        "id": "zkR7FbucrZPi"
      },
      "source": [
        "### Remove index column"
      ]
    },
    {
      "cell_type": "code",
      "metadata": {
        "id": "fgGAugh2rZPk"
      },
      "source": [
        "df_loan_accepted_cleaned.drop(columns=['Unnamed: 0'], inplace=True)"
      ],
      "execution_count": 74,
      "outputs": []
    },
    {
      "cell_type": "markdown",
      "metadata": {
        "id": "WW56eBd3rZP0"
      },
      "source": [
        "### Remove columns with a constant value"
      ]
    },
    {
      "cell_type": "code",
      "metadata": {
        "id": "NLbnW5u6rZP4",
        "colab": {
          "base_uri": "https://localhost:8080/"
        },
        "outputId": "96fd5656-135c-418e-8abd-8c8ad980e444"
      },
      "source": [
        "cols_unique = list(df_loan_accepted_cleaned.columns[df_loan_accepted_cleaned.nunique()==1])\n",
        "print('The following features with constant value were removed', cols_unique)\n",
        "df_loan_accepted_cleaned.drop(cols_unique, axis=1, inplace=True)\n",
        "print('{} features left, out of {} in the original dataset'.format(df_loan_accepted_cleaned.shape[1], df_loan_accepted.shape[1]))"
      ],
      "execution_count": 75,
      "outputs": [
        {
          "output_type": "stream",
          "text": [
            "The following features with constant value were removed ['policy_code', 'hardship_type', 'deferral_term', 'hardship_length']\n",
            "147 features left, out of 152 in the original dataset\n"
          ],
          "name": "stdout"
        }
      ]
    },
    {
      "cell_type": "markdown",
      "metadata": {
        "id": "dE9uVdPfrZQQ"
      },
      "source": [
        "### Remove columns associated with over 90% missing values"
      ]
    },
    {
      "cell_type": "code",
      "metadata": {
        "id": "K3cMzOverZQS",
        "colab": {
          "base_uri": "https://localhost:8080/"
        },
        "outputId": "23ce77ae-4e1e-49d2-80d1-bc1b7883a5d5"
      },
      "source": [
        "df_missing = (df_loan_accepted_cleaned.isnull().sum()/df_loan_accepted_cleaned.shape[0]).to_frame('perc_missing').reset_index()\n",
        "cols_missing = list(df_missing[df_missing.perc_missing>0.9]['index'])\n",
        "print('The following features with over 90% missing values were removed.')\n",
        "print(df_missing[df_missing.perc_missing>0.9])\n",
        "df_loan_accepted_cleaned.drop(cols_missing, axis=1, inplace=True)\n",
        "print('')\n",
        "print('{} features left, out of {} in the original dataset'.format(df_loan_accepted_cleaned.shape[1], df_loan_accepted.shape[1]))"
      ],
      "execution_count": 76,
      "outputs": [
        {
          "output_type": "stream",
          "text": [
            "The following features with over 90% missing values were removed.\n",
            "                                          index  perc_missing\n",
            "1    member_id                                   1.000000    \n",
            "19   desc                                        1.000000    \n",
            "56   annual_inc_joint                            0.946989    \n",
            "57   dti_joint                                   0.946989    \n",
            "58   verification_status_joint                   0.949205    \n",
            "114  revol_bal_joint                             1.000000    \n",
            "115  sec_app_fico_range_low                      1.000000    \n",
            "116  sec_app_fico_range_high                     1.000000    \n",
            "117  sec_app_earliest_cr_line                    1.000000    \n",
            "118  sec_app_inq_last_6mths                      1.000000    \n",
            "119  sec_app_mort_acc                            1.000000    \n",
            "120  sec_app_open_acc                            1.000000    \n",
            "121  sec_app_revol_util                          1.000000    \n",
            "122  sec_app_open_act_il                         1.000000    \n",
            "123  sec_app_num_rev_accts                       1.000000    \n",
            "124  sec_app_chargeoff_within_12_mths            1.000000    \n",
            "125  sec_app_collections_12_mths_ex_med          1.000000    \n",
            "126  sec_app_mths_since_last_major_derog         1.000000    \n",
            "128  hardship_reason                             0.995258    \n",
            "129  hardship_status                             0.995258    \n",
            "130  hardship_amount                             0.995258    \n",
            "131  hardship_start_date                         0.995258    \n",
            "132  hardship_end_date                           0.995258    \n",
            "133  payment_plan_start_date                     0.995258    \n",
            "134  hardship_dpd                                0.995258    \n",
            "135  hardship_loan_status                        0.995258    \n",
            "136  orig_projected_additional_accrued_interest  0.996275    \n",
            "137  hardship_payoff_balance_amount              0.995258    \n",
            "138  hardship_last_payment_amount                0.995258    \n",
            "141  debt_settlement_flag_date                   0.984624    \n",
            "142  settlement_status                           0.984624    \n",
            "143  settlement_date                             0.984624    \n",
            "144  settlement_amount                           0.984624    \n",
            "145  settlement_percentage                       0.984624    \n",
            "146  settlement_term                             0.984624    \n",
            "\n",
            "112 features left, out of 152 in the original dataset\n"
          ],
          "name": "stdout"
        }
      ]
    },
    {
      "cell_type": "markdown",
      "metadata": {
        "id": "FLiAWJVzrZQY"
      },
      "source": [
        "### Remove duplicate rows"
      ]
    },
    {
      "cell_type": "code",
      "metadata": {
        "id": "hWYg-AlgrZQe",
        "colab": {
          "base_uri": "https://localhost:8080/"
        },
        "outputId": "c30d8fb3-d821-497d-bb6e-56a396d84800"
      },
      "source": [
        "orig_rows_count = df_loan_accepted_cleaned.shape[0]\n",
        "df_loan_accepted_cleaned.drop_duplicates(inplace=True)\n",
        "print(\"{} duplicated rows were removed.\".format(orig_rows_count-df_loan_accepted_cleaned.shape[0]))"
      ],
      "execution_count": 77,
      "outputs": [
        {
          "output_type": "stream",
          "text": [
            "0 duplicated rows were removed.\n"
          ],
          "name": "stdout"
        }
      ]
    },
    {
      "cell_type": "markdown",
      "metadata": {
        "id": "1BRIdH2srZQy"
      },
      "source": [
        "### Remove empty rows"
      ]
    },
    {
      "cell_type": "code",
      "metadata": {
        "id": "tBq_oSi5rZQ2",
        "colab": {
          "base_uri": "https://localhost:8080/"
        },
        "outputId": "e0f1e9dc-bad4-46aa-9285-a2112b52b200"
      },
      "source": [
        "orig_rows_count = df_loan_accepted_cleaned.shape[0]\n",
        "df_loan_accepted_cleaned.dropna(inplace=True, how='all')\n",
        "print(\"{} empty rows were removed.\".format(orig_rows_count-df_loan_accepted_cleaned.shape[0]))"
      ],
      "execution_count": 78,
      "outputs": [
        {
          "output_type": "stream",
          "text": [
            "0 empty rows were removed.\n"
          ],
          "name": "stdout"
        }
      ]
    },
    {
      "cell_type": "markdown",
      "metadata": {
        "id": "-EBmOSP0rZRE"
      },
      "source": [
        "# More Data Cleaning"
      ]
    },
    {
      "cell_type": "markdown",
      "metadata": {
        "id": "3AGKZwwjrZRG"
      },
      "source": [
        "## Variables Groups\n",
        "\n",
        "We divide the columns in the following groups:\n",
        "\n",
        "- **loan data**: information about the loan at the moment when it was requested\n",
        "- **loan followup**: information about the loan's followup throughout its term\n",
        "- **borrower demographics**: information about the borrower\n",
        "- **borrower financial profile**: financial background of the borrower at the moment when he requested the loan\n",
        "- **borrower financial profile followup**: changes in financial profile of the borrower throughout the loan term"
      ]
    },
    {
      "cell_type": "code",
      "metadata": {
        "id": "eO4WRMq7rZRK"
      },
      "source": [
        "cols_loan_data = ['loan_amnt','funded_amnt','funded_amnt_inv','term','int_rate','installment','grade','sub_grade','issue_d','loan_status','purpose','title','initial_list_status','application_type','disbursement_method']\n",
        "cols_loan_followup = ['out_prncp','out_prncp_inv','total_pymnt','total_pymnt_inv','total_rec_prncp','total_rec_int','total_rec_late_fee','recoveries','collection_recovery_fee','last_pymnt_d','last_pymnt_amnt','next_pymnt_d','debt_settlement_flag','pymnt_plan']\n",
        "cols_borrower_demographics = ['emp_title','emp_length','home_ownership','annual_inc','verification_status', 'zip_code','addr_state']\n",
        "cols_borrower_finance_profile = ['dti','delinq_2yrs','earliest_cr_line','inq_last_6mths','mths_since_last_delinq','mths_since_last_record','open_acc','pub_rec','revol_bal','revol_util','total_acc','tot_coll_amt','mort_acc','num_bc_sats','num_bc_tl','num_il_tl','num_op_rev_tl','num_rev_accts','num_rev_tl_bal_gt_0','num_sats','pct_tl_nvr_dlq','percent_bc_gt_75','pub_rec_bankruptcies','tax_liens','tot_hi_cred_lim','total_bal_ex_mort','total_bc_limit','total_il_high_credit_limit','hardship_flag']\n",
        "cols_borrower_finance_profile_followup = ['last_credit_pull_d','collections_12_mths_ex_med','mths_since_last_major_derog','acc_now_delinq','tot_cur_bal','open_acc_6m','open_act_il','open_il_12m','open_il_24m','mths_since_rcnt_il','total_bal_il','il_util','open_rv_12m','open_rv_24m','max_bal_bc','all_util','total_rev_hi_lim','inq_fi','total_cu_tl','inq_last_12m','acc_open_past_24mths','avg_cur_bal','bc_open_to_buy','bc_util','chargeoff_within_12_mths','delinq_amnt','mo_sin_old_il_acct','mo_sin_old_rev_tl_op','mo_sin_rcnt_rev_tl_op','mo_sin_rcnt_tl','mths_since_recent_bc','mths_since_recent_bc_dlq','mths_since_recent_inq','mths_since_recent_revol_delinq','num_accts_ever_120_pd','num_actv_bc_tl','num_actv_rev_tl','num_tl_120dpd_2m','num_tl_30dpd','num_tl_90g_dpd_24m','num_tl_op_past_12m']"
      ],
      "execution_count": 79,
      "outputs": []
    },
    {
      "cell_type": "markdown",
      "metadata": {
        "id": "Q0Ylr2p9rZRQ"
      },
      "source": [
        "## Loan Data\n",
        "\n",
        "In this section we manually clean-up come features describing the resquest of loan by borrowers."
      ]
    },
    {
      "cell_type": "markdown",
      "metadata": {
        "id": "IKrxiu6hrZRS"
      },
      "source": [
        "**Issue date**"
      ]
    },
    {
      "cell_type": "markdown",
      "metadata": {
        "id": "Fwjvkf6grZRU"
      },
      "source": [
        "Let's convert the loan's issue date into a datatime type and add month and quarter."
      ]
    },
    {
      "cell_type": "code",
      "metadata": {
        "id": "feGdMLSLrZRW"
      },
      "source": [
        "df_loan_accepted_cleaned['issue_q'] = pd.to_datetime(df_loan_accepted_cleaned.issue_d, format='%b-%Y').dt.to_period('Q')\n",
        "df_loan_accepted_cleaned['issue_m'] = df_loan_accepted_cleaned.issue_d.str.replace(r'-\\d+', '')"
      ],
      "execution_count": 80,
      "outputs": []
    },
    {
      "cell_type": "markdown",
      "metadata": {
        "id": "gTqZpeGjrZRk"
      },
      "source": [
        "**Loan status**"
      ]
    },
    {
      "cell_type": "markdown",
      "metadata": {
        "id": "sAnrrXmQrZRk"
      },
      "source": [
        "Delinquency happens when a borrower fails to pay the minimum amount for an outstanding debt. In the countplot below we can see the amount of loans that incurred in any stage of delinquency, according to the definitions used by Lending Club.\n",
        "\n",
        "    Charged Off — defaulted loans for which there is no expectation from the lender in recovering the debt\n",
        "    Default — borrower has failed to pay his obligations for more than 120 days\n",
        "    Late — borrower has failed to pay his obligations for 31 to 120 days\n",
        "    Grace Period — borrower still has time to pay his obligations without being considered delinquent\n",
        "    Late — payment is late by 16 to 30 days\n",
        "    \n",
        "The count of loans within each stage is given below."
      ]
    },
    {
      "cell_type": "code",
      "metadata": {
        "id": "ZQEDmSJyrZRm",
        "colab": {
          "base_uri": "https://localhost:8080/"
        },
        "outputId": "df1df41c-41b1-4476-a93c-55a0ec07eae1"
      },
      "source": [
        "df_loan_accepted_cleaned.loan_status.value_counts()"
      ],
      "execution_count": 81,
      "outputs": [
        {
          "output_type": "execute_result",
          "data": {
            "text/plain": [
              "Fully Paid                                             107737\n",
              "Current                                                87796 \n",
              "Charged Off                                            26761 \n",
              "Late (31-120 days)                                     2210  \n",
              "In Grace Period                                        843   \n",
              "Late (16-30 days)                                      442   \n",
              "Does not meet the credit policy. Status:Fully Paid     213   \n",
              "Does not meet the credit policy. Status:Charged Off    63    \n",
              "Default                                                1     \n",
              "Name: loan_status, dtype: int64"
            ]
          },
          "metadata": {
            "tags": []
          },
          "execution_count": 81
        }
      ]
    },
    {
      "cell_type": "markdown",
      "metadata": {
        "id": "p87CCqwbrZRs"
      },
      "source": [
        "Very few old loans have the status 'Does not meet the credit policy' and will not be considered in our project."
      ]
    },
    {
      "cell_type": "code",
      "metadata": {
        "id": "drpWXOyjrZRw"
      },
      "source": [
        "df_loan_accepted_cleaned.drop(df_loan_accepted_cleaned[df_loan_accepted_cleaned.loan_status=='Does not meet the credit policy. Status:Fully Paid'].index, inplace=True)\n",
        "df_loan_accepted_cleaned.drop(df_loan_accepted_cleaned[df_loan_accepted_cleaned.loan_status=='Does not meet the credit policy. Status:Charged Off'].index, inplace=True)"
      ],
      "execution_count": 82,
      "outputs": []
    },
    {
      "cell_type": "markdown",
      "metadata": {
        "id": "3BofA7t4rZR4"
      },
      "source": [
        "We add a new feature for successfully paid loans."
      ]
    },
    {
      "cell_type": "code",
      "metadata": {
        "id": "izMM2EI6rZR-"
      },
      "source": [
        "df_loan_accepted_cleaned['success'] = df_loan_accepted_cleaned['loan_status']\n",
        "df_loan_accepted_cleaned.replace({'success':{'Charged Off': 0,\n",
        "                                             'Fully Paid': 1, \n",
        "                                             'Current': 2, \n",
        "                                             'In Grace Period': 3,\n",
        "                                             'Late (16-30 days)': 4,\n",
        "                                             'Late (31-120 days)': 5,\n",
        "                                             'Default': 6 }}, inplace=True)\n",
        "df_loan_accepted_cleaned['success'] = df_loan_accepted_cleaned['success'].astype('int')"
      ],
      "execution_count": 83,
      "outputs": []
    },
    {
      "cell_type": "markdown",
      "metadata": {
        "id": "rmRWPUq0rZSG"
      },
      "source": [
        "**Term and interest rate**\n",
        "\n",
        "We turn the term and interest rate into numbers."
      ]
    },
    {
      "cell_type": "code",
      "metadata": {
        "id": "FraXWbPKrZSI",
        "colab": {
          "base_uri": "https://localhost:8080/"
        },
        "outputId": "ce311f1f-d6cb-4c0f-f895-d73e723c70aa"
      },
      "source": [
        "df_loan_accepted_cleaned.term.unique()"
      ],
      "execution_count": 84,
      "outputs": [
        {
          "output_type": "execute_result",
          "data": {
            "text/plain": [
              "array(['36 months', '60 months'], dtype=object)"
            ]
          },
          "metadata": {
            "tags": []
          },
          "execution_count": 84
        }
      ]
    },
    {
      "cell_type": "code",
      "metadata": {
        "id": "6fCHESYhrZSQ"
      },
      "source": [
        "df_loan_accepted_cleaned.term.replace(' 36 months', 36, inplace=True)\n",
        "df_loan_accepted_cleaned.term.replace(' 60 months', 60, inplace=True)\n",
        "#df_loan_accepted_cleaned.term = df_loan_accepted_cleaned.term.astype('int')"
      ],
      "execution_count": 85,
      "outputs": []
    },
    {
      "cell_type": "code",
      "metadata": {
        "id": "eor7mIFTrZSW",
        "colab": {
          "base_uri": "https://localhost:8080/"
        },
        "outputId": "f6c68094-b5d8-4a05-e72b-ffee3aadb5c1"
      },
      "source": [
        "df_loan_accepted_cleaned.term.unique()"
      ],
      "execution_count": 86,
      "outputs": [
        {
          "output_type": "execute_result",
          "data": {
            "text/plain": [
              "array(['36 months', '60 months'], dtype=object)"
            ]
          },
          "metadata": {
            "tags": []
          },
          "execution_count": 86
        }
      ]
    },
    {
      "cell_type": "code",
      "metadata": {
        "id": "L1pPL0JdrZSo",
        "colab": {
          "base_uri": "https://localhost:8080/"
        },
        "outputId": "6646542b-81fe-40ee-8c2a-f5ade690a92c"
      },
      "source": [
        "df_loan_accepted_cleaned.int_rate.head()"
      ],
      "execution_count": 87,
      "outputs": [
        {
          "output_type": "execute_result",
          "data": {
            "text/plain": [
              "0    13.59\n",
              "1    17.97\n",
              "2    13.59\n",
              "3    12.74\n",
              "4    19.99\n",
              "Name: int_rate, dtype: float64"
            ]
          },
          "metadata": {
            "tags": []
          },
          "execution_count": 87
        }
      ]
    },
    {
      "cell_type": "code",
      "metadata": {
        "id": "vN0fJuS3rZSu"
      },
      "source": [
        "#df_loan_accepted_cleaned.int_rate = df_loan_accepted_cleaned.int_rate.str[:-1]\n",
        "df_loan_accepted_cleaned.int_rate = df_loan_accepted_cleaned.int_rate.astype('float32')"
      ],
      "execution_count": 88,
      "outputs": []
    },
    {
      "cell_type": "code",
      "metadata": {
        "id": "mewB8Qi6rZS0",
        "colab": {
          "base_uri": "https://localhost:8080/"
        },
        "outputId": "93afa41a-ad93-49d9-e28a-6021aa5083d3"
      },
      "source": [
        "df_loan_accepted_cleaned.int_rate.head()"
      ],
      "execution_count": 89,
      "outputs": [
        {
          "output_type": "execute_result",
          "data": {
            "text/plain": [
              "0    13.590000\n",
              "1    17.969999\n",
              "2    13.590000\n",
              "3    12.740000\n",
              "4    19.990000\n",
              "Name: int_rate, dtype: float32"
            ]
          },
          "metadata": {
            "tags": []
          },
          "execution_count": 89
        }
      ]
    },
    {
      "cell_type": "markdown",
      "metadata": {
        "id": "fTzo0tV9rZS6"
      },
      "source": [
        "**Loan amounts**"
      ]
    },
    {
      "cell_type": "markdown",
      "metadata": {
        "id": "rJFs3LTOrZS8"
      },
      "source": [
        "We will transform the amounts into integers"
      ]
    },
    {
      "cell_type": "code",
      "metadata": {
        "id": "mDovz6jRrZS8"
      },
      "source": [
        "df_loan_accepted_cleaned.loan_amnt = df_loan_accepted_cleaned.loan_amnt.astype('int')"
      ],
      "execution_count": 90,
      "outputs": []
    },
    {
      "cell_type": "markdown",
      "metadata": {
        "id": "93q9c8HJrZTC"
      },
      "source": [
        "We will drop rows where `loan_amnt`, `funded_amnt`, `funded_amnt_inv` or `installment` is missing. We transform the amounts into integers."
      ]
    },
    {
      "cell_type": "code",
      "metadata": {
        "id": "9ZTBhC6DrZTC"
      },
      "source": [
        "df_loan_accepted_cleaned = df_loan_accepted_cleaned[df_loan_accepted_cleaned.loan_amnt.notnull() &\n",
        "                                                    df_loan_accepted_cleaned.funded_amnt.notnull() & \n",
        "                                                    df_loan_accepted_cleaned.funded_amnt_inv.notnull() & \n",
        "                                                    df_loan_accepted_cleaned.installment.notnull()]"
      ],
      "execution_count": 91,
      "outputs": []
    },
    {
      "cell_type": "code",
      "metadata": {
        "id": "441aRbNnrZTG"
      },
      "source": [
        "df_loan_accepted_cleaned.funded_amnt_inv = df_loan_accepted_cleaned.loan_amnt.astype('int')"
      ],
      "execution_count": 92,
      "outputs": []
    },
    {
      "cell_type": "markdown",
      "metadata": {
        "id": "ynE1lVB8rZTK"
      },
      "source": [
        "**Title**"
      ]
    },
    {
      "cell_type": "markdown",
      "metadata": {
        "id": "I1iamW3krZTK"
      },
      "source": [
        "We will replace missing `title` values with NA for not available."
      ]
    },
    {
      "cell_type": "code",
      "metadata": {
        "id": "FKqRipzCrZTM"
      },
      "source": [
        "df_loan_accepted_cleaned.replace({'title': {np.nan: 'N/A'}}, inplace=True)"
      ],
      "execution_count": 93,
      "outputs": []
    },
    {
      "cell_type": "markdown",
      "metadata": {
        "id": "lBAwsh9qrZTS"
      },
      "source": [
        "There are thousands of distinct titles entered by borrowers for their loan."
      ]
    },
    {
      "cell_type": "code",
      "metadata": {
        "id": "izA-9P4WrZTU",
        "colab": {
          "base_uri": "https://localhost:8080/"
        },
        "outputId": "07b8ce21-f0f7-4cb5-dc2c-036f1f6d80db"
      },
      "source": [
        "df_loan_accepted_cleaned.title.unique().shape"
      ],
      "execution_count": 94,
      "outputs": [
        {
          "output_type": "execute_result",
          "data": {
            "text/plain": [
              "(8526,)"
            ]
          },
          "metadata": {
            "tags": []
          },
          "execution_count": 94
        }
      ]
    },
    {
      "cell_type": "markdown",
      "metadata": {
        "id": "1CYcVYNsrZTY"
      },
      "source": [
        " We will prepare the titles for natural language features extration."
      ]
    },
    {
      "cell_type": "code",
      "metadata": {
        "id": "VEZiUpXPrZTa"
      },
      "source": [
        "def clean_text(text):\n",
        "    #https://www.analyticsvidhya.com/blog/2018/02/the-different-methods-deal-text-data-predictive-python/\n",
        "    # lower case\n",
        "    text = text.apply(lambda x: \" \".join(x.lower() for x in x.split()))\n",
        "    # remove punctuation\n",
        "    text = text.str.replace('[^\\w\\s]','') \n",
        "    # remove stop words\n",
        "    from nltk.corpus import stopwords\n",
        "    stop = stopwords.words('english')\n",
        "    text = text.apply(lambda x: \" \".join(x for x in x.split() if x not in stop))\n",
        "    # correct spelling\n",
        "    #from textblob import TextBlob\n",
        "    #text = text.apply(lambda x: str(TextBlob(x).correct()))\n",
        "    # lemmatization \n",
        "    from textblob import Word\n",
        "    text = text.apply(lambda x: \" \".join([Word(word).lemmatize() for word in x.split()]))\n",
        "    return text"
      ],
      "execution_count": 95,
      "outputs": []
    },
    {
      "cell_type": "code",
      "metadata": {
        "id": "DyLdZIaQrZTk"
      },
      "source": [
        "df_loan_accepted_cleaned.title = clean_text(df_loan_accepted_cleaned.title)"
      ],
      "execution_count": 96,
      "outputs": []
    },
    {
      "cell_type": "code",
      "metadata": {
        "id": "gZ49zQjrrZTq",
        "colab": {
          "base_uri": "https://localhost:8080/"
        },
        "outputId": "5f8b3958-836b-41e3-b67e-a1a075042e09"
      },
      "source": [
        "df_loan_accepted_cleaned.title.unique()"
      ],
      "execution_count": 97,
      "outputs": [
        {
          "output_type": "execute_result",
          "data": {
            "text/plain": [
              "array(['debt consolidation', 'credit card refinancing', 'business', ...,\n",
              "       'pay credit card medical bill', 'better future',\n",
              "       'well fargo payoff'], dtype=object)"
            ]
          },
          "metadata": {
            "tags": []
          },
          "execution_count": 97
        }
      ]
    },
    {
      "cell_type": "markdown",
      "metadata": {
        "id": "nR54QvC9rZTw"
      },
      "source": [
        "**Miscellenous**"
      ]
    },
    {
      "cell_type": "markdown",
      "metadata": {
        "id": "b4hWi6dXrZT2"
      },
      "source": [
        "The columns `initial_list_status`,`application_type`,`disbursement_method` describe two categories each, one of them being largely dominant."
      ]
    },
    {
      "cell_type": "code",
      "metadata": {
        "id": "bo2tVyk0rZT2",
        "colab": {
          "base_uri": "https://localhost:8080/"
        },
        "outputId": "0eede3c6-4054-4597-fd1d-d0139f837755"
      },
      "source": [
        "df_loan_accepted_cleaned.initial_list_status.value_counts()"
      ],
      "execution_count": 98,
      "outputs": [
        {
          "output_type": "execute_result",
          "data": {
            "text/plain": [
              "w    153564\n",
              "f    72226 \n",
              "Name: initial_list_status, dtype: int64"
            ]
          },
          "metadata": {
            "tags": []
          },
          "execution_count": 98
        }
      ]
    },
    {
      "cell_type": "code",
      "metadata": {
        "id": "j0gM9B1DrZUI",
        "colab": {
          "base_uri": "https://localhost:8080/"
        },
        "outputId": "2c4302e5-d0f0-4011-f51d-3fd2f0a77bbf"
      },
      "source": [
        "df_loan_accepted_cleaned.application_type.value_counts()"
      ],
      "execution_count": 99,
      "outputs": [
        {
          "output_type": "execute_result",
          "data": {
            "text/plain": [
              "Individual    213806\n",
              "Joint App     11984 \n",
              "Name: application_type, dtype: int64"
            ]
          },
          "metadata": {
            "tags": []
          },
          "execution_count": 99
        }
      ]
    },
    {
      "cell_type": "code",
      "metadata": {
        "id": "9ueAZXr6rZUU",
        "colab": {
          "base_uri": "https://localhost:8080/"
        },
        "outputId": "2e7a9a75-06c5-4c4e-e910-ffad63853a84"
      },
      "source": [
        "df_loan_accepted_cleaned.disbursement_method.value_counts()"
      ],
      "execution_count": 100,
      "outputs": [
        {
          "output_type": "execute_result",
          "data": {
            "text/plain": [
              "Cash         218059\n",
              "DirectPay    7731  \n",
              "Name: disbursement_method, dtype: int64"
            ]
          },
          "metadata": {
            "tags": []
          },
          "execution_count": 100
        }
      ]
    },
    {
      "cell_type": "markdown",
      "metadata": {
        "id": "giZ-pgvzrZUq"
      },
      "source": [
        "We remove those columns."
      ]
    },
    {
      "cell_type": "code",
      "metadata": {
        "id": "oT2smczgrZUs"
      },
      "source": [
        "df_loan_accepted_cleaned.drop(columns=['initial_list_status','application_type','disbursement_method'], inplace=True)"
      ],
      "execution_count": 101,
      "outputs": []
    },
    {
      "cell_type": "markdown",
      "metadata": {
        "id": "IKcbc_1PrZUu"
      },
      "source": [
        "## Loan Followup"
      ]
    },
    {
      "cell_type": "markdown",
      "metadata": {
        "id": "CvqotlykrZUw"
      },
      "source": [
        "In this section we manually clean-up the information about the current status of an active loan. These columns tell for example how much was paid back, when the next payment is to be expected etc.\n",
        "\n",
        "For the goal of our project, we will consider `total_rec_late_fee` which indicate that the borrower had issues with paying the installment at some point in the past. This information could help computing the probability of charge-off or default for ongoing loans. \n",
        "\n",
        "We will also consider features such as `last_pymnt_d`, `total_rec_prncp`, `total_rec_int`, `last_pymnt_d` for computing the return of investment for closed loans.\n",
        "\n",
        "We delete the remaining follow-up columns."
      ]
    },
    {
      "cell_type": "code",
      "metadata": {
        "id": "yXSKOU1rrZUw"
      },
      "source": [
        "df_loan_accepted_cleaned.drop(columns=['out_prncp','out_prncp_inv','debt_settlement_flag','pymnt_plan','recoveries','hardship_flag'], inplace=True)"
      ],
      "execution_count": 102,
      "outputs": []
    },
    {
      "cell_type": "markdown",
      "metadata": {
        "id": "KAeC3OaXrZU0"
      },
      "source": [
        "## Borrower demographics\n",
        "\n",
        "In this section we manually clean-up data related to the borrower."
      ]
    },
    {
      "cell_type": "markdown",
      "metadata": {
        "id": "_2Nd9KyBrZU2"
      },
      "source": [
        "**Employment Title**\n",
        "\n",
        "We replace missing employment title by 'N/A'. "
      ]
    },
    {
      "cell_type": "code",
      "metadata": {
        "id": "RxmxgAbIrZU4"
      },
      "source": [
        "df_loan_accepted_cleaned.replace({'emp_title': {np.nan: 'N/A'}}, inplace=True)"
      ],
      "execution_count": 103,
      "outputs": []
    },
    {
      "cell_type": "markdown",
      "metadata": {
        "id": "TEBiQbU6rZU6"
      },
      "source": [
        "**Employment Length**\n",
        "\n",
        "Missing employment length is replaced by 0."
      ]
    },
    {
      "cell_type": "code",
      "metadata": {
        "id": "myttFIpcrZU8"
      },
      "source": [
        "df_loan_accepted_cleaned.emp_length.fillna(value=0,inplace=True)\n",
        "df_loan_accepted_cleaned.emp_length.replace(to_replace='[^0-9]+', value='', inplace=True, regex=True)\n",
        "df_loan_accepted_cleaned.emp_length.replace(to_replace='self-employed', value='0', inplace=True, regex=True)\n",
        "df_loan_accepted_cleaned.emp_length.replace(to_replace='', value='0', inplace=True, regex=True)\n",
        "df_loan_accepted_cleaned.emp_length = df_loan_accepted_cleaned.emp_length.astype(int)"
      ],
      "execution_count": 104,
      "outputs": []
    },
    {
      "cell_type": "markdown",
      "metadata": {
        "id": "95mVtAz2rZVS"
      },
      "source": [
        "**Annual Income**\n",
        "\n",
        "There are too many outliers in `annual_inc`, which should be removed."
      ]
    },
    {
      "cell_type": "code",
      "metadata": {
        "id": "xfiPieG1rZVU",
        "colab": {
          "base_uri": "https://localhost:8080/"
        },
        "outputId": "233737a2-8103-452f-9bdf-8a3b5d8e827e"
      },
      "source": [
        "orig_rows_count = df_loan_accepted_cleaned.shape[0]\n",
        "df_loan_accepted_cleaned = df_loan_accepted_cleaned[~(df_loan_accepted_cleaned.annual_inc > 250000)]\n",
        "print(\"{} rows removed with annual_inc > 250000.\".format(orig_rows_count-df_loan_accepted_cleaned.shape[0]))"
      ],
      "execution_count": 105,
      "outputs": [
        {
          "output_type": "stream",
          "text": [
            "2575 rows removed with annual_inc > 250000.\n"
          ],
          "name": "stdout"
        }
      ]
    },
    {
      "cell_type": "markdown",
      "metadata": {
        "id": "66-G0icfrZVm"
      },
      "source": [
        "## Borrower Financial Profile\n",
        "\n",
        "In this section we clean columns which describe the credit history of the borrower."
      ]
    },
    {
      "cell_type": "markdown",
      "metadata": {
        "id": "6V3trE2urZVq"
      },
      "source": [
        "**Revolving Line Utilization Rate**\n",
        "\n",
        "We remove the '%' sign from the revolving line utilization rate and turn the column to float datatype."
      ]
    },
    {
      "cell_type": "code",
      "metadata": {
        "id": "CmIVQhJ5rZVu"
      },
      "source": [
        "df_loan_accepted_cleaned.revol_util = df_loan_accepted_cleaned.revol_util.fillna('0%')\n",
        "df_loan_accepted_cleaned.revol_util = df_loan_accepted_cleaned.revol_util.str[:,-1]\n",
        "df_loan_accepted_cleaned.revol_util = df_loan_accepted_cleaned.revol_util.astype('float32')"
      ],
      "execution_count": 106,
      "outputs": []
    },
    {
      "cell_type": "markdown",
      "metadata": {
        "id": "TI4895V7rZV0"
      },
      "source": [
        "**Credit History**\n",
        "\n",
        "It is safe to impute missing values for the following columns with zero."
      ]
    },
    {
      "cell_type": "code",
      "metadata": {
        "id": "AWgRS9corZV0"
      },
      "source": [
        "cols = ['dti','delinq_2yrs','inq_last_6mths','mths_since_last_delinq','mths_since_last_record','open_acc','pub_rec','revol_bal','revol_util','total_acc','tot_coll_amt','mort_acc','num_bc_sats','num_bc_tl','num_il_tl','num_op_rev_tl','num_rev_accts','num_rev_tl_bal_gt_0','num_sats','percent_bc_gt_75','pub_rec_bankruptcies','tax_liens','tot_hi_cred_lim','total_bal_ex_mort','total_bc_limit','total_il_high_credit_limit']\n",
        "\n",
        "df_loan_accepted_cleaned[cols] = df_loan_accepted_cleaned[cols].fillna(0)"
      ],
      "execution_count": 107,
      "outputs": []
    },
    {
      "cell_type": "markdown",
      "metadata": {
        "id": "LrCBpdbQrZV8"
      },
      "source": [
        "**Trade Delinquency**\n",
        "\n",
        "The percent of trades never delinquent `pct_tl_nvr_dlq` is set to 100% if it is missing."
      ]
    },
    {
      "cell_type": "code",
      "metadata": {
        "id": "Q7foNcTHrZV-"
      },
      "source": [
        "df_loan_accepted_cleaned.pct_tl_nvr_dlq.fillna(100, inplace=True)"
      ],
      "execution_count": 108,
      "outputs": []
    },
    {
      "cell_type": "markdown",
      "metadata": {
        "id": "sgRYOxa5rZWG"
      },
      "source": [
        "## Borrower Financial Profile Followup"
      ]
    },
    {
      "cell_type": "markdown",
      "metadata": {
        "id": "ddye9G1ArZWO"
      },
      "source": [
        "In this section we manually clean some columns which contain a more current financial information about the borrower."
      ]
    },
    {
      "cell_type": "markdown",
      "metadata": {
        "id": "ZesDdWA-rZWu"
      },
      "source": [
        "`last_credit_pull_d` indicates how old the financial information about the borrower is. It is safe to drop this feature."
      ]
    },
    {
      "cell_type": "code",
      "metadata": {
        "id": "s5LNiv8nrZWw"
      },
      "source": [
        "df_loan_accepted_cleaned.drop(columns=['last_credit_pull_d'], inplace=True)"
      ],
      "execution_count": 109,
      "outputs": []
    },
    {
      "cell_type": "markdown",
      "metadata": {
        "id": "ihQBG1dnrZW4"
      },
      "source": [
        "We will set the ratio of total current balance to high credit/credit limit for all bankcard accounts to 100% when missing."
      ]
    },
    {
      "cell_type": "code",
      "metadata": {
        "id": "oKMJwejkrZW4"
      },
      "source": [
        "df_loan_accepted_cleaned.bc_util.fillna(100, inplace=True)"
      ],
      "execution_count": 110,
      "outputs": []
    },
    {
      "cell_type": "markdown",
      "metadata": {
        "id": "VD07AYvirZW-"
      },
      "source": [
        "It is safe to impute missing values for the remaining columns with zero."
      ]
    },
    {
      "cell_type": "code",
      "metadata": {
        "id": "Dh2L7JOPrZXA"
      },
      "source": [
        "cols = ['collections_12_mths_ex_med','mths_since_last_major_derog','acc_now_delinq','tot_cur_bal','open_acc_6m','open_act_il','open_il_12m','open_il_24m','mths_since_rcnt_il','total_bal_il','il_util','open_rv_12m','open_rv_24m','max_bal_bc','all_util','total_rev_hi_lim','inq_fi','total_cu_tl','inq_last_12m','acc_open_past_24mths','avg_cur_bal','bc_open_to_buy','chargeoff_within_12_mths','delinq_amnt','mo_sin_old_il_acct','mo_sin_old_rev_tl_op','mo_sin_rcnt_rev_tl_op','mo_sin_rcnt_tl','mths_since_recent_bc','mths_since_recent_bc_dlq','mths_since_recent_inq','mths_since_recent_revol_delinq','num_accts_ever_120_pd','num_actv_bc_tl','num_actv_rev_tl','num_tl_120dpd_2m','num_tl_30dpd','num_tl_90g_dpd_24m','num_tl_op_past_12m']\n",
        "\n",
        "df_loan_accepted_cleaned[cols] = df_loan_accepted_cleaned[cols].fillna(0)"
      ],
      "execution_count": 111,
      "outputs": []
    },
    {
      "cell_type": "markdown",
      "metadata": {
        "id": "36Wo3iy-rZXM"
      },
      "source": [
        "## Correlation\n",
        "\n",
        "In this section, we check the correlation between all remaining features."
      ]
    },
    {
      "cell_type": "code",
      "metadata": {
        "id": "-SWq2RilrZXO"
      },
      "source": [
        "def find_high_correlated_features(frame):\n",
        "    new_corr = frame.corr()\n",
        "    new_corr.loc[:,:] = np.tril(new_corr, k=-1) \n",
        "    new_corr = new_corr.stack()\n",
        "    print(new_corr[(new_corr > 0.8) | (new_corr < -0.8)])\n"
      ],
      "execution_count": 112,
      "outputs": []
    },
    {
      "cell_type": "code",
      "metadata": {
        "scrolled": true,
        "id": "lKGVHIrqrZXU",
        "colab": {
          "base_uri": "https://localhost:8080/"
        },
        "outputId": "4ba5d3a2-5213-4ae2-8e88-d8407dfd446f"
      },
      "source": [
        "find_high_correlated_features(df_loan_accepted_cleaned)   "
      ],
      "execution_count": 113,
      "outputs": [
        {
          "output_type": "stream",
          "text": [
            "funded_amnt                 loan_amnt                 0.999794\n",
            "funded_amnt_inv             loan_amnt                 1.000000\n",
            "                            funded_amnt               0.999794\n",
            "installment                 loan_amnt                 0.945700\n",
            "                            funded_amnt               0.946007\n",
            "                            funded_amnt_inv           0.945700\n",
            "fico_range_high             fico_range_low            1.000000\n",
            "total_pymnt_inv             total_pymnt               0.999579\n",
            "total_rec_prncp             total_pymnt               0.965924\n",
            "                            total_pymnt_inv           0.965485\n",
            "last_fico_range_low         last_fico_range_high      0.845682\n",
            "open_rv_24m                 open_rv_12m               0.830432\n",
            "all_util                    il_util                   0.811630\n",
            "avg_cur_bal                 tot_cur_bal               0.825900\n",
            "num_actv_rev_tl             num_actv_bc_tl            0.833767\n",
            "num_bc_sats                 num_actv_bc_tl            0.840164\n",
            "num_op_rev_tl               open_acc                  0.808916\n",
            "                            num_actv_rev_tl           0.813278\n",
            "num_rev_accts               num_bc_tl                 0.853104\n",
            "                            num_op_rev_tl             0.812403\n",
            "num_rev_tl_bal_gt_0         num_actv_bc_tl            0.828414\n",
            "                            num_actv_rev_tl           0.984815\n",
            "                            num_op_rev_tl             0.817187\n",
            "num_sats                    open_acc                  0.959355\n",
            "                            num_op_rev_tl             0.842661\n",
            "num_tl_30dpd                acc_now_delinq            0.824729\n",
            "pub_rec_bankruptcies        mths_since_last_record    0.814066\n",
            "tot_hi_cred_lim             tot_cur_bal               0.982459\n",
            "total_bc_limit              total_rev_hi_lim          0.820937\n",
            "                            bc_open_to_buy            0.855184\n",
            "total_il_high_credit_limit  total_bal_ex_mort         0.887619\n",
            "dtype: float64\n"
          ],
          "name": "stdout"
        }
      ]
    },
    {
      "cell_type": "markdown",
      "metadata": {
        "id": "3zM1VjlSrZXi"
      },
      "source": [
        "As shown above, `installment` carries the same information as the `funded_amnt_in`. Similarly `open_il_24m` and `open_il_12m` are highly correlated. Same for `open_rv_24m` and `open_rv_12m`; `all_util` and `il_util`; `total_rev_hi_lim` and `revol_bal`; `bc_util` and `revol_util`; `avg_cur_bal` and `tot_cur_bal`; `num_actv_bc_tl` and `num_actv_bc_tl`; `num_tl_30dpd` and `acc_now_delinq`. We consider dropping some of those columns below."
      ]
    },
    {
      "cell_type": "code",
      "metadata": {
        "id": "g6LpW3MMrZXm"
      },
      "source": [
        "df_loan_accepted_cleaned.drop(columns=['open_il_12m','open_rv_12m','il_util','revol_bal', \n",
        "                                       'revol_util','avg_cur_bal','num_actv_bc_tl','num_tl_30dpd'], inplace=True)"
      ],
      "execution_count": 114,
      "outputs": []
    },
    {
      "cell_type": "markdown",
      "metadata": {
        "id": "SxKTuwWorZXq"
      },
      "source": [
        "## Census Data\n",
        "\n",
        "After cleaning the loan acceptance data, we will now clean and add census data to it."
      ]
    },
    {
      "cell_type": "markdown",
      "metadata": {
        "id": "1DU78TRirZXw"
      },
      "source": [
        "### Cleaning census data"
      ]
    },
    {
      "cell_type": "code",
      "metadata": {
        "id": "0A6knoYarZX0"
      },
      "source": [
        "df_census_cleaned = df_census.copy()"
      ],
      "execution_count": 115,
      "outputs": []
    },
    {
      "cell_type": "markdown",
      "metadata": {
        "id": "9AwEdC0erZX2"
      },
      "source": [
        "We keep the following columns and remove the rest from the census data."
      ]
    },
    {
      "cell_type": "code",
      "metadata": {
        "id": "25LBBXLVrZX4"
      },
      "source": [
        "census_cols = ['Population', 'zip code tabulation area', 'median_income_2016', \n",
        "               'male_pct', 'female_pct', \n",
        "               'Black_pct', 'Native_pct', 'Asian_pct', 'Hispanic_pct', \n",
        "               'household_family_pct', 'poverty_level_below_pct', 'Graduate_Degree_pct', 'employment_2016_rate']\n",
        "df_census_cleaned = df_census_cleaned[census_cols]"
      ],
      "execution_count": 116,
      "outputs": []
    },
    {
      "cell_type": "markdown",
      "metadata": {
        "id": "l4MY5nStrZYC"
      },
      "source": [
        "We remove rows with median income less than zero."
      ]
    },
    {
      "cell_type": "code",
      "metadata": {
        "id": "ujC1qJJrrZYG"
      },
      "source": [
        "df_census_cleaned = df_census_cleaned[df_census_cleaned.median_income_2016>0]"
      ],
      "execution_count": 117,
      "outputs": []
    },
    {
      "cell_type": "markdown",
      "metadata": {
        "id": "9xGMacSCrZYK"
      },
      "source": [
        "We first fill missing values with zeros in the census dataset."
      ]
    },
    {
      "cell_type": "code",
      "metadata": {
        "id": "CV2Kaj7ErZYK",
        "colab": {
          "base_uri": "https://localhost:8080/"
        },
        "outputId": "6bd96555-7903-4d21-e276-b57032011216"
      },
      "source": [
        "df_census_cleaned.isnull().sum()"
      ],
      "execution_count": 118,
      "outputs": [
        {
          "output_type": "execute_result",
          "data": {
            "text/plain": [
              "Population                  0   \n",
              "zip code tabulation area    0   \n",
              "median_income_2016          0   \n",
              "male_pct                    0   \n",
              "female_pct                  0   \n",
              "Black_pct                   0   \n",
              "Native_pct                  0   \n",
              "Asian_pct                   0   \n",
              "Hispanic_pct                0   \n",
              "household_family_pct        0   \n",
              "poverty_level_below_pct     9760\n",
              "Graduate_Degree_pct         0   \n",
              "employment_2016_rate        0   \n",
              "dtype: int64"
            ]
          },
          "metadata": {
            "tags": []
          },
          "execution_count": 118
        }
      ]
    },
    {
      "cell_type": "code",
      "metadata": {
        "id": "Jc1Nm9bfrZYW"
      },
      "source": [
        "df_census_cleaned.fillna(0, inplace=True)"
      ],
      "execution_count": 119,
      "outputs": []
    },
    {
      "cell_type": "markdown",
      "metadata": {
        "id": "pTV7AdTBrZYY"
      },
      "source": [
        "Add a new column with zip codes in the format 123XX"
      ]
    },
    {
      "cell_type": "code",
      "metadata": {
        "id": "96C5ybVCrZYa"
      },
      "source": [
        "df_census_cleaned['zip_code'] = df_census_cleaned['zip code tabulation area'].astype('str')\n",
        "df_census_cleaned['zip_code'] = df_census_cleaned['zip_code'].str.pad(5, 'left', '0')\n",
        "df_census_cleaned['zip_code'] = df_census_cleaned['zip_code'].str.slice(0,3)\n",
        "df_census_cleaned['zip_code'] = df_census_cleaned['zip_code'].str.pad(5, 'right', 'x')\n",
        "df_census_cleaned.drop(columns=['zip code tabulation area'], inplace=True)"
      ],
      "execution_count": 120,
      "outputs": []
    },
    {
      "cell_type": "markdown",
      "metadata": {
        "id": "LPhp0yYUrZYc"
      },
      "source": [
        "Aggregate by zipcode and take the mean of census values"
      ]
    },
    {
      "cell_type": "code",
      "metadata": {
        "id": "Is7NsZHtrZYc"
      },
      "source": [
        "df_census_cleaned = df_census_cleaned.groupby(['zip_code']).mean().reset_index()"
      ],
      "execution_count": 121,
      "outputs": []
    },
    {
      "cell_type": "code",
      "metadata": {
        "id": "Fhb7NwlzrZYi",
        "colab": {
          "base_uri": "https://localhost:8080/",
          "height": 0
        },
        "outputId": "7b196036-c69d-4283-b1d5-9f8a37f888d8"
      },
      "source": [
        "df_census_cleaned.tail()"
      ],
      "execution_count": 122,
      "outputs": [
        {
          "output_type": "execute_result",
          "data": {
            "text/html": [
              "<div>\n",
              "<style scoped>\n",
              "    .dataframe tbody tr th:only-of-type {\n",
              "        vertical-align: middle;\n",
              "    }\n",
              "\n",
              "    .dataframe tbody tr th {\n",
              "        vertical-align: top;\n",
              "    }\n",
              "\n",
              "    .dataframe thead th {\n",
              "        text-align: right;\n",
              "    }\n",
              "</style>\n",
              "<table border=\"1\" class=\"dataframe\">\n",
              "  <thead>\n",
              "    <tr style=\"text-align: right;\">\n",
              "      <th></th>\n",
              "      <th>zip_code</th>\n",
              "      <th>Population</th>\n",
              "      <th>median_income_2016</th>\n",
              "      <th>male_pct</th>\n",
              "      <th>female_pct</th>\n",
              "      <th>Black_pct</th>\n",
              "      <th>Native_pct</th>\n",
              "      <th>Asian_pct</th>\n",
              "      <th>Hispanic_pct</th>\n",
              "      <th>household_family_pct</th>\n",
              "      <th>poverty_level_below_pct</th>\n",
              "      <th>Graduate_Degree_pct</th>\n",
              "      <th>employment_2016_rate</th>\n",
              "    </tr>\n",
              "  </thead>\n",
              "  <tbody>\n",
              "    <tr>\n",
              "      <th>884</th>\n",
              "      <td>995xx</td>\n",
              "      <td>6268.461538</td>\n",
              "      <td>59252.903846</td>\n",
              "      <td>0.526823</td>\n",
              "      <td>0.473177</td>\n",
              "      <td>0.020715</td>\n",
              "      <td>0.459778</td>\n",
              "      <td>0.040214</td>\n",
              "      <td>0.049570</td>\n",
              "      <td>0.684839</td>\n",
              "      <td>0.063769</td>\n",
              "      <td>0.069403</td>\n",
              "      <td>0.760864</td>\n",
              "    </tr>\n",
              "    <tr>\n",
              "      <th>885</th>\n",
              "      <td>996xx</td>\n",
              "      <td>2560.727273</td>\n",
              "      <td>50849.181818</td>\n",
              "      <td>0.534283</td>\n",
              "      <td>0.465717</td>\n",
              "      <td>0.007251</td>\n",
              "      <td>0.565686</td>\n",
              "      <td>0.034245</td>\n",
              "      <td>0.027964</td>\n",
              "      <td>0.695934</td>\n",
              "      <td>0.089168</td>\n",
              "      <td>0.046758</td>\n",
              "      <td>0.749790</td>\n",
              "    </tr>\n",
              "    <tr>\n",
              "      <th>886</th>\n",
              "      <td>997xx</td>\n",
              "      <td>2019.910448</td>\n",
              "      <td>48305.447761</td>\n",
              "      <td>0.546723</td>\n",
              "      <td>0.453277</td>\n",
              "      <td>0.007017</td>\n",
              "      <td>0.652971</td>\n",
              "      <td>0.010724</td>\n",
              "      <td>0.022896</td>\n",
              "      <td>0.697308</td>\n",
              "      <td>0.029398</td>\n",
              "      <td>0.047139</td>\n",
              "      <td>0.733550</td>\n",
              "    </tr>\n",
              "    <tr>\n",
              "      <th>887</th>\n",
              "      <td>998xx</td>\n",
              "      <td>3639.714286</td>\n",
              "      <td>61540.857143</td>\n",
              "      <td>0.518490</td>\n",
              "      <td>0.481510</td>\n",
              "      <td>0.015683</td>\n",
              "      <td>0.196095</td>\n",
              "      <td>0.031797</td>\n",
              "      <td>0.044007</td>\n",
              "      <td>0.663403</td>\n",
              "      <td>0.036125</td>\n",
              "      <td>0.076276</td>\n",
              "      <td>0.829295</td>\n",
              "    </tr>\n",
              "    <tr>\n",
              "      <th>888</th>\n",
              "      <td>999xx</td>\n",
              "      <td>2420.888889</td>\n",
              "      <td>49593.444444</td>\n",
              "      <td>0.532552</td>\n",
              "      <td>0.467448</td>\n",
              "      <td>0.001796</td>\n",
              "      <td>0.285796</td>\n",
              "      <td>0.015533</td>\n",
              "      <td>0.024939</td>\n",
              "      <td>0.558452</td>\n",
              "      <td>0.123077</td>\n",
              "      <td>0.061948</td>\n",
              "      <td>0.822142</td>\n",
              "    </tr>\n",
              "  </tbody>\n",
              "</table>\n",
              "</div>"
            ],
            "text/plain": [
              "    zip_code   Population  ...  Graduate_Degree_pct  employment_2016_rate\n",
              "884  995xx    6268.461538  ...  0.069403             0.760864            \n",
              "885  996xx    2560.727273  ...  0.046758             0.749790            \n",
              "886  997xx    2019.910448  ...  0.047139             0.733550            \n",
              "887  998xx    3639.714286  ...  0.076276             0.829295            \n",
              "888  999xx    2420.888889  ...  0.061948             0.822142            \n",
              "\n",
              "[5 rows x 13 columns]"
            ]
          },
          "metadata": {
            "tags": []
          },
          "execution_count": 122
        }
      ]
    },
    {
      "cell_type": "markdown",
      "metadata": {
        "id": "t3R7QJJErZYk"
      },
      "source": [
        "### Loan and census data consolidation"
      ]
    },
    {
      "cell_type": "code",
      "metadata": {
        "id": "ckuwdeTSrZYm"
      },
      "source": [
        " df_loan_accepted_census_cleaned = pd.merge(df_loan_accepted_cleaned, df_census_cleaned, on='zip_code')"
      ],
      "execution_count": 123,
      "outputs": []
    },
    {
      "cell_type": "code",
      "metadata": {
        "id": "HVhQ1t2drZYo",
        "colab": {
          "base_uri": "https://localhost:8080/"
        },
        "outputId": "8458af90-004e-4b3c-baa9-3dd1099acdd4"
      },
      "source": [
        "print('The merged loan and census dataset has {} features'.format(df_loan_accepted_census_cleaned.shape[1]))"
      ],
      "execution_count": 124,
      "outputs": [
        {
          "output_type": "stream",
          "text": [
            "The merged loan and census dataset has 109 features\n"
          ],
          "name": "stdout"
        }
      ]
    },
    {
      "cell_type": "markdown",
      "metadata": {
        "id": "Hn5YAdzerZYs"
      },
      "source": [
        "Let's save the final accepted loan dataset augmented with census data to disk."
      ]
    },
    {
      "cell_type": "markdown",
      "metadata": {
        "id": "mZt7cba8rZYs"
      },
      "source": [
        "Merge accepted loan data with census data using the zip code"
      ]
    },
    {
      "cell_type": "code",
      "metadata": {
        "id": "sR41hjKZrZYs"
      },
      "source": [
        "df_loan_accepted_census_cleaned.to_csv('df_loan_accepted_census_cleaned.csv')"
      ],
      "execution_count": null,
      "outputs": []
    },
    {
      "cell_type": "code",
      "metadata": {
        "id": "OYTXBzFWrZZw"
      },
      "source": [
        ""
      ],
      "execution_count": null,
      "outputs": []
    }
  ]
}